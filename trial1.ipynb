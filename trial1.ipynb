{
 "cells": [
  {
   "cell_type": "code",
   "execution_count": 28,
   "metadata": {},
   "outputs": [],
   "source": [
    "from pyspark.sql import *\n",
    "import pandas as pd"
   ]
  },
  {
   "cell_type": "code",
   "execution_count": 29,
   "metadata": {},
   "outputs": [],
   "source": [
    "spark = SparkSession\\\n",
    "            .builder\\\n",
    "            .appName(\"test-app\")\\\n",
    "            .getOrCreate()"
   ]
  },
  {
   "cell_type": "code",
   "execution_count": 38,
   "metadata": {},
   "outputs": [
    {
     "name": "stdout",
     "output_type": "stream",
     "text": [
      "+---------+---+------+\n",
      "|     name|age|gender|\n",
      "+---------+---+------+\n",
      "|   Olivia| 19|FeMale|\n",
      "| Brooklyn| 21|FeMale|\n",
      "|  Addison| 21|FeMale|\n",
      "|     Ella| 22|FeMale|\n",
      "|    Sofia| 22|FeMale|\n",
      "|      joe| 22|  Male|\n",
      "|   Harper| 23|FeMale|\n",
      "|      Zoe| 23|FeMale|\n",
      "|   Violet| 23|FeMale|\n",
      "|   Sophie| 24|FeMale|\n",
      "|     Nora| 24|FeMale|\n",
      "|   Skylar| 24|FeMale|\n",
      "|     Lily| 25|FeMale|\n",
      "|Gabriella| 25|FeMale|\n",
      "|   Amelia| 26|FeMale|\n",
      "|    Bella| 26|FeMale|\n",
      "|   Layton| 26|  Male|\n",
      "|      Ava| 27|FeMale|\n",
      "|   Hannah| 27|FeMale|\n",
      "|     Aria| 27|FeMale|\n",
      "+---------+---+------+\n",
      "only showing top 20 rows\n",
      "\n",
      "+-------------+-----------+\n",
      "|count(gender)|count(name)|\n",
      "+-------------+-----------+\n",
      "|          109|        109|\n",
      "+-------------+-----------+\n",
      "\n"
     ]
    }
   ],
   "source": [
    "df = spark.read.csv(\"./TestData/users.csv\", \n",
    "                            header=\"true\", \n",
    "                            inferSchema=\"true\")\n",
    "\n",
    "df.createOrReplaceTempView(\"users\")\n",
    "df.sort(\"age\",\"gender\").show(truncate=True)\n",
    "df.agg({'gender':'count','name':'count'}).show()\n"
   ]
  },
  {
   "cell_type": "code",
   "execution_count": 37,
   "metadata": {},
   "outputs": [
    {
     "data": {
      "text/html": [
       "<div>\n",
       "<style scoped>\n",
       "    .dataframe tbody tr th:only-of-type {\n",
       "        vertical-align: middle;\n",
       "    }\n",
       "\n",
       "    .dataframe tbody tr th {\n",
       "        vertical-align: top;\n",
       "    }\n",
       "\n",
       "    .dataframe thead th {\n",
       "        text-align: right;\n",
       "    }\n",
       "</style>\n",
       "<table border=\"1\" class=\"dataframe\">\n",
       "  <thead>\n",
       "    <tr style=\"text-align: right;\">\n",
       "      <th></th>\n",
       "      <th>gender</th>\n",
       "      <th>avg_age</th>\n",
       "    </tr>\n",
       "  </thead>\n",
       "  <tbody>\n",
       "    <tr>\n",
       "      <th>0</th>\n",
       "      <td>Male</td>\n",
       "      <td>46.000000</td>\n",
       "    </tr>\n",
       "    <tr>\n",
       "      <th>1</th>\n",
       "      <td>FeMale</td>\n",
       "      <td>31.925926</td>\n",
       "    </tr>\n",
       "  </tbody>\n",
       "</table>\n",
       "</div>"
      ],
      "text/plain": [
       "   gender    avg_age\n",
       "0    Male  46.000000\n",
       "1  FeMale  31.925926"
      ]
     },
     "execution_count": 37,
     "metadata": {},
     "output_type": "execute_result"
    }
   ],
   "source": [
    "sql = \"\"\"\n",
    "SELECT gender, AVG(age) as avg_age\n",
    "FROM users\n",
    "GROUP BY gender\n",
    "\"\"\"\n",
    "query = spark.sql(sql)\n",
    "query.toPandas()\n"
   ]
  }
 ],
 "metadata": {
  "kernelspec": {
   "display_name": "Python 3",
   "language": "python",
   "name": "python3"
  },
  "language_info": {
   "codemirror_mode": {
    "name": "ipython",
    "version": 3
   },
   "file_extension": ".py",
   "mimetype": "text/x-python",
   "name": "python",
   "nbconvert_exporter": "python",
   "pygments_lexer": "ipython3",
   "version": "3.11.3"
  },
  "orig_nbformat": 4
 },
 "nbformat": 4,
 "nbformat_minor": 2
}
