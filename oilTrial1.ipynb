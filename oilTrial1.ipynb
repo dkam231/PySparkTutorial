{
 "cells": [
  {
   "cell_type": "code",
   "execution_count": 1,
   "metadata": {},
   "outputs": [],
   "source": [
    "from pyspark.sql import *\n",
    "import pandas as pd\n",
    "import plotly.graph_objects as go\n",
    "import plotly.express as px\n",
    "import pyspark.sql.functions as F\n",
    "from IPython.display import display\n",
    "from pyspark.sql.functions import to_timestamp\n",
    "import pytz\n",
    "from pyspark.sql.functions import *\n",
    "import plotly.subplots as sp\n"
   ]
  },
  {
   "cell_type": "code",
   "execution_count": 2,
   "metadata": {},
   "outputs": [
    {
     "name": "stderr",
     "output_type": "stream",
     "text": [
      "23/06/12 08:43:20 WARN Utils: Your hostname, Divyams-MacBook-Pro.local resolves to a loopback address: 127.0.0.1; using 10.151.172.44 instead (on interface en0)\n",
      "23/06/12 08:43:20 WARN Utils: Set SPARK_LOCAL_IP if you need to bind to another address\n",
      "Setting default log level to \"WARN\".\n",
      "To adjust logging level use sc.setLogLevel(newLevel). For SparkR, use setLogLevel(newLevel).\n",
      "23/06/12 08:43:21 WARN NativeCodeLoader: Unable to load native-hadoop library for your platform... using builtin-java classes where applicable\n"
     ]
    }
   ],
   "source": [
    "spark = SparkSession.builder.appName(\"test-app\").getOrCreate()"
   ]
  },
  {
   "cell_type": "code",
   "execution_count": 3,
   "metadata": {},
   "outputs": [
    {
     "name": "stdout",
     "output_type": "stream",
     "text": [
      "+-------------------+--------+-----+-------------------+----------------------+----------+\n",
      "|          Timestamp| Well_ID|Stage|Engine_Oil_Pressure|Proppant_Concentration|Fluid_Rate|\n",
      "+-------------------+--------+-----+-------------------+----------------------+----------+\n",
      "|2023-06-08 09:00:00|Well-001|    1|              100.0|                2000.0|     500.0|\n",
      "|2023-06-08 09:30:00|Well-001|    1|              105.0|                2100.0|     550.0|\n",
      "|2023-06-08 10:00:00|Well-001|    1|              102.0|                2200.0|     600.0|\n",
      "|2023-06-08 10:30:00|Well-001|    2|               98.0|                2300.0|     620.0|\n",
      "|2023-06-08 11:00:00|Well-001|    2|              102.0|                2400.0|     650.0|\n",
      "|2023-06-08 11:30:00|Well-001|    2|              100.0|                2500.0|     680.0|\n",
      "|2023-06-08 12:00:00|Well-001|    3|               95.0|                2600.0|     700.0|\n",
      "|2023-06-08 12:30:00|Well-001|    3|               99.0|                2700.0|     730.0|\n",
      "|2023-06-08 13:00:00|Well-001|    3|              103.0|                2800.0|     760.0|\n",
      "|2023-06-08 13:30:00|Well-001|    4|               98.0|                2900.0|     780.0|\n",
      "|2023-06-08 14:00:00|Well-001|    4|              102.0|                3000.0|     810.0|\n",
      "|2023-06-08 14:30:00|Well-001|    4|              100.0|                3100.0|     840.0|\n",
      "|2023-06-08 09:00:00|Well-002|    1|               98.0|                2000.0|     500.0|\n",
      "|2023-06-08 09:30:00|Well-002|    1|              103.0|                2100.0|     550.0|\n",
      "|2023-06-08 10:00:00|Well-002|    1|              100.0|                2200.0|     600.0|\n",
      "|2023-06-08 10:30:00|Well-002|    2|              102.0|                2300.0|     620.0|\n",
      "|2023-06-08 11:00:00|Well-002|    2|               99.0|                2400.0|     650.0|\n",
      "|2023-06-08 11:30:00|Well-002|    2|              104.0|                2500.0|     680.0|\n",
      "|2023-06-08 12:00:00|Well-002|    3|               96.0|                2600.0|     700.0|\n",
      "|2023-06-08 12:30:00|Well-002|    3|              100.0|                2700.0|     730.0|\n",
      "+-------------------+--------+-----+-------------------+----------------------+----------+\n",
      "only showing top 20 rows\n",
      "\n"
     ]
    }
   ],
   "source": [
    "from pyspark.sql.types import StructType, StructField, StringType, TimestampType, DoubleType, IntegerType\n",
    "\n",
    "# Define the explicit schema\n",
    "schema = StructType([\n",
    "    StructField(\"Timestamp\", StringType(), nullable=True),\n",
    "    StructField(\"Well_ID\", StringType(), nullable=True),\n",
    "    StructField(\"Stage\", IntegerType(), nullable=True),\n",
    "    StructField(\"Engine_Oil_Pressure\", DoubleType(), nullable=True),\n",
    "    StructField(\"Proppant_Concentration\", DoubleType(), nullable=True),\n",
    "    StructField(\"Fluid_Rate\", DoubleType(), nullable=True),\n",
    "])\n",
    "\n",
    "# Read the CSV file with the specified schema\n",
    "df = spark.read.csv(\"./TestData/oildata.csv\", header=True, schema=schema)\n",
    "\n",
    "# Create a temporary view\n",
    "df.createOrReplaceTempView(\"data\")\n",
    "\n",
    "# Display the DataFrame\n",
    "df.show()"
   ]
  },
  {
   "cell_type": "code",
   "execution_count": 4,
   "metadata": {},
   "outputs": [
    {
     "data": {
      "text/html": [
       "<div>\n",
       "<style scoped>\n",
       "    .dataframe tbody tr th:only-of-type {\n",
       "        vertical-align: middle;\n",
       "    }\n",
       "\n",
       "    .dataframe tbody tr th {\n",
       "        vertical-align: top;\n",
       "    }\n",
       "\n",
       "    .dataframe thead th {\n",
       "        text-align: right;\n",
       "    }\n",
       "</style>\n",
       "<table border=\"1\" class=\"dataframe\">\n",
       "  <thead>\n",
       "    <tr style=\"text-align: right;\">\n",
       "      <th></th>\n",
       "      <th>Stage</th>\n",
       "      <th>avg_EOP</th>\n",
       "      <th>avg_FR</th>\n",
       "    </tr>\n",
       "  </thead>\n",
       "  <tbody>\n",
       "    <tr>\n",
       "      <th>0</th>\n",
       "      <td>1</td>\n",
       "      <td>100.933333</td>\n",
       "      <td>550.0</td>\n",
       "    </tr>\n",
       "    <tr>\n",
       "      <th>3</th>\n",
       "      <td>2</td>\n",
       "      <td>101.166667</td>\n",
       "      <td>650.0</td>\n",
       "    </tr>\n",
       "    <tr>\n",
       "      <th>1</th>\n",
       "      <td>3</td>\n",
       "      <td>99.900000</td>\n",
       "      <td>730.0</td>\n",
       "    </tr>\n",
       "    <tr>\n",
       "      <th>2</th>\n",
       "      <td>4</td>\n",
       "      <td>100.900000</td>\n",
       "      <td>810.0</td>\n",
       "    </tr>\n",
       "  </tbody>\n",
       "</table>\n",
       "</div>"
      ],
      "text/plain": [
       "   Stage     avg_EOP  avg_FR\n",
       "0      1  100.933333   550.0\n",
       "3      2  101.166667   650.0\n",
       "1      3   99.900000   730.0\n",
       "2      4  100.900000   810.0"
      ]
     },
     "execution_count": 4,
     "metadata": {},
     "output_type": "execute_result"
    }
   ],
   "source": [
    "sql = \"\"\"\n",
    "SELECT Stage, AVG(Engine_Oil_Pressure) as avg_EOP, AVG(Fluid_Rate) as avg_FR\n",
    "FROM data\n",
    "GROUP BY Stage\n",
    "\"\"\"\n",
    "query = spark.sql(sql)\n",
    "query.toPandas().sort_values(by=['Stage'])\n"
   ]
  },
  {
   "cell_type": "code",
   "execution_count": 5,
   "metadata": {},
   "outputs": [
    {
     "ename": "ValueError",
     "evalue": "Mime type rendering requires nbformat>=4.2.0 but it is not installed",
     "output_type": "error",
     "traceback": [
      "\u001b[0;31m---------------------------------------------------------------------------\u001b[0m",
      "\u001b[0;31mValueError\u001b[0m                                Traceback (most recent call last)",
      "File \u001b[0;32m~/Library/Python/3.9/lib/python/site-packages/IPython/core/formatters.py:922\u001b[0m, in \u001b[0;36mIPythonDisplayFormatter.__call__\u001b[0;34m(self, obj)\u001b[0m\n\u001b[1;32m    920\u001b[0m method \u001b[39m=\u001b[39m get_real_method(obj, \u001b[39mself\u001b[39m\u001b[39m.\u001b[39mprint_method)\n\u001b[1;32m    921\u001b[0m \u001b[39mif\u001b[39;00m method \u001b[39mis\u001b[39;00m \u001b[39mnot\u001b[39;00m \u001b[39mNone\u001b[39;00m:\n\u001b[0;32m--> 922\u001b[0m     method()\n\u001b[1;32m    923\u001b[0m     \u001b[39mreturn\u001b[39;00m \u001b[39mTrue\u001b[39;00m\n",
      "File \u001b[0;32m~/Library/Python/3.9/lib/python/site-packages/plotly/basedatatypes.py:834\u001b[0m, in \u001b[0;36mBaseFigure._ipython_display_\u001b[0;34m(self)\u001b[0m\n\u001b[1;32m    831\u001b[0m \u001b[39mimport\u001b[39;00m \u001b[39mplotly\u001b[39;00m\u001b[39m.\u001b[39;00m\u001b[39mio\u001b[39;00m \u001b[39mas\u001b[39;00m \u001b[39mpio\u001b[39;00m\n\u001b[1;32m    833\u001b[0m \u001b[39mif\u001b[39;00m pio\u001b[39m.\u001b[39mrenderers\u001b[39m.\u001b[39mrender_on_display \u001b[39mand\u001b[39;00m pio\u001b[39m.\u001b[39mrenderers\u001b[39m.\u001b[39mdefault:\n\u001b[0;32m--> 834\u001b[0m     pio\u001b[39m.\u001b[39;49mshow(\u001b[39mself\u001b[39;49m)\n\u001b[1;32m    835\u001b[0m \u001b[39melse\u001b[39;00m:\n\u001b[1;32m    836\u001b[0m     \u001b[39mprint\u001b[39m(\u001b[39mrepr\u001b[39m(\u001b[39mself\u001b[39m))\n",
      "File \u001b[0;32m~/Library/Python/3.9/lib/python/site-packages/plotly/io/_renderers.py:396\u001b[0m, in \u001b[0;36mshow\u001b[0;34m(fig, renderer, validate, **kwargs)\u001b[0m\n\u001b[1;32m    391\u001b[0m         \u001b[39mraise\u001b[39;00m \u001b[39mValueError\u001b[39;00m(\n\u001b[1;32m    392\u001b[0m             \u001b[39m\"\u001b[39m\u001b[39mMime type rendering requires ipython but it is not installed\u001b[39m\u001b[39m\"\u001b[39m\n\u001b[1;32m    393\u001b[0m         )\n\u001b[1;32m    395\u001b[0m     \u001b[39mif\u001b[39;00m \u001b[39mnot\u001b[39;00m nbformat \u001b[39mor\u001b[39;00m Version(nbformat\u001b[39m.\u001b[39m__version__) \u001b[39m<\u001b[39m Version(\u001b[39m\"\u001b[39m\u001b[39m4.2.0\u001b[39m\u001b[39m\"\u001b[39m):\n\u001b[0;32m--> 396\u001b[0m         \u001b[39mraise\u001b[39;00m \u001b[39mValueError\u001b[39;00m(\n\u001b[1;32m    397\u001b[0m             \u001b[39m\"\u001b[39m\u001b[39mMime type rendering requires nbformat>=4.2.0 but it is not installed\u001b[39m\u001b[39m\"\u001b[39m\n\u001b[1;32m    398\u001b[0m         )\n\u001b[1;32m    400\u001b[0m     ipython_display\u001b[39m.\u001b[39mdisplay(bundle, raw\u001b[39m=\u001b[39m\u001b[39mTrue\u001b[39;00m)\n\u001b[1;32m    402\u001b[0m \u001b[39m# external renderers\u001b[39;00m\n",
      "\u001b[0;31mValueError\u001b[0m: Mime type rendering requires nbformat>=4.2.0 but it is not installed"
     ]
    },
    {
     "data": {
      "application/vnd.plotly.v1+json": {
       "config": {
        "plotlyServerURL": "https://plot.ly"
       },
       "data": [
        {
         "coloraxis": "coloraxis",
         "hovertemplate": "Stage: %{x}<br>Well_ID: %{y}<br>color: %{z}<extra></extra>",
         "name": "0",
         "type": "heatmap",
         "x": [
          1,
          2,
          3,
          4
         ],
         "xaxis": "x",
         "y": [
          "Well-001",
          "Well-002",
          "Well-003",
          "Well-004",
          "Well-005",
          "Well-006",
          "Well-007",
          "Well-008",
          "Well-009",
          "Well-010"
         ],
         "yaxis": "y",
         "z": [
          [
           26.77272727272727,
           27.080797101449274,
           26.766910866910866,
           26.998464961067853
          ],
          [
           26.249639249639248,
           27.53205072463768,
           27.03725410392077,
           27.268442714126806
          ],
          [
           26.511183261183263,
           27.802850241545894,
           27.307597340930673,
           27.538420467185762
          ],
          [
           25.98809523809524,
           27.26125120772947,
           27.03725410392077,
           27.268442714126806
          ],
          [
           26.77272727272727,
           27.080797101449274,
           26.766910866910866,
           26.998464961067853
          ],
          [
           26.249639249639248,
           27.53205072463768,
           27.03725410392077,
           27.268442714126806
          ],
          [
           26.511183261183263,
           27.802850241545894,
           27.307597340930673,
           27.538420467185762
          ],
          [
           25.98809523809524,
           27.26125120772947,
           27.03725410392077,
           27.268442714126806
          ],
          [
           26.77272727272727,
           27.080797101449274,
           26.766910866910866,
           26.998464961067853
          ],
          [
           26.249639249639248,
           27.53205072463768,
           27.03725410392077,
           27.268442714126806
          ]
         ]
        }
       ],
       "layout": {
        "coloraxis": {
         "colorscale": [
          [
           0,
           "#0d0887"
          ],
          [
           0.1111111111111111,
           "#46039f"
          ],
          [
           0.2222222222222222,
           "#7201a8"
          ],
          [
           0.3333333333333333,
           "#9c179e"
          ],
          [
           0.4444444444444444,
           "#bd3786"
          ],
          [
           0.5555555555555556,
           "#d8576b"
          ],
          [
           0.6666666666666666,
           "#ed7953"
          ],
          [
           0.7777777777777778,
           "#fb9f3a"
          ],
          [
           0.8888888888888888,
           "#fdca26"
          ],
          [
           1,
           "#f0f921"
          ]
         ]
        },
        "margin": {
         "t": 60
        },
        "template": {
         "data": {
          "bar": [
           {
            "error_x": {
             "color": "#2a3f5f"
            },
            "error_y": {
             "color": "#2a3f5f"
            },
            "marker": {
             "line": {
              "color": "#E5ECF6",
              "width": 0.5
             },
             "pattern": {
              "fillmode": "overlay",
              "size": 10,
              "solidity": 0.2
             }
            },
            "type": "bar"
           }
          ],
          "barpolar": [
           {
            "marker": {
             "line": {
              "color": "#E5ECF6",
              "width": 0.5
             },
             "pattern": {
              "fillmode": "overlay",
              "size": 10,
              "solidity": 0.2
             }
            },
            "type": "barpolar"
           }
          ],
          "carpet": [
           {
            "aaxis": {
             "endlinecolor": "#2a3f5f",
             "gridcolor": "white",
             "linecolor": "white",
             "minorgridcolor": "white",
             "startlinecolor": "#2a3f5f"
            },
            "baxis": {
             "endlinecolor": "#2a3f5f",
             "gridcolor": "white",
             "linecolor": "white",
             "minorgridcolor": "white",
             "startlinecolor": "#2a3f5f"
            },
            "type": "carpet"
           }
          ],
          "choropleth": [
           {
            "colorbar": {
             "outlinewidth": 0,
             "ticks": ""
            },
            "type": "choropleth"
           }
          ],
          "contour": [
           {
            "colorbar": {
             "outlinewidth": 0,
             "ticks": ""
            },
            "colorscale": [
             [
              0,
              "#0d0887"
             ],
             [
              0.1111111111111111,
              "#46039f"
             ],
             [
              0.2222222222222222,
              "#7201a8"
             ],
             [
              0.3333333333333333,
              "#9c179e"
             ],
             [
              0.4444444444444444,
              "#bd3786"
             ],
             [
              0.5555555555555556,
              "#d8576b"
             ],
             [
              0.6666666666666666,
              "#ed7953"
             ],
             [
              0.7777777777777778,
              "#fb9f3a"
             ],
             [
              0.8888888888888888,
              "#fdca26"
             ],
             [
              1,
              "#f0f921"
             ]
            ],
            "type": "contour"
           }
          ],
          "contourcarpet": [
           {
            "colorbar": {
             "outlinewidth": 0,
             "ticks": ""
            },
            "type": "contourcarpet"
           }
          ],
          "heatmap": [
           {
            "colorbar": {
             "outlinewidth": 0,
             "ticks": ""
            },
            "colorscale": [
             [
              0,
              "#0d0887"
             ],
             [
              0.1111111111111111,
              "#46039f"
             ],
             [
              0.2222222222222222,
              "#7201a8"
             ],
             [
              0.3333333333333333,
              "#9c179e"
             ],
             [
              0.4444444444444444,
              "#bd3786"
             ],
             [
              0.5555555555555556,
              "#d8576b"
             ],
             [
              0.6666666666666666,
              "#ed7953"
             ],
             [
              0.7777777777777778,
              "#fb9f3a"
             ],
             [
              0.8888888888888888,
              "#fdca26"
             ],
             [
              1,
              "#f0f921"
             ]
            ],
            "type": "heatmap"
           }
          ],
          "heatmapgl": [
           {
            "colorbar": {
             "outlinewidth": 0,
             "ticks": ""
            },
            "colorscale": [
             [
              0,
              "#0d0887"
             ],
             [
              0.1111111111111111,
              "#46039f"
             ],
             [
              0.2222222222222222,
              "#7201a8"
             ],
             [
              0.3333333333333333,
              "#9c179e"
             ],
             [
              0.4444444444444444,
              "#bd3786"
             ],
             [
              0.5555555555555556,
              "#d8576b"
             ],
             [
              0.6666666666666666,
              "#ed7953"
             ],
             [
              0.7777777777777778,
              "#fb9f3a"
             ],
             [
              0.8888888888888888,
              "#fdca26"
             ],
             [
              1,
              "#f0f921"
             ]
            ],
            "type": "heatmapgl"
           }
          ],
          "histogram": [
           {
            "marker": {
             "pattern": {
              "fillmode": "overlay",
              "size": 10,
              "solidity": 0.2
             }
            },
            "type": "histogram"
           }
          ],
          "histogram2d": [
           {
            "colorbar": {
             "outlinewidth": 0,
             "ticks": ""
            },
            "colorscale": [
             [
              0,
              "#0d0887"
             ],
             [
              0.1111111111111111,
              "#46039f"
             ],
             [
              0.2222222222222222,
              "#7201a8"
             ],
             [
              0.3333333333333333,
              "#9c179e"
             ],
             [
              0.4444444444444444,
              "#bd3786"
             ],
             [
              0.5555555555555556,
              "#d8576b"
             ],
             [
              0.6666666666666666,
              "#ed7953"
             ],
             [
              0.7777777777777778,
              "#fb9f3a"
             ],
             [
              0.8888888888888888,
              "#fdca26"
             ],
             [
              1,
              "#f0f921"
             ]
            ],
            "type": "histogram2d"
           }
          ],
          "histogram2dcontour": [
           {
            "colorbar": {
             "outlinewidth": 0,
             "ticks": ""
            },
            "colorscale": [
             [
              0,
              "#0d0887"
             ],
             [
              0.1111111111111111,
              "#46039f"
             ],
             [
              0.2222222222222222,
              "#7201a8"
             ],
             [
              0.3333333333333333,
              "#9c179e"
             ],
             [
              0.4444444444444444,
              "#bd3786"
             ],
             [
              0.5555555555555556,
              "#d8576b"
             ],
             [
              0.6666666666666666,
              "#ed7953"
             ],
             [
              0.7777777777777778,
              "#fb9f3a"
             ],
             [
              0.8888888888888888,
              "#fdca26"
             ],
             [
              1,
              "#f0f921"
             ]
            ],
            "type": "histogram2dcontour"
           }
          ],
          "mesh3d": [
           {
            "colorbar": {
             "outlinewidth": 0,
             "ticks": ""
            },
            "type": "mesh3d"
           }
          ],
          "parcoords": [
           {
            "line": {
             "colorbar": {
              "outlinewidth": 0,
              "ticks": ""
             }
            },
            "type": "parcoords"
           }
          ],
          "pie": [
           {
            "automargin": true,
            "type": "pie"
           }
          ],
          "scatter": [
           {
            "fillpattern": {
             "fillmode": "overlay",
             "size": 10,
             "solidity": 0.2
            },
            "type": "scatter"
           }
          ],
          "scatter3d": [
           {
            "line": {
             "colorbar": {
              "outlinewidth": 0,
              "ticks": ""
             }
            },
            "marker": {
             "colorbar": {
              "outlinewidth": 0,
              "ticks": ""
             }
            },
            "type": "scatter3d"
           }
          ],
          "scattercarpet": [
           {
            "marker": {
             "colorbar": {
              "outlinewidth": 0,
              "ticks": ""
             }
            },
            "type": "scattercarpet"
           }
          ],
          "scattergeo": [
           {
            "marker": {
             "colorbar": {
              "outlinewidth": 0,
              "ticks": ""
             }
            },
            "type": "scattergeo"
           }
          ],
          "scattergl": [
           {
            "marker": {
             "colorbar": {
              "outlinewidth": 0,
              "ticks": ""
             }
            },
            "type": "scattergl"
           }
          ],
          "scattermapbox": [
           {
            "marker": {
             "colorbar": {
              "outlinewidth": 0,
              "ticks": ""
             }
            },
            "type": "scattermapbox"
           }
          ],
          "scatterpolar": [
           {
            "marker": {
             "colorbar": {
              "outlinewidth": 0,
              "ticks": ""
             }
            },
            "type": "scatterpolar"
           }
          ],
          "scatterpolargl": [
           {
            "marker": {
             "colorbar": {
              "outlinewidth": 0,
              "ticks": ""
             }
            },
            "type": "scatterpolargl"
           }
          ],
          "scatterternary": [
           {
            "marker": {
             "colorbar": {
              "outlinewidth": 0,
              "ticks": ""
             }
            },
            "type": "scatterternary"
           }
          ],
          "surface": [
           {
            "colorbar": {
             "outlinewidth": 0,
             "ticks": ""
            },
            "colorscale": [
             [
              0,
              "#0d0887"
             ],
             [
              0.1111111111111111,
              "#46039f"
             ],
             [
              0.2222222222222222,
              "#7201a8"
             ],
             [
              0.3333333333333333,
              "#9c179e"
             ],
             [
              0.4444444444444444,
              "#bd3786"
             ],
             [
              0.5555555555555556,
              "#d8576b"
             ],
             [
              0.6666666666666666,
              "#ed7953"
             ],
             [
              0.7777777777777778,
              "#fb9f3a"
             ],
             [
              0.8888888888888888,
              "#fdca26"
             ],
             [
              1,
              "#f0f921"
             ]
            ],
            "type": "surface"
           }
          ],
          "table": [
           {
            "cells": {
             "fill": {
              "color": "#EBF0F8"
             },
             "line": {
              "color": "white"
             }
            },
            "header": {
             "fill": {
              "color": "#C8D4E3"
             },
             "line": {
              "color": "white"
             }
            },
            "type": "table"
           }
          ]
         },
         "layout": {
          "annotationdefaults": {
           "arrowcolor": "#2a3f5f",
           "arrowhead": 0,
           "arrowwidth": 1
          },
          "autotypenumbers": "strict",
          "coloraxis": {
           "colorbar": {
            "outlinewidth": 0,
            "ticks": ""
           }
          },
          "colorscale": {
           "diverging": [
            [
             0,
             "#8e0152"
            ],
            [
             0.1,
             "#c51b7d"
            ],
            [
             0.2,
             "#de77ae"
            ],
            [
             0.3,
             "#f1b6da"
            ],
            [
             0.4,
             "#fde0ef"
            ],
            [
             0.5,
             "#f7f7f7"
            ],
            [
             0.6,
             "#e6f5d0"
            ],
            [
             0.7,
             "#b8e186"
            ],
            [
             0.8,
             "#7fbc41"
            ],
            [
             0.9,
             "#4d9221"
            ],
            [
             1,
             "#276419"
            ]
           ],
           "sequential": [
            [
             0,
             "#0d0887"
            ],
            [
             0.1111111111111111,
             "#46039f"
            ],
            [
             0.2222222222222222,
             "#7201a8"
            ],
            [
             0.3333333333333333,
             "#9c179e"
            ],
            [
             0.4444444444444444,
             "#bd3786"
            ],
            [
             0.5555555555555556,
             "#d8576b"
            ],
            [
             0.6666666666666666,
             "#ed7953"
            ],
            [
             0.7777777777777778,
             "#fb9f3a"
            ],
            [
             0.8888888888888888,
             "#fdca26"
            ],
            [
             1,
             "#f0f921"
            ]
           ],
           "sequentialminus": [
            [
             0,
             "#0d0887"
            ],
            [
             0.1111111111111111,
             "#46039f"
            ],
            [
             0.2222222222222222,
             "#7201a8"
            ],
            [
             0.3333333333333333,
             "#9c179e"
            ],
            [
             0.4444444444444444,
             "#bd3786"
            ],
            [
             0.5555555555555556,
             "#d8576b"
            ],
            [
             0.6666666666666666,
             "#ed7953"
            ],
            [
             0.7777777777777778,
             "#fb9f3a"
            ],
            [
             0.8888888888888888,
             "#fdca26"
            ],
            [
             1,
             "#f0f921"
            ]
           ]
          },
          "colorway": [
           "#636efa",
           "#EF553B",
           "#00cc96",
           "#ab63fa",
           "#FFA15A",
           "#19d3f3",
           "#FF6692",
           "#B6E880",
           "#FF97FF",
           "#FECB52"
          ],
          "font": {
           "color": "#2a3f5f"
          },
          "geo": {
           "bgcolor": "white",
           "lakecolor": "white",
           "landcolor": "#E5ECF6",
           "showlakes": true,
           "showland": true,
           "subunitcolor": "white"
          },
          "hoverlabel": {
           "align": "left"
          },
          "hovermode": "closest",
          "mapbox": {
           "style": "light"
          },
          "paper_bgcolor": "white",
          "plot_bgcolor": "#E5ECF6",
          "polar": {
           "angularaxis": {
            "gridcolor": "white",
            "linecolor": "white",
            "ticks": ""
           },
           "bgcolor": "#E5ECF6",
           "radialaxis": {
            "gridcolor": "white",
            "linecolor": "white",
            "ticks": ""
           }
          },
          "scene": {
           "xaxis": {
            "backgroundcolor": "#E5ECF6",
            "gridcolor": "white",
            "gridwidth": 2,
            "linecolor": "white",
            "showbackground": true,
            "ticks": "",
            "zerolinecolor": "white"
           },
           "yaxis": {
            "backgroundcolor": "#E5ECF6",
            "gridcolor": "white",
            "gridwidth": 2,
            "linecolor": "white",
            "showbackground": true,
            "ticks": "",
            "zerolinecolor": "white"
           },
           "zaxis": {
            "backgroundcolor": "#E5ECF6",
            "gridcolor": "white",
            "gridwidth": 2,
            "linecolor": "white",
            "showbackground": true,
            "ticks": "",
            "zerolinecolor": "white"
           }
          },
          "shapedefaults": {
           "line": {
            "color": "#2a3f5f"
           }
          },
          "ternary": {
           "aaxis": {
            "gridcolor": "white",
            "linecolor": "white",
            "ticks": ""
           },
           "baxis": {
            "gridcolor": "white",
            "linecolor": "white",
            "ticks": ""
           },
           "bgcolor": "#E5ECF6",
           "caxis": {
            "gridcolor": "white",
            "linecolor": "white",
            "ticks": ""
           }
          },
          "title": {
           "x": 0.05
          },
          "xaxis": {
           "automargin": true,
           "gridcolor": "white",
           "linecolor": "white",
           "ticks": "",
           "title": {
            "standoff": 15
           },
           "zerolinecolor": "white",
           "zerolinewidth": 2
          },
          "yaxis": {
           "automargin": true,
           "gridcolor": "white",
           "linecolor": "white",
           "ticks": "",
           "title": {
            "standoff": 15
           },
           "zerolinecolor": "white",
           "zerolinewidth": 2
          }
         }
        },
        "xaxis": {
         "anchor": "y",
         "constrain": "domain",
         "domain": [
          0,
          1
         ],
         "scaleanchor": "y",
         "title": {
          "text": "Stage"
         }
        },
        "yaxis": {
         "anchor": "x",
         "autorange": "reversed",
         "constrain": "domain",
         "domain": [
          0,
          1
         ],
         "title": {
          "text": "Well_ID"
         }
        }
       }
      },
      "text/html": [
       "<div>                        <script type=\"text/javascript\">window.PlotlyConfig = {MathJaxConfig: 'local'};</script>\n",
       "        <script charset=\"utf-8\" src=\"https://cdn.plot.ly/plotly-2.20.0.min.js\"></script>                <div id=\"998a4f1a-3000-485c-a022-bc955cab16e4\" class=\"plotly-graph-div\" style=\"height:100%; width:100%;\"></div>            <script type=\"text/javascript\">                                    window.PLOTLYENV=window.PLOTLYENV || {};                                    if (document.getElementById(\"998a4f1a-3000-485c-a022-bc955cab16e4\")) {                    Plotly.newPlot(                        \"998a4f1a-3000-485c-a022-bc955cab16e4\",                        [{\"coloraxis\":\"coloraxis\",\"name\":\"0\",\"x\":[1,2,3,4],\"y\":[\"Well-001\",\"Well-002\",\"Well-003\",\"Well-004\",\"Well-005\",\"Well-006\",\"Well-007\",\"Well-008\",\"Well-009\",\"Well-010\"],\"z\":[[26.77272727272727,27.080797101449274,26.766910866910866,26.998464961067853],[26.249639249639248,27.53205072463768,27.03725410392077,27.268442714126806],[26.511183261183263,27.802850241545894,27.307597340930673,27.538420467185762],[25.98809523809524,27.26125120772947,27.03725410392077,27.268442714126806],[26.77272727272727,27.080797101449274,26.766910866910866,26.998464961067853],[26.249639249639248,27.53205072463768,27.03725410392077,27.268442714126806],[26.511183261183263,27.802850241545894,27.307597340930673,27.538420467185762],[25.98809523809524,27.26125120772947,27.03725410392077,27.268442714126806],[26.77272727272727,27.080797101449274,26.766910866910866,26.998464961067853],[26.249639249639248,27.53205072463768,27.03725410392077,27.268442714126806]],\"type\":\"heatmap\",\"xaxis\":\"x\",\"yaxis\":\"y\",\"hovertemplate\":\"Stage: %{x}<br>Well_ID: %{y}<br>color: %{z}<extra></extra>\"}],                        {\"template\":{\"data\":{\"histogram2dcontour\":[{\"type\":\"histogram2dcontour\",\"colorbar\":{\"outlinewidth\":0,\"ticks\":\"\"},\"colorscale\":[[0.0,\"#0d0887\"],[0.1111111111111111,\"#46039f\"],[0.2222222222222222,\"#7201a8\"],[0.3333333333333333,\"#9c179e\"],[0.4444444444444444,\"#bd3786\"],[0.5555555555555556,\"#d8576b\"],[0.6666666666666666,\"#ed7953\"],[0.7777777777777778,\"#fb9f3a\"],[0.8888888888888888,\"#fdca26\"],[1.0,\"#f0f921\"]]}],\"choropleth\":[{\"type\":\"choropleth\",\"colorbar\":{\"outlinewidth\":0,\"ticks\":\"\"}}],\"histogram2d\":[{\"type\":\"histogram2d\",\"colorbar\":{\"outlinewidth\":0,\"ticks\":\"\"},\"colorscale\":[[0.0,\"#0d0887\"],[0.1111111111111111,\"#46039f\"],[0.2222222222222222,\"#7201a8\"],[0.3333333333333333,\"#9c179e\"],[0.4444444444444444,\"#bd3786\"],[0.5555555555555556,\"#d8576b\"],[0.6666666666666666,\"#ed7953\"],[0.7777777777777778,\"#fb9f3a\"],[0.8888888888888888,\"#fdca26\"],[1.0,\"#f0f921\"]]}],\"heatmap\":[{\"type\":\"heatmap\",\"colorbar\":{\"outlinewidth\":0,\"ticks\":\"\"},\"colorscale\":[[0.0,\"#0d0887\"],[0.1111111111111111,\"#46039f\"],[0.2222222222222222,\"#7201a8\"],[0.3333333333333333,\"#9c179e\"],[0.4444444444444444,\"#bd3786\"],[0.5555555555555556,\"#d8576b\"],[0.6666666666666666,\"#ed7953\"],[0.7777777777777778,\"#fb9f3a\"],[0.8888888888888888,\"#fdca26\"],[1.0,\"#f0f921\"]]}],\"heatmapgl\":[{\"type\":\"heatmapgl\",\"colorbar\":{\"outlinewidth\":0,\"ticks\":\"\"},\"colorscale\":[[0.0,\"#0d0887\"],[0.1111111111111111,\"#46039f\"],[0.2222222222222222,\"#7201a8\"],[0.3333333333333333,\"#9c179e\"],[0.4444444444444444,\"#bd3786\"],[0.5555555555555556,\"#d8576b\"],[0.6666666666666666,\"#ed7953\"],[0.7777777777777778,\"#fb9f3a\"],[0.8888888888888888,\"#fdca26\"],[1.0,\"#f0f921\"]]}],\"contourcarpet\":[{\"type\":\"contourcarpet\",\"colorbar\":{\"outlinewidth\":0,\"ticks\":\"\"}}],\"contour\":[{\"type\":\"contour\",\"colorbar\":{\"outlinewidth\":0,\"ticks\":\"\"},\"colorscale\":[[0.0,\"#0d0887\"],[0.1111111111111111,\"#46039f\"],[0.2222222222222222,\"#7201a8\"],[0.3333333333333333,\"#9c179e\"],[0.4444444444444444,\"#bd3786\"],[0.5555555555555556,\"#d8576b\"],[0.6666666666666666,\"#ed7953\"],[0.7777777777777778,\"#fb9f3a\"],[0.8888888888888888,\"#fdca26\"],[1.0,\"#f0f921\"]]}],\"surface\":[{\"type\":\"surface\",\"colorbar\":{\"outlinewidth\":0,\"ticks\":\"\"},\"colorscale\":[[0.0,\"#0d0887\"],[0.1111111111111111,\"#46039f\"],[0.2222222222222222,\"#7201a8\"],[0.3333333333333333,\"#9c179e\"],[0.4444444444444444,\"#bd3786\"],[0.5555555555555556,\"#d8576b\"],[0.6666666666666666,\"#ed7953\"],[0.7777777777777778,\"#fb9f3a\"],[0.8888888888888888,\"#fdca26\"],[1.0,\"#f0f921\"]]}],\"mesh3d\":[{\"type\":\"mesh3d\",\"colorbar\":{\"outlinewidth\":0,\"ticks\":\"\"}}],\"scatter\":[{\"fillpattern\":{\"fillmode\":\"overlay\",\"size\":10,\"solidity\":0.2},\"type\":\"scatter\"}],\"parcoords\":[{\"type\":\"parcoords\",\"line\":{\"colorbar\":{\"outlinewidth\":0,\"ticks\":\"\"}}}],\"scatterpolargl\":[{\"type\":\"scatterpolargl\",\"marker\":{\"colorbar\":{\"outlinewidth\":0,\"ticks\":\"\"}}}],\"bar\":[{\"error_x\":{\"color\":\"#2a3f5f\"},\"error_y\":{\"color\":\"#2a3f5f\"},\"marker\":{\"line\":{\"color\":\"#E5ECF6\",\"width\":0.5},\"pattern\":{\"fillmode\":\"overlay\",\"size\":10,\"solidity\":0.2}},\"type\":\"bar\"}],\"scattergeo\":[{\"type\":\"scattergeo\",\"marker\":{\"colorbar\":{\"outlinewidth\":0,\"ticks\":\"\"}}}],\"scatterpolar\":[{\"type\":\"scatterpolar\",\"marker\":{\"colorbar\":{\"outlinewidth\":0,\"ticks\":\"\"}}}],\"histogram\":[{\"marker\":{\"pattern\":{\"fillmode\":\"overlay\",\"size\":10,\"solidity\":0.2}},\"type\":\"histogram\"}],\"scattergl\":[{\"type\":\"scattergl\",\"marker\":{\"colorbar\":{\"outlinewidth\":0,\"ticks\":\"\"}}}],\"scatter3d\":[{\"type\":\"scatter3d\",\"line\":{\"colorbar\":{\"outlinewidth\":0,\"ticks\":\"\"}},\"marker\":{\"colorbar\":{\"outlinewidth\":0,\"ticks\":\"\"}}}],\"scattermapbox\":[{\"type\":\"scattermapbox\",\"marker\":{\"colorbar\":{\"outlinewidth\":0,\"ticks\":\"\"}}}],\"scatterternary\":[{\"type\":\"scatterternary\",\"marker\":{\"colorbar\":{\"outlinewidth\":0,\"ticks\":\"\"}}}],\"scattercarpet\":[{\"type\":\"scattercarpet\",\"marker\":{\"colorbar\":{\"outlinewidth\":0,\"ticks\":\"\"}}}],\"carpet\":[{\"aaxis\":{\"endlinecolor\":\"#2a3f5f\",\"gridcolor\":\"white\",\"linecolor\":\"white\",\"minorgridcolor\":\"white\",\"startlinecolor\":\"#2a3f5f\"},\"baxis\":{\"endlinecolor\":\"#2a3f5f\",\"gridcolor\":\"white\",\"linecolor\":\"white\",\"minorgridcolor\":\"white\",\"startlinecolor\":\"#2a3f5f\"},\"type\":\"carpet\"}],\"table\":[{\"cells\":{\"fill\":{\"color\":\"#EBF0F8\"},\"line\":{\"color\":\"white\"}},\"header\":{\"fill\":{\"color\":\"#C8D4E3\"},\"line\":{\"color\":\"white\"}},\"type\":\"table\"}],\"barpolar\":[{\"marker\":{\"line\":{\"color\":\"#E5ECF6\",\"width\":0.5},\"pattern\":{\"fillmode\":\"overlay\",\"size\":10,\"solidity\":0.2}},\"type\":\"barpolar\"}],\"pie\":[{\"automargin\":true,\"type\":\"pie\"}]},\"layout\":{\"autotypenumbers\":\"strict\",\"colorway\":[\"#636efa\",\"#EF553B\",\"#00cc96\",\"#ab63fa\",\"#FFA15A\",\"#19d3f3\",\"#FF6692\",\"#B6E880\",\"#FF97FF\",\"#FECB52\"],\"font\":{\"color\":\"#2a3f5f\"},\"hovermode\":\"closest\",\"hoverlabel\":{\"align\":\"left\"},\"paper_bgcolor\":\"white\",\"plot_bgcolor\":\"#E5ECF6\",\"polar\":{\"bgcolor\":\"#E5ECF6\",\"angularaxis\":{\"gridcolor\":\"white\",\"linecolor\":\"white\",\"ticks\":\"\"},\"radialaxis\":{\"gridcolor\":\"white\",\"linecolor\":\"white\",\"ticks\":\"\"}},\"ternary\":{\"bgcolor\":\"#E5ECF6\",\"aaxis\":{\"gridcolor\":\"white\",\"linecolor\":\"white\",\"ticks\":\"\"},\"baxis\":{\"gridcolor\":\"white\",\"linecolor\":\"white\",\"ticks\":\"\"},\"caxis\":{\"gridcolor\":\"white\",\"linecolor\":\"white\",\"ticks\":\"\"}},\"coloraxis\":{\"colorbar\":{\"outlinewidth\":0,\"ticks\":\"\"}},\"colorscale\":{\"sequential\":[[0.0,\"#0d0887\"],[0.1111111111111111,\"#46039f\"],[0.2222222222222222,\"#7201a8\"],[0.3333333333333333,\"#9c179e\"],[0.4444444444444444,\"#bd3786\"],[0.5555555555555556,\"#d8576b\"],[0.6666666666666666,\"#ed7953\"],[0.7777777777777778,\"#fb9f3a\"],[0.8888888888888888,\"#fdca26\"],[1.0,\"#f0f921\"]],\"sequentialminus\":[[0.0,\"#0d0887\"],[0.1111111111111111,\"#46039f\"],[0.2222222222222222,\"#7201a8\"],[0.3333333333333333,\"#9c179e\"],[0.4444444444444444,\"#bd3786\"],[0.5555555555555556,\"#d8576b\"],[0.6666666666666666,\"#ed7953\"],[0.7777777777777778,\"#fb9f3a\"],[0.8888888888888888,\"#fdca26\"],[1.0,\"#f0f921\"]],\"diverging\":[[0,\"#8e0152\"],[0.1,\"#c51b7d\"],[0.2,\"#de77ae\"],[0.3,\"#f1b6da\"],[0.4,\"#fde0ef\"],[0.5,\"#f7f7f7\"],[0.6,\"#e6f5d0\"],[0.7,\"#b8e186\"],[0.8,\"#7fbc41\"],[0.9,\"#4d9221\"],[1,\"#276419\"]]},\"xaxis\":{\"gridcolor\":\"white\",\"linecolor\":\"white\",\"ticks\":\"\",\"title\":{\"standoff\":15},\"zerolinecolor\":\"white\",\"automargin\":true,\"zerolinewidth\":2},\"yaxis\":{\"gridcolor\":\"white\",\"linecolor\":\"white\",\"ticks\":\"\",\"title\":{\"standoff\":15},\"zerolinecolor\":\"white\",\"automargin\":true,\"zerolinewidth\":2},\"scene\":{\"xaxis\":{\"backgroundcolor\":\"#E5ECF6\",\"gridcolor\":\"white\",\"linecolor\":\"white\",\"showbackground\":true,\"ticks\":\"\",\"zerolinecolor\":\"white\",\"gridwidth\":2},\"yaxis\":{\"backgroundcolor\":\"#E5ECF6\",\"gridcolor\":\"white\",\"linecolor\":\"white\",\"showbackground\":true,\"ticks\":\"\",\"zerolinecolor\":\"white\",\"gridwidth\":2},\"zaxis\":{\"backgroundcolor\":\"#E5ECF6\",\"gridcolor\":\"white\",\"linecolor\":\"white\",\"showbackground\":true,\"ticks\":\"\",\"zerolinecolor\":\"white\",\"gridwidth\":2}},\"shapedefaults\":{\"line\":{\"color\":\"#2a3f5f\"}},\"annotationdefaults\":{\"arrowcolor\":\"#2a3f5f\",\"arrowhead\":0,\"arrowwidth\":1},\"geo\":{\"bgcolor\":\"white\",\"landcolor\":\"#E5ECF6\",\"subunitcolor\":\"white\",\"showland\":true,\"showlakes\":true,\"lakecolor\":\"white\"},\"title\":{\"x\":0.05},\"mapbox\":{\"style\":\"light\"}}},\"xaxis\":{\"anchor\":\"y\",\"domain\":[0.0,1.0],\"scaleanchor\":\"y\",\"constrain\":\"domain\",\"title\":{\"text\":\"Stage\"}},\"yaxis\":{\"anchor\":\"x\",\"domain\":[0.0,1.0],\"autorange\":\"reversed\",\"constrain\":\"domain\",\"title\":{\"text\":\"Well_ID\"}},\"coloraxis\":{\"colorscale\":[[0.0,\"#0d0887\"],[0.1111111111111111,\"#46039f\"],[0.2222222222222222,\"#7201a8\"],[0.3333333333333333,\"#9c179e\"],[0.4444444444444444,\"#bd3786\"],[0.5555555555555556,\"#d8576b\"],[0.6666666666666666,\"#ed7953\"],[0.7777777777777778,\"#fb9f3a\"],[0.8888888888888888,\"#fdca26\"],[1.0,\"#f0f921\"]]},\"margin\":{\"t\":60}},                        {\"responsive\": true}                    )                };                            </script>        </div>"
      ],
      "text/plain": [
       "Figure({\n",
       "    'data': [{'coloraxis': 'coloraxis',\n",
       "              'hovertemplate': 'Stage: %{x}<br>Well_ID: %{y}<br>color: %{z}<extra></extra>',\n",
       "              'name': '0',\n",
       "              'type': 'heatmap',\n",
       "              'x': array([1, 2, 3, 4], dtype=int32),\n",
       "              'xaxis': 'x',\n",
       "              'y': array(['Well-001', 'Well-002', 'Well-003', 'Well-004', 'Well-005', 'Well-006',\n",
       "                          'Well-007', 'Well-008', 'Well-009', 'Well-010'], dtype=object),\n",
       "              'yaxis': 'y',\n",
       "              'z': array([[26.77272727, 27.0807971 , 26.76691087, 26.99846496],\n",
       "                          [26.24963925, 27.53205072, 27.0372541 , 27.26844271],\n",
       "                          [26.51118326, 27.80285024, 27.30759734, 27.53842047],\n",
       "                          [25.98809524, 27.26125121, 27.0372541 , 27.26844271],\n",
       "                          [26.77272727, 27.0807971 , 26.76691087, 26.99846496],\n",
       "                          [26.24963925, 27.53205072, 27.0372541 , 27.26844271],\n",
       "                          [26.51118326, 27.80285024, 27.30759734, 27.53842047],\n",
       "                          [25.98809524, 27.26125121, 27.0372541 , 27.26844271],\n",
       "                          [26.77272727, 27.0807971 , 26.76691087, 26.99846496],\n",
       "                          [26.24963925, 27.53205072, 27.0372541 , 27.26844271]])}],\n",
       "    'layout': {'coloraxis': {'colorscale': [[0.0, '#0d0887'], [0.1111111111111111,\n",
       "                                            '#46039f'], [0.2222222222222222,\n",
       "                                            '#7201a8'], [0.3333333333333333,\n",
       "                                            '#9c179e'], [0.4444444444444444,\n",
       "                                            '#bd3786'], [0.5555555555555556,\n",
       "                                            '#d8576b'], [0.6666666666666666,\n",
       "                                            '#ed7953'], [0.7777777777777778,\n",
       "                                            '#fb9f3a'], [0.8888888888888888,\n",
       "                                            '#fdca26'], [1.0, '#f0f921']]},\n",
       "               'margin': {'t': 60},\n",
       "               'template': '...',\n",
       "               'xaxis': {'anchor': 'y',\n",
       "                         'constrain': 'domain',\n",
       "                         'domain': [0.0, 1.0],\n",
       "                         'scaleanchor': 'y',\n",
       "                         'title': {'text': 'Stage'}},\n",
       "               'yaxis': {'anchor': 'x',\n",
       "                         'autorange': 'reversed',\n",
       "                         'constrain': 'domain',\n",
       "                         'domain': [0.0, 1.0],\n",
       "                         'title': {'text': 'Well_ID'}}}\n",
       "})"
      ]
     },
     "metadata": {},
     "output_type": "display_data"
    }
   ],
   "source": [
    "result_df=df.select('Engine_Oil_Pressure', 'Proppant_Concentration', 'Fluid_Rate', 'Well_ID','Stage')\n",
    "result_df=result_df.toPandas()\n",
    "result_df['Combined_Value'] = (result_df['Engine_Oil_Pressure'] * result_df['Fluid_Rate']) / result_df['Proppant_Concentration'] #moles*psi/liter\n",
    "result_pivot = result_df.pivot_table(index='Well_ID', columns='Stage', values='Combined_Value', aggfunc='mean')\n",
    "fig = px.imshow(result_pivot)\n",
    "display(fig)\n"
   ]
  },
  {
   "cell_type": "code",
   "execution_count": 6,
   "metadata": {},
   "outputs": [
    {
     "ename": "ValueError",
     "evalue": "Mime type rendering requires nbformat>=4.2.0 but it is not installed",
     "output_type": "error",
     "traceback": [
      "\u001b[0;31m---------------------------------------------------------------------------\u001b[0m",
      "\u001b[0;31mValueError\u001b[0m                                Traceback (most recent call last)",
      "File \u001b[0;32m~/Library/Python/3.9/lib/python/site-packages/IPython/core/formatters.py:922\u001b[0m, in \u001b[0;36mIPythonDisplayFormatter.__call__\u001b[0;34m(self, obj)\u001b[0m\n\u001b[1;32m    920\u001b[0m method \u001b[39m=\u001b[39m get_real_method(obj, \u001b[39mself\u001b[39m\u001b[39m.\u001b[39mprint_method)\n\u001b[1;32m    921\u001b[0m \u001b[39mif\u001b[39;00m method \u001b[39mis\u001b[39;00m \u001b[39mnot\u001b[39;00m \u001b[39mNone\u001b[39;00m:\n\u001b[0;32m--> 922\u001b[0m     method()\n\u001b[1;32m    923\u001b[0m     \u001b[39mreturn\u001b[39;00m \u001b[39mTrue\u001b[39;00m\n",
      "File \u001b[0;32m~/Library/Python/3.9/lib/python/site-packages/plotly/basedatatypes.py:834\u001b[0m, in \u001b[0;36mBaseFigure._ipython_display_\u001b[0;34m(self)\u001b[0m\n\u001b[1;32m    831\u001b[0m \u001b[39mimport\u001b[39;00m \u001b[39mplotly\u001b[39;00m\u001b[39m.\u001b[39;00m\u001b[39mio\u001b[39;00m \u001b[39mas\u001b[39;00m \u001b[39mpio\u001b[39;00m\n\u001b[1;32m    833\u001b[0m \u001b[39mif\u001b[39;00m pio\u001b[39m.\u001b[39mrenderers\u001b[39m.\u001b[39mrender_on_display \u001b[39mand\u001b[39;00m pio\u001b[39m.\u001b[39mrenderers\u001b[39m.\u001b[39mdefault:\n\u001b[0;32m--> 834\u001b[0m     pio\u001b[39m.\u001b[39;49mshow(\u001b[39mself\u001b[39;49m)\n\u001b[1;32m    835\u001b[0m \u001b[39melse\u001b[39;00m:\n\u001b[1;32m    836\u001b[0m     \u001b[39mprint\u001b[39m(\u001b[39mrepr\u001b[39m(\u001b[39mself\u001b[39m))\n",
      "File \u001b[0;32m~/Library/Python/3.9/lib/python/site-packages/plotly/io/_renderers.py:396\u001b[0m, in \u001b[0;36mshow\u001b[0;34m(fig, renderer, validate, **kwargs)\u001b[0m\n\u001b[1;32m    391\u001b[0m         \u001b[39mraise\u001b[39;00m \u001b[39mValueError\u001b[39;00m(\n\u001b[1;32m    392\u001b[0m             \u001b[39m\"\u001b[39m\u001b[39mMime type rendering requires ipython but it is not installed\u001b[39m\u001b[39m\"\u001b[39m\n\u001b[1;32m    393\u001b[0m         )\n\u001b[1;32m    395\u001b[0m     \u001b[39mif\u001b[39;00m \u001b[39mnot\u001b[39;00m nbformat \u001b[39mor\u001b[39;00m Version(nbformat\u001b[39m.\u001b[39m__version__) \u001b[39m<\u001b[39m Version(\u001b[39m\"\u001b[39m\u001b[39m4.2.0\u001b[39m\u001b[39m\"\u001b[39m):\n\u001b[0;32m--> 396\u001b[0m         \u001b[39mraise\u001b[39;00m \u001b[39mValueError\u001b[39;00m(\n\u001b[1;32m    397\u001b[0m             \u001b[39m\"\u001b[39m\u001b[39mMime type rendering requires nbformat>=4.2.0 but it is not installed\u001b[39m\u001b[39m\"\u001b[39m\n\u001b[1;32m    398\u001b[0m         )\n\u001b[1;32m    400\u001b[0m     ipython_display\u001b[39m.\u001b[39mdisplay(bundle, raw\u001b[39m=\u001b[39m\u001b[39mTrue\u001b[39;00m)\n\u001b[1;32m    402\u001b[0m \u001b[39m# external renderers\u001b[39;00m\n",
      "\u001b[0;31mValueError\u001b[0m: Mime type rendering requires nbformat>=4.2.0 but it is not installed"
     ]
    },
    {
     "data": {
      "application/vnd.plotly.v1+json": {
       "config": {
        "plotlyServerURL": "https://plot.ly"
       },
       "data": [
        {
         "mode": "lines",
         "name": "Fluid Rate (Well-010)",
         "type": "scatter",
         "x": [
          "2023-06-08 09:00:00",
          "2023-06-08 09:30:00",
          "2023-06-08 10:00:00",
          "2023-06-08 10:30:00",
          "2023-06-08 11:00:00",
          "2023-06-08 11:30:00",
          "2023-06-08 12:00:00",
          "2023-06-08 12:30:00",
          "2023-06-08 13:00:00",
          "2023-06-08 13:30:00",
          "2023-06-08 14:00:00",
          "2023-06-08 14:30:00"
         ],
         "y": [
          500,
          550,
          600,
          620,
          650,
          680,
          700,
          730,
          760,
          780,
          810,
          840
         ]
        },
        {
         "marker": {
          "color": [
           "rgb(102, 197, 204)",
           "rgb(102, 197, 204)",
           "rgb(102, 197, 204)",
           "rgb(102, 197, 204)",
           "rgb(102, 197, 204)",
           "rgb(102, 197, 204)",
           "rgb(102, 197, 204)",
           "rgb(102, 197, 204)",
           "rgb(102, 197, 204)",
           "rgb(102, 197, 204)",
           "rgb(102, 197, 204)",
           "rgb(102, 197, 204)",
           "rgb(246, 207, 113)",
           "rgb(246, 207, 113)",
           "rgb(246, 207, 113)",
           "rgb(246, 207, 113)",
           "rgb(246, 207, 113)",
           "rgb(246, 207, 113)",
           "rgb(246, 207, 113)",
           "rgb(246, 207, 113)",
           "rgb(246, 207, 113)",
           "rgb(246, 207, 113)",
           "rgb(246, 207, 113)",
           "rgb(246, 207, 113)",
           "rgb(248, 156, 116)",
           "rgb(248, 156, 116)",
           "rgb(248, 156, 116)",
           "rgb(248, 156, 116)",
           "rgb(248, 156, 116)",
           "rgb(248, 156, 116)",
           "rgb(248, 156, 116)",
           "rgb(248, 156, 116)",
           "rgb(248, 156, 116)",
           "rgb(248, 156, 116)",
           "rgb(248, 156, 116)",
           "rgb(248, 156, 116)",
           "rgb(220, 176, 242)",
           "rgb(220, 176, 242)",
           "rgb(220, 176, 242)",
           "rgb(220, 176, 242)",
           "rgb(220, 176, 242)",
           "rgb(220, 176, 242)",
           "rgb(220, 176, 242)",
           "rgb(220, 176, 242)",
           "rgb(220, 176, 242)",
           "rgb(220, 176, 242)",
           "rgb(220, 176, 242)",
           "rgb(220, 176, 242)",
           "rgb(135, 197, 95)",
           "rgb(135, 197, 95)",
           "rgb(135, 197, 95)",
           "rgb(135, 197, 95)",
           "rgb(135, 197, 95)",
           "rgb(135, 197, 95)",
           "rgb(135, 197, 95)",
           "rgb(135, 197, 95)",
           "rgb(135, 197, 95)",
           "rgb(135, 197, 95)",
           "rgb(135, 197, 95)",
           "rgb(135, 197, 95)",
           "rgb(158, 185, 243)",
           "rgb(158, 185, 243)",
           "rgb(158, 185, 243)",
           "rgb(158, 185, 243)",
           "rgb(158, 185, 243)",
           "rgb(158, 185, 243)",
           "rgb(158, 185, 243)",
           "rgb(158, 185, 243)",
           "rgb(158, 185, 243)",
           "rgb(158, 185, 243)",
           "rgb(158, 185, 243)",
           "rgb(158, 185, 243)",
           "rgb(254, 136, 177)",
           "rgb(254, 136, 177)",
           "rgb(254, 136, 177)",
           "rgb(254, 136, 177)",
           "rgb(254, 136, 177)",
           "rgb(254, 136, 177)",
           "rgb(254, 136, 177)",
           "rgb(254, 136, 177)",
           "rgb(254, 136, 177)",
           "rgb(254, 136, 177)",
           "rgb(254, 136, 177)",
           "rgb(254, 136, 177)",
           "rgb(201, 219, 116)",
           "rgb(201, 219, 116)",
           "rgb(201, 219, 116)",
           "rgb(201, 219, 116)",
           "rgb(201, 219, 116)",
           "rgb(201, 219, 116)",
           "rgb(201, 219, 116)",
           "rgb(201, 219, 116)",
           "rgb(201, 219, 116)",
           "rgb(201, 219, 116)",
           "rgb(201, 219, 116)",
           "rgb(201, 219, 116)",
           "rgb(139, 224, 164)",
           "rgb(139, 224, 164)",
           "rgb(139, 224, 164)",
           "rgb(139, 224, 164)",
           "rgb(139, 224, 164)",
           "rgb(139, 224, 164)",
           "rgb(139, 224, 164)",
           "rgb(139, 224, 164)",
           "rgb(139, 224, 164)",
           "rgb(139, 224, 164)",
           "rgb(139, 224, 164)",
           "rgb(139, 224, 164)",
           "rgb(180, 151, 231)",
           "rgb(180, 151, 231)",
           "rgb(180, 151, 231)",
           "rgb(180, 151, 231)",
           "rgb(180, 151, 231)",
           "rgb(180, 151, 231)",
           "rgb(180, 151, 231)",
           "rgb(180, 151, 231)",
           "rgb(180, 151, 231)",
           "rgb(180, 151, 231)",
           "rgb(180, 151, 231)",
           "rgb(180, 151, 231)"
          ]
         },
         "name": "Engine Oil Pressure",
         "type": "bar",
         "x": [
          "2023-06-08 09:00:00",
          "2023-06-08 09:30:00",
          "2023-06-08 10:00:00",
          "2023-06-08 10:30:00",
          "2023-06-08 11:00:00",
          "2023-06-08 11:30:00",
          "2023-06-08 12:00:00",
          "2023-06-08 12:30:00",
          "2023-06-08 13:00:00",
          "2023-06-08 13:30:00",
          "2023-06-08 14:00:00",
          "2023-06-08 14:30:00",
          "2023-06-08 09:00:00",
          "2023-06-08 09:30:00",
          "2023-06-08 10:00:00",
          "2023-06-08 10:30:00",
          "2023-06-08 11:00:00",
          "2023-06-08 11:30:00",
          "2023-06-08 12:00:00",
          "2023-06-08 12:30:00",
          "2023-06-08 13:00:00",
          "2023-06-08 13:30:00",
          "2023-06-08 14:00:00",
          "2023-06-08 14:30:00",
          "2023-06-08 09:00:00",
          "2023-06-08 09:30:00",
          "2023-06-08 10:00:00",
          "2023-06-08 10:30:00",
          "2023-06-08 11:00:00",
          "2023-06-08 11:30:00",
          "2023-06-08 12:00:00",
          "2023-06-08 12:30:00",
          "2023-06-08 13:00:00",
          "2023-06-08 13:30:00",
          "2023-06-08 14:00:00",
          "2023-06-08 14:30:00",
          "2023-06-08 09:00:00",
          "2023-06-08 09:30:00",
          "2023-06-08 10:00:00",
          "2023-06-08 10:30:00",
          "2023-06-08 11:00:00",
          "2023-06-08 11:30:00",
          "2023-06-08 12:00:00",
          "2023-06-08 12:30:00",
          "2023-06-08 13:00:00",
          "2023-06-08 13:30:00",
          "2023-06-08 14:00:00",
          "2023-06-08 14:30:00",
          "2023-06-08 09:00:00",
          "2023-06-08 09:30:00",
          "2023-06-08 10:00:00",
          "2023-06-08 10:30:00",
          "2023-06-08 11:00:00",
          "2023-06-08 11:30:00",
          "2023-06-08 12:00:00",
          "2023-06-08 12:30:00",
          "2023-06-08 13:00:00",
          "2023-06-08 13:30:00",
          "2023-06-08 14:00:00",
          "2023-06-08 14:30:00",
          "2023-06-08 09:00:00",
          "2023-06-08 09:30:00",
          "2023-06-08 10:00:00",
          "2023-06-08 10:30:00",
          "2023-06-08 11:00:00",
          "2023-06-08 11:30:00",
          "2023-06-08 12:00:00",
          "2023-06-08 12:30:00",
          "2023-06-08 13:00:00",
          "2023-06-08 13:30:00",
          "2023-06-08 14:00:00",
          "2023-06-08 14:30:00",
          "2023-06-08 09:00:00",
          "2023-06-08 09:30:00",
          "2023-06-08 10:00:00",
          "2023-06-08 10:30:00",
          "2023-06-08 11:00:00",
          "2023-06-08 11:30:00",
          "2023-06-08 12:00:00",
          "2023-06-08 12:30:00",
          "2023-06-08 13:00:00",
          "2023-06-08 13:30:00",
          "2023-06-08 14:00:00",
          "2023-06-08 14:30:00",
          "2023-06-08 09:00:00",
          "2023-06-08 09:30:00",
          "2023-06-08 10:00:00",
          "2023-06-08 10:30:00",
          "2023-06-08 11:00:00",
          "2023-06-08 11:30:00",
          "2023-06-08 12:00:00",
          "2023-06-08 12:30:00",
          "2023-06-08 13:00:00",
          "2023-06-08 13:30:00",
          "2023-06-08 14:00:00",
          "2023-06-08 14:30:00",
          "2023-06-08 09:00:00",
          "2023-06-08 09:30:00",
          "2023-06-08 10:00:00",
          "2023-06-08 10:30:00",
          "2023-06-08 11:00:00",
          "2023-06-08 11:30:00",
          "2023-06-08 12:00:00",
          "2023-06-08 12:30:00",
          "2023-06-08 13:00:00",
          "2023-06-08 13:30:00",
          "2023-06-08 14:00:00",
          "2023-06-08 14:30:00",
          "2023-06-08 09:00:00",
          "2023-06-08 09:30:00",
          "2023-06-08 10:00:00",
          "2023-06-08 10:30:00",
          "2023-06-08 11:00:00",
          "2023-06-08 11:30:00",
          "2023-06-08 12:00:00",
          "2023-06-08 12:30:00",
          "2023-06-08 13:00:00",
          "2023-06-08 13:30:00",
          "2023-06-08 14:00:00",
          "2023-06-08 14:30:00"
         ],
         "y": [
          100,
          105,
          102,
          98,
          102,
          100,
          95,
          99,
          103,
          98,
          102,
          100,
          98,
          103,
          100,
          102,
          99,
          104,
          96,
          100,
          104,
          99,
          103,
          101,
          99,
          104,
          101,
          103,
          100,
          105,
          97,
          101,
          105,
          100,
          104,
          102,
          97,
          102,
          99,
          101,
          98,
          103,
          96,
          100,
          104,
          99,
          103,
          101,
          100,
          105,
          102,
          98,
          102,
          100,
          95,
          99,
          103,
          98,
          102,
          100,
          98,
          103,
          100,
          102,
          99,
          104,
          96,
          100,
          104,
          99,
          103,
          101,
          99,
          104,
          101,
          103,
          100,
          105,
          97,
          101,
          105,
          100,
          104,
          102,
          97,
          102,
          99,
          101,
          98,
          103,
          96,
          100,
          104,
          99,
          103,
          101,
          100,
          105,
          102,
          98,
          102,
          100,
          95,
          99,
          103,
          98,
          102,
          100,
          98,
          103,
          100,
          102,
          99,
          104,
          96,
          100,
          104,
          99,
          103,
          101
         ],
         "yaxis": "y2"
        }
       ],
       "layout": {
        "legend": {
         "x": 1,
         "y": 1
        },
        "showlegend": true,
        "template": {
         "data": {
          "bar": [
           {
            "error_x": {
             "color": "#2a3f5f"
            },
            "error_y": {
             "color": "#2a3f5f"
            },
            "marker": {
             "line": {
              "color": "#E5ECF6",
              "width": 0.5
             },
             "pattern": {
              "fillmode": "overlay",
              "size": 10,
              "solidity": 0.2
             }
            },
            "type": "bar"
           }
          ],
          "barpolar": [
           {
            "marker": {
             "line": {
              "color": "#E5ECF6",
              "width": 0.5
             },
             "pattern": {
              "fillmode": "overlay",
              "size": 10,
              "solidity": 0.2
             }
            },
            "type": "barpolar"
           }
          ],
          "carpet": [
           {
            "aaxis": {
             "endlinecolor": "#2a3f5f",
             "gridcolor": "white",
             "linecolor": "white",
             "minorgridcolor": "white",
             "startlinecolor": "#2a3f5f"
            },
            "baxis": {
             "endlinecolor": "#2a3f5f",
             "gridcolor": "white",
             "linecolor": "white",
             "minorgridcolor": "white",
             "startlinecolor": "#2a3f5f"
            },
            "type": "carpet"
           }
          ],
          "choropleth": [
           {
            "colorbar": {
             "outlinewidth": 0,
             "ticks": ""
            },
            "type": "choropleth"
           }
          ],
          "contour": [
           {
            "colorbar": {
             "outlinewidth": 0,
             "ticks": ""
            },
            "colorscale": [
             [
              0,
              "#0d0887"
             ],
             [
              0.1111111111111111,
              "#46039f"
             ],
             [
              0.2222222222222222,
              "#7201a8"
             ],
             [
              0.3333333333333333,
              "#9c179e"
             ],
             [
              0.4444444444444444,
              "#bd3786"
             ],
             [
              0.5555555555555556,
              "#d8576b"
             ],
             [
              0.6666666666666666,
              "#ed7953"
             ],
             [
              0.7777777777777778,
              "#fb9f3a"
             ],
             [
              0.8888888888888888,
              "#fdca26"
             ],
             [
              1,
              "#f0f921"
             ]
            ],
            "type": "contour"
           }
          ],
          "contourcarpet": [
           {
            "colorbar": {
             "outlinewidth": 0,
             "ticks": ""
            },
            "type": "contourcarpet"
           }
          ],
          "heatmap": [
           {
            "colorbar": {
             "outlinewidth": 0,
             "ticks": ""
            },
            "colorscale": [
             [
              0,
              "#0d0887"
             ],
             [
              0.1111111111111111,
              "#46039f"
             ],
             [
              0.2222222222222222,
              "#7201a8"
             ],
             [
              0.3333333333333333,
              "#9c179e"
             ],
             [
              0.4444444444444444,
              "#bd3786"
             ],
             [
              0.5555555555555556,
              "#d8576b"
             ],
             [
              0.6666666666666666,
              "#ed7953"
             ],
             [
              0.7777777777777778,
              "#fb9f3a"
             ],
             [
              0.8888888888888888,
              "#fdca26"
             ],
             [
              1,
              "#f0f921"
             ]
            ],
            "type": "heatmap"
           }
          ],
          "heatmapgl": [
           {
            "colorbar": {
             "outlinewidth": 0,
             "ticks": ""
            },
            "colorscale": [
             [
              0,
              "#0d0887"
             ],
             [
              0.1111111111111111,
              "#46039f"
             ],
             [
              0.2222222222222222,
              "#7201a8"
             ],
             [
              0.3333333333333333,
              "#9c179e"
             ],
             [
              0.4444444444444444,
              "#bd3786"
             ],
             [
              0.5555555555555556,
              "#d8576b"
             ],
             [
              0.6666666666666666,
              "#ed7953"
             ],
             [
              0.7777777777777778,
              "#fb9f3a"
             ],
             [
              0.8888888888888888,
              "#fdca26"
             ],
             [
              1,
              "#f0f921"
             ]
            ],
            "type": "heatmapgl"
           }
          ],
          "histogram": [
           {
            "marker": {
             "pattern": {
              "fillmode": "overlay",
              "size": 10,
              "solidity": 0.2
             }
            },
            "type": "histogram"
           }
          ],
          "histogram2d": [
           {
            "colorbar": {
             "outlinewidth": 0,
             "ticks": ""
            },
            "colorscale": [
             [
              0,
              "#0d0887"
             ],
             [
              0.1111111111111111,
              "#46039f"
             ],
             [
              0.2222222222222222,
              "#7201a8"
             ],
             [
              0.3333333333333333,
              "#9c179e"
             ],
             [
              0.4444444444444444,
              "#bd3786"
             ],
             [
              0.5555555555555556,
              "#d8576b"
             ],
             [
              0.6666666666666666,
              "#ed7953"
             ],
             [
              0.7777777777777778,
              "#fb9f3a"
             ],
             [
              0.8888888888888888,
              "#fdca26"
             ],
             [
              1,
              "#f0f921"
             ]
            ],
            "type": "histogram2d"
           }
          ],
          "histogram2dcontour": [
           {
            "colorbar": {
             "outlinewidth": 0,
             "ticks": ""
            },
            "colorscale": [
             [
              0,
              "#0d0887"
             ],
             [
              0.1111111111111111,
              "#46039f"
             ],
             [
              0.2222222222222222,
              "#7201a8"
             ],
             [
              0.3333333333333333,
              "#9c179e"
             ],
             [
              0.4444444444444444,
              "#bd3786"
             ],
             [
              0.5555555555555556,
              "#d8576b"
             ],
             [
              0.6666666666666666,
              "#ed7953"
             ],
             [
              0.7777777777777778,
              "#fb9f3a"
             ],
             [
              0.8888888888888888,
              "#fdca26"
             ],
             [
              1,
              "#f0f921"
             ]
            ],
            "type": "histogram2dcontour"
           }
          ],
          "mesh3d": [
           {
            "colorbar": {
             "outlinewidth": 0,
             "ticks": ""
            },
            "type": "mesh3d"
           }
          ],
          "parcoords": [
           {
            "line": {
             "colorbar": {
              "outlinewidth": 0,
              "ticks": ""
             }
            },
            "type": "parcoords"
           }
          ],
          "pie": [
           {
            "automargin": true,
            "type": "pie"
           }
          ],
          "scatter": [
           {
            "fillpattern": {
             "fillmode": "overlay",
             "size": 10,
             "solidity": 0.2
            },
            "type": "scatter"
           }
          ],
          "scatter3d": [
           {
            "line": {
             "colorbar": {
              "outlinewidth": 0,
              "ticks": ""
             }
            },
            "marker": {
             "colorbar": {
              "outlinewidth": 0,
              "ticks": ""
             }
            },
            "type": "scatter3d"
           }
          ],
          "scattercarpet": [
           {
            "marker": {
             "colorbar": {
              "outlinewidth": 0,
              "ticks": ""
             }
            },
            "type": "scattercarpet"
           }
          ],
          "scattergeo": [
           {
            "marker": {
             "colorbar": {
              "outlinewidth": 0,
              "ticks": ""
             }
            },
            "type": "scattergeo"
           }
          ],
          "scattergl": [
           {
            "marker": {
             "colorbar": {
              "outlinewidth": 0,
              "ticks": ""
             }
            },
            "type": "scattergl"
           }
          ],
          "scattermapbox": [
           {
            "marker": {
             "colorbar": {
              "outlinewidth": 0,
              "ticks": ""
             }
            },
            "type": "scattermapbox"
           }
          ],
          "scatterpolar": [
           {
            "marker": {
             "colorbar": {
              "outlinewidth": 0,
              "ticks": ""
             }
            },
            "type": "scatterpolar"
           }
          ],
          "scatterpolargl": [
           {
            "marker": {
             "colorbar": {
              "outlinewidth": 0,
              "ticks": ""
             }
            },
            "type": "scatterpolargl"
           }
          ],
          "scatterternary": [
           {
            "marker": {
             "colorbar": {
              "outlinewidth": 0,
              "ticks": ""
             }
            },
            "type": "scatterternary"
           }
          ],
          "surface": [
           {
            "colorbar": {
             "outlinewidth": 0,
             "ticks": ""
            },
            "colorscale": [
             [
              0,
              "#0d0887"
             ],
             [
              0.1111111111111111,
              "#46039f"
             ],
             [
              0.2222222222222222,
              "#7201a8"
             ],
             [
              0.3333333333333333,
              "#9c179e"
             ],
             [
              0.4444444444444444,
              "#bd3786"
             ],
             [
              0.5555555555555556,
              "#d8576b"
             ],
             [
              0.6666666666666666,
              "#ed7953"
             ],
             [
              0.7777777777777778,
              "#fb9f3a"
             ],
             [
              0.8888888888888888,
              "#fdca26"
             ],
             [
              1,
              "#f0f921"
             ]
            ],
            "type": "surface"
           }
          ],
          "table": [
           {
            "cells": {
             "fill": {
              "color": "#EBF0F8"
             },
             "line": {
              "color": "white"
             }
            },
            "header": {
             "fill": {
              "color": "#C8D4E3"
             },
             "line": {
              "color": "white"
             }
            },
            "type": "table"
           }
          ]
         },
         "layout": {
          "annotationdefaults": {
           "arrowcolor": "#2a3f5f",
           "arrowhead": 0,
           "arrowwidth": 1
          },
          "autotypenumbers": "strict",
          "coloraxis": {
           "colorbar": {
            "outlinewidth": 0,
            "ticks": ""
           }
          },
          "colorscale": {
           "diverging": [
            [
             0,
             "#8e0152"
            ],
            [
             0.1,
             "#c51b7d"
            ],
            [
             0.2,
             "#de77ae"
            ],
            [
             0.3,
             "#f1b6da"
            ],
            [
             0.4,
             "#fde0ef"
            ],
            [
             0.5,
             "#f7f7f7"
            ],
            [
             0.6,
             "#e6f5d0"
            ],
            [
             0.7,
             "#b8e186"
            ],
            [
             0.8,
             "#7fbc41"
            ],
            [
             0.9,
             "#4d9221"
            ],
            [
             1,
             "#276419"
            ]
           ],
           "sequential": [
            [
             0,
             "#0d0887"
            ],
            [
             0.1111111111111111,
             "#46039f"
            ],
            [
             0.2222222222222222,
             "#7201a8"
            ],
            [
             0.3333333333333333,
             "#9c179e"
            ],
            [
             0.4444444444444444,
             "#bd3786"
            ],
            [
             0.5555555555555556,
             "#d8576b"
            ],
            [
             0.6666666666666666,
             "#ed7953"
            ],
            [
             0.7777777777777778,
             "#fb9f3a"
            ],
            [
             0.8888888888888888,
             "#fdca26"
            ],
            [
             1,
             "#f0f921"
            ]
           ],
           "sequentialminus": [
            [
             0,
             "#0d0887"
            ],
            [
             0.1111111111111111,
             "#46039f"
            ],
            [
             0.2222222222222222,
             "#7201a8"
            ],
            [
             0.3333333333333333,
             "#9c179e"
            ],
            [
             0.4444444444444444,
             "#bd3786"
            ],
            [
             0.5555555555555556,
             "#d8576b"
            ],
            [
             0.6666666666666666,
             "#ed7953"
            ],
            [
             0.7777777777777778,
             "#fb9f3a"
            ],
            [
             0.8888888888888888,
             "#fdca26"
            ],
            [
             1,
             "#f0f921"
            ]
           ]
          },
          "colorway": [
           "#636efa",
           "#EF553B",
           "#00cc96",
           "#ab63fa",
           "#FFA15A",
           "#19d3f3",
           "#FF6692",
           "#B6E880",
           "#FF97FF",
           "#FECB52"
          ],
          "font": {
           "color": "#2a3f5f"
          },
          "geo": {
           "bgcolor": "white",
           "lakecolor": "white",
           "landcolor": "#E5ECF6",
           "showlakes": true,
           "showland": true,
           "subunitcolor": "white"
          },
          "hoverlabel": {
           "align": "left"
          },
          "hovermode": "closest",
          "mapbox": {
           "style": "light"
          },
          "paper_bgcolor": "white",
          "plot_bgcolor": "#E5ECF6",
          "polar": {
           "angularaxis": {
            "gridcolor": "white",
            "linecolor": "white",
            "ticks": ""
           },
           "bgcolor": "#E5ECF6",
           "radialaxis": {
            "gridcolor": "white",
            "linecolor": "white",
            "ticks": ""
           }
          },
          "scene": {
           "xaxis": {
            "backgroundcolor": "#E5ECF6",
            "gridcolor": "white",
            "gridwidth": 2,
            "linecolor": "white",
            "showbackground": true,
            "ticks": "",
            "zerolinecolor": "white"
           },
           "yaxis": {
            "backgroundcolor": "#E5ECF6",
            "gridcolor": "white",
            "gridwidth": 2,
            "linecolor": "white",
            "showbackground": true,
            "ticks": "",
            "zerolinecolor": "white"
           },
           "zaxis": {
            "backgroundcolor": "#E5ECF6",
            "gridcolor": "white",
            "gridwidth": 2,
            "linecolor": "white",
            "showbackground": true,
            "ticks": "",
            "zerolinecolor": "white"
           }
          },
          "shapedefaults": {
           "line": {
            "color": "#2a3f5f"
           }
          },
          "ternary": {
           "aaxis": {
            "gridcolor": "white",
            "linecolor": "white",
            "ticks": ""
           },
           "baxis": {
            "gridcolor": "white",
            "linecolor": "white",
            "ticks": ""
           },
           "bgcolor": "#E5ECF6",
           "caxis": {
            "gridcolor": "white",
            "linecolor": "white",
            "ticks": ""
           }
          },
          "title": {
           "x": 0.05
          },
          "xaxis": {
           "automargin": true,
           "gridcolor": "white",
           "linecolor": "white",
           "ticks": "",
           "title": {
            "standoff": 15
           },
           "zerolinecolor": "white",
           "zerolinewidth": 2
          },
          "yaxis": {
           "automargin": true,
           "gridcolor": "white",
           "linecolor": "white",
           "ticks": "",
           "title": {
            "standoff": 15
           },
           "zerolinecolor": "white",
           "zerolinewidth": 2
          }
         }
        },
        "title": {
         "text": "Well Data"
        },
        "xaxis": {
         "title": {
          "text": "Timestamp"
         }
        },
        "yaxis": {
         "title": {
          "text": "Fluid Rate"
         }
        },
        "yaxis2": {
         "overlaying": "y",
         "side": "right",
         "title": {
          "text": "Engine Oil Pressure"
         }
        }
       }
      },
      "text/html": [
       "<div>                        <script type=\"text/javascript\">window.PlotlyConfig = {MathJaxConfig: 'local'};</script>\n",
       "        <script charset=\"utf-8\" src=\"https://cdn.plot.ly/plotly-2.20.0.min.js\"></script>                <div id=\"4a99b4fc-4617-4cab-bfd3-04833b007b14\" class=\"plotly-graph-div\" style=\"height:100%; width:100%;\"></div>            <script type=\"text/javascript\">                                    window.PLOTLYENV=window.PLOTLYENV || {};                                    if (document.getElementById(\"4a99b4fc-4617-4cab-bfd3-04833b007b14\")) {                    Plotly.newPlot(                        \"4a99b4fc-4617-4cab-bfd3-04833b007b14\",                        [{\"mode\":\"lines\",\"name\":\"Fluid Rate (Well-010)\",\"x\":[\"2023-06-08 09:00:00\",\"2023-06-08 09:30:00\",\"2023-06-08 10:00:00\",\"2023-06-08 10:30:00\",\"2023-06-08 11:00:00\",\"2023-06-08 11:30:00\",\"2023-06-08 12:00:00\",\"2023-06-08 12:30:00\",\"2023-06-08 13:00:00\",\"2023-06-08 13:30:00\",\"2023-06-08 14:00:00\",\"2023-06-08 14:30:00\"],\"y\":[500.0,550.0,600.0,620.0,650.0,680.0,700.0,730.0,760.0,780.0,810.0,840.0],\"type\":\"scatter\"},{\"marker\":{\"color\":[\"rgb(102, 197, 204)\",\"rgb(102, 197, 204)\",\"rgb(102, 197, 204)\",\"rgb(102, 197, 204)\",\"rgb(102, 197, 204)\",\"rgb(102, 197, 204)\",\"rgb(102, 197, 204)\",\"rgb(102, 197, 204)\",\"rgb(102, 197, 204)\",\"rgb(102, 197, 204)\",\"rgb(102, 197, 204)\",\"rgb(102, 197, 204)\",\"rgb(246, 207, 113)\",\"rgb(246, 207, 113)\",\"rgb(246, 207, 113)\",\"rgb(246, 207, 113)\",\"rgb(246, 207, 113)\",\"rgb(246, 207, 113)\",\"rgb(246, 207, 113)\",\"rgb(246, 207, 113)\",\"rgb(246, 207, 113)\",\"rgb(246, 207, 113)\",\"rgb(246, 207, 113)\",\"rgb(246, 207, 113)\",\"rgb(248, 156, 116)\",\"rgb(248, 156, 116)\",\"rgb(248, 156, 116)\",\"rgb(248, 156, 116)\",\"rgb(248, 156, 116)\",\"rgb(248, 156, 116)\",\"rgb(248, 156, 116)\",\"rgb(248, 156, 116)\",\"rgb(248, 156, 116)\",\"rgb(248, 156, 116)\",\"rgb(248, 156, 116)\",\"rgb(248, 156, 116)\",\"rgb(220, 176, 242)\",\"rgb(220, 176, 242)\",\"rgb(220, 176, 242)\",\"rgb(220, 176, 242)\",\"rgb(220, 176, 242)\",\"rgb(220, 176, 242)\",\"rgb(220, 176, 242)\",\"rgb(220, 176, 242)\",\"rgb(220, 176, 242)\",\"rgb(220, 176, 242)\",\"rgb(220, 176, 242)\",\"rgb(220, 176, 242)\",\"rgb(135, 197, 95)\",\"rgb(135, 197, 95)\",\"rgb(135, 197, 95)\",\"rgb(135, 197, 95)\",\"rgb(135, 197, 95)\",\"rgb(135, 197, 95)\",\"rgb(135, 197, 95)\",\"rgb(135, 197, 95)\",\"rgb(135, 197, 95)\",\"rgb(135, 197, 95)\",\"rgb(135, 197, 95)\",\"rgb(135, 197, 95)\",\"rgb(158, 185, 243)\",\"rgb(158, 185, 243)\",\"rgb(158, 185, 243)\",\"rgb(158, 185, 243)\",\"rgb(158, 185, 243)\",\"rgb(158, 185, 243)\",\"rgb(158, 185, 243)\",\"rgb(158, 185, 243)\",\"rgb(158, 185, 243)\",\"rgb(158, 185, 243)\",\"rgb(158, 185, 243)\",\"rgb(158, 185, 243)\",\"rgb(254, 136, 177)\",\"rgb(254, 136, 177)\",\"rgb(254, 136, 177)\",\"rgb(254, 136, 177)\",\"rgb(254, 136, 177)\",\"rgb(254, 136, 177)\",\"rgb(254, 136, 177)\",\"rgb(254, 136, 177)\",\"rgb(254, 136, 177)\",\"rgb(254, 136, 177)\",\"rgb(254, 136, 177)\",\"rgb(254, 136, 177)\",\"rgb(201, 219, 116)\",\"rgb(201, 219, 116)\",\"rgb(201, 219, 116)\",\"rgb(201, 219, 116)\",\"rgb(201, 219, 116)\",\"rgb(201, 219, 116)\",\"rgb(201, 219, 116)\",\"rgb(201, 219, 116)\",\"rgb(201, 219, 116)\",\"rgb(201, 219, 116)\",\"rgb(201, 219, 116)\",\"rgb(201, 219, 116)\",\"rgb(139, 224, 164)\",\"rgb(139, 224, 164)\",\"rgb(139, 224, 164)\",\"rgb(139, 224, 164)\",\"rgb(139, 224, 164)\",\"rgb(139, 224, 164)\",\"rgb(139, 224, 164)\",\"rgb(139, 224, 164)\",\"rgb(139, 224, 164)\",\"rgb(139, 224, 164)\",\"rgb(139, 224, 164)\",\"rgb(139, 224, 164)\",\"rgb(180, 151, 231)\",\"rgb(180, 151, 231)\",\"rgb(180, 151, 231)\",\"rgb(180, 151, 231)\",\"rgb(180, 151, 231)\",\"rgb(180, 151, 231)\",\"rgb(180, 151, 231)\",\"rgb(180, 151, 231)\",\"rgb(180, 151, 231)\",\"rgb(180, 151, 231)\",\"rgb(180, 151, 231)\",\"rgb(180, 151, 231)\"]},\"name\":\"Engine Oil Pressure\",\"x\":[\"2023-06-08 09:00:00\",\"2023-06-08 09:30:00\",\"2023-06-08 10:00:00\",\"2023-06-08 10:30:00\",\"2023-06-08 11:00:00\",\"2023-06-08 11:30:00\",\"2023-06-08 12:00:00\",\"2023-06-08 12:30:00\",\"2023-06-08 13:00:00\",\"2023-06-08 13:30:00\",\"2023-06-08 14:00:00\",\"2023-06-08 14:30:00\",\"2023-06-08 09:00:00\",\"2023-06-08 09:30:00\",\"2023-06-08 10:00:00\",\"2023-06-08 10:30:00\",\"2023-06-08 11:00:00\",\"2023-06-08 11:30:00\",\"2023-06-08 12:00:00\",\"2023-06-08 12:30:00\",\"2023-06-08 13:00:00\",\"2023-06-08 13:30:00\",\"2023-06-08 14:00:00\",\"2023-06-08 14:30:00\",\"2023-06-08 09:00:00\",\"2023-06-08 09:30:00\",\"2023-06-08 10:00:00\",\"2023-06-08 10:30:00\",\"2023-06-08 11:00:00\",\"2023-06-08 11:30:00\",\"2023-06-08 12:00:00\",\"2023-06-08 12:30:00\",\"2023-06-08 13:00:00\",\"2023-06-08 13:30:00\",\"2023-06-08 14:00:00\",\"2023-06-08 14:30:00\",\"2023-06-08 09:00:00\",\"2023-06-08 09:30:00\",\"2023-06-08 10:00:00\",\"2023-06-08 10:30:00\",\"2023-06-08 11:00:00\",\"2023-06-08 11:30:00\",\"2023-06-08 12:00:00\",\"2023-06-08 12:30:00\",\"2023-06-08 13:00:00\",\"2023-06-08 13:30:00\",\"2023-06-08 14:00:00\",\"2023-06-08 14:30:00\",\"2023-06-08 09:00:00\",\"2023-06-08 09:30:00\",\"2023-06-08 10:00:00\",\"2023-06-08 10:30:00\",\"2023-06-08 11:00:00\",\"2023-06-08 11:30:00\",\"2023-06-08 12:00:00\",\"2023-06-08 12:30:00\",\"2023-06-08 13:00:00\",\"2023-06-08 13:30:00\",\"2023-06-08 14:00:00\",\"2023-06-08 14:30:00\",\"2023-06-08 09:00:00\",\"2023-06-08 09:30:00\",\"2023-06-08 10:00:00\",\"2023-06-08 10:30:00\",\"2023-06-08 11:00:00\",\"2023-06-08 11:30:00\",\"2023-06-08 12:00:00\",\"2023-06-08 12:30:00\",\"2023-06-08 13:00:00\",\"2023-06-08 13:30:00\",\"2023-06-08 14:00:00\",\"2023-06-08 14:30:00\",\"2023-06-08 09:00:00\",\"2023-06-08 09:30:00\",\"2023-06-08 10:00:00\",\"2023-06-08 10:30:00\",\"2023-06-08 11:00:00\",\"2023-06-08 11:30:00\",\"2023-06-08 12:00:00\",\"2023-06-08 12:30:00\",\"2023-06-08 13:00:00\",\"2023-06-08 13:30:00\",\"2023-06-08 14:00:00\",\"2023-06-08 14:30:00\",\"2023-06-08 09:00:00\",\"2023-06-08 09:30:00\",\"2023-06-08 10:00:00\",\"2023-06-08 10:30:00\",\"2023-06-08 11:00:00\",\"2023-06-08 11:30:00\",\"2023-06-08 12:00:00\",\"2023-06-08 12:30:00\",\"2023-06-08 13:00:00\",\"2023-06-08 13:30:00\",\"2023-06-08 14:00:00\",\"2023-06-08 14:30:00\",\"2023-06-08 09:00:00\",\"2023-06-08 09:30:00\",\"2023-06-08 10:00:00\",\"2023-06-08 10:30:00\",\"2023-06-08 11:00:00\",\"2023-06-08 11:30:00\",\"2023-06-08 12:00:00\",\"2023-06-08 12:30:00\",\"2023-06-08 13:00:00\",\"2023-06-08 13:30:00\",\"2023-06-08 14:00:00\",\"2023-06-08 14:30:00\",\"2023-06-08 09:00:00\",\"2023-06-08 09:30:00\",\"2023-06-08 10:00:00\",\"2023-06-08 10:30:00\",\"2023-06-08 11:00:00\",\"2023-06-08 11:30:00\",\"2023-06-08 12:00:00\",\"2023-06-08 12:30:00\",\"2023-06-08 13:00:00\",\"2023-06-08 13:30:00\",\"2023-06-08 14:00:00\",\"2023-06-08 14:30:00\"],\"y\":[100.0,105.0,102.0,98.0,102.0,100.0,95.0,99.0,103.0,98.0,102.0,100.0,98.0,103.0,100.0,102.0,99.0,104.0,96.0,100.0,104.0,99.0,103.0,101.0,99.0,104.0,101.0,103.0,100.0,105.0,97.0,101.0,105.0,100.0,104.0,102.0,97.0,102.0,99.0,101.0,98.0,103.0,96.0,100.0,104.0,99.0,103.0,101.0,100.0,105.0,102.0,98.0,102.0,100.0,95.0,99.0,103.0,98.0,102.0,100.0,98.0,103.0,100.0,102.0,99.0,104.0,96.0,100.0,104.0,99.0,103.0,101.0,99.0,104.0,101.0,103.0,100.0,105.0,97.0,101.0,105.0,100.0,104.0,102.0,97.0,102.0,99.0,101.0,98.0,103.0,96.0,100.0,104.0,99.0,103.0,101.0,100.0,105.0,102.0,98.0,102.0,100.0,95.0,99.0,103.0,98.0,102.0,100.0,98.0,103.0,100.0,102.0,99.0,104.0,96.0,100.0,104.0,99.0,103.0,101.0],\"yaxis\":\"y2\",\"type\":\"bar\"}],                        {\"template\":{\"data\":{\"histogram2dcontour\":[{\"type\":\"histogram2dcontour\",\"colorbar\":{\"outlinewidth\":0,\"ticks\":\"\"},\"colorscale\":[[0.0,\"#0d0887\"],[0.1111111111111111,\"#46039f\"],[0.2222222222222222,\"#7201a8\"],[0.3333333333333333,\"#9c179e\"],[0.4444444444444444,\"#bd3786\"],[0.5555555555555556,\"#d8576b\"],[0.6666666666666666,\"#ed7953\"],[0.7777777777777778,\"#fb9f3a\"],[0.8888888888888888,\"#fdca26\"],[1.0,\"#f0f921\"]]}],\"choropleth\":[{\"type\":\"choropleth\",\"colorbar\":{\"outlinewidth\":0,\"ticks\":\"\"}}],\"histogram2d\":[{\"type\":\"histogram2d\",\"colorbar\":{\"outlinewidth\":0,\"ticks\":\"\"},\"colorscale\":[[0.0,\"#0d0887\"],[0.1111111111111111,\"#46039f\"],[0.2222222222222222,\"#7201a8\"],[0.3333333333333333,\"#9c179e\"],[0.4444444444444444,\"#bd3786\"],[0.5555555555555556,\"#d8576b\"],[0.6666666666666666,\"#ed7953\"],[0.7777777777777778,\"#fb9f3a\"],[0.8888888888888888,\"#fdca26\"],[1.0,\"#f0f921\"]]}],\"heatmap\":[{\"type\":\"heatmap\",\"colorbar\":{\"outlinewidth\":0,\"ticks\":\"\"},\"colorscale\":[[0.0,\"#0d0887\"],[0.1111111111111111,\"#46039f\"],[0.2222222222222222,\"#7201a8\"],[0.3333333333333333,\"#9c179e\"],[0.4444444444444444,\"#bd3786\"],[0.5555555555555556,\"#d8576b\"],[0.6666666666666666,\"#ed7953\"],[0.7777777777777778,\"#fb9f3a\"],[0.8888888888888888,\"#fdca26\"],[1.0,\"#f0f921\"]]}],\"heatmapgl\":[{\"type\":\"heatmapgl\",\"colorbar\":{\"outlinewidth\":0,\"ticks\":\"\"},\"colorscale\":[[0.0,\"#0d0887\"],[0.1111111111111111,\"#46039f\"],[0.2222222222222222,\"#7201a8\"],[0.3333333333333333,\"#9c179e\"],[0.4444444444444444,\"#bd3786\"],[0.5555555555555556,\"#d8576b\"],[0.6666666666666666,\"#ed7953\"],[0.7777777777777778,\"#fb9f3a\"],[0.8888888888888888,\"#fdca26\"],[1.0,\"#f0f921\"]]}],\"contourcarpet\":[{\"type\":\"contourcarpet\",\"colorbar\":{\"outlinewidth\":0,\"ticks\":\"\"}}],\"contour\":[{\"type\":\"contour\",\"colorbar\":{\"outlinewidth\":0,\"ticks\":\"\"},\"colorscale\":[[0.0,\"#0d0887\"],[0.1111111111111111,\"#46039f\"],[0.2222222222222222,\"#7201a8\"],[0.3333333333333333,\"#9c179e\"],[0.4444444444444444,\"#bd3786\"],[0.5555555555555556,\"#d8576b\"],[0.6666666666666666,\"#ed7953\"],[0.7777777777777778,\"#fb9f3a\"],[0.8888888888888888,\"#fdca26\"],[1.0,\"#f0f921\"]]}],\"surface\":[{\"type\":\"surface\",\"colorbar\":{\"outlinewidth\":0,\"ticks\":\"\"},\"colorscale\":[[0.0,\"#0d0887\"],[0.1111111111111111,\"#46039f\"],[0.2222222222222222,\"#7201a8\"],[0.3333333333333333,\"#9c179e\"],[0.4444444444444444,\"#bd3786\"],[0.5555555555555556,\"#d8576b\"],[0.6666666666666666,\"#ed7953\"],[0.7777777777777778,\"#fb9f3a\"],[0.8888888888888888,\"#fdca26\"],[1.0,\"#f0f921\"]]}],\"mesh3d\":[{\"type\":\"mesh3d\",\"colorbar\":{\"outlinewidth\":0,\"ticks\":\"\"}}],\"scatter\":[{\"fillpattern\":{\"fillmode\":\"overlay\",\"size\":10,\"solidity\":0.2},\"type\":\"scatter\"}],\"parcoords\":[{\"type\":\"parcoords\",\"line\":{\"colorbar\":{\"outlinewidth\":0,\"ticks\":\"\"}}}],\"scatterpolargl\":[{\"type\":\"scatterpolargl\",\"marker\":{\"colorbar\":{\"outlinewidth\":0,\"ticks\":\"\"}}}],\"bar\":[{\"error_x\":{\"color\":\"#2a3f5f\"},\"error_y\":{\"color\":\"#2a3f5f\"},\"marker\":{\"line\":{\"color\":\"#E5ECF6\",\"width\":0.5},\"pattern\":{\"fillmode\":\"overlay\",\"size\":10,\"solidity\":0.2}},\"type\":\"bar\"}],\"scattergeo\":[{\"type\":\"scattergeo\",\"marker\":{\"colorbar\":{\"outlinewidth\":0,\"ticks\":\"\"}}}],\"scatterpolar\":[{\"type\":\"scatterpolar\",\"marker\":{\"colorbar\":{\"outlinewidth\":0,\"ticks\":\"\"}}}],\"histogram\":[{\"marker\":{\"pattern\":{\"fillmode\":\"overlay\",\"size\":10,\"solidity\":0.2}},\"type\":\"histogram\"}],\"scattergl\":[{\"type\":\"scattergl\",\"marker\":{\"colorbar\":{\"outlinewidth\":0,\"ticks\":\"\"}}}],\"scatter3d\":[{\"type\":\"scatter3d\",\"line\":{\"colorbar\":{\"outlinewidth\":0,\"ticks\":\"\"}},\"marker\":{\"colorbar\":{\"outlinewidth\":0,\"ticks\":\"\"}}}],\"scattermapbox\":[{\"type\":\"scattermapbox\",\"marker\":{\"colorbar\":{\"outlinewidth\":0,\"ticks\":\"\"}}}],\"scatterternary\":[{\"type\":\"scatterternary\",\"marker\":{\"colorbar\":{\"outlinewidth\":0,\"ticks\":\"\"}}}],\"scattercarpet\":[{\"type\":\"scattercarpet\",\"marker\":{\"colorbar\":{\"outlinewidth\":0,\"ticks\":\"\"}}}],\"carpet\":[{\"aaxis\":{\"endlinecolor\":\"#2a3f5f\",\"gridcolor\":\"white\",\"linecolor\":\"white\",\"minorgridcolor\":\"white\",\"startlinecolor\":\"#2a3f5f\"},\"baxis\":{\"endlinecolor\":\"#2a3f5f\",\"gridcolor\":\"white\",\"linecolor\":\"white\",\"minorgridcolor\":\"white\",\"startlinecolor\":\"#2a3f5f\"},\"type\":\"carpet\"}],\"table\":[{\"cells\":{\"fill\":{\"color\":\"#EBF0F8\"},\"line\":{\"color\":\"white\"}},\"header\":{\"fill\":{\"color\":\"#C8D4E3\"},\"line\":{\"color\":\"white\"}},\"type\":\"table\"}],\"barpolar\":[{\"marker\":{\"line\":{\"color\":\"#E5ECF6\",\"width\":0.5},\"pattern\":{\"fillmode\":\"overlay\",\"size\":10,\"solidity\":0.2}},\"type\":\"barpolar\"}],\"pie\":[{\"automargin\":true,\"type\":\"pie\"}]},\"layout\":{\"autotypenumbers\":\"strict\",\"colorway\":[\"#636efa\",\"#EF553B\",\"#00cc96\",\"#ab63fa\",\"#FFA15A\",\"#19d3f3\",\"#FF6692\",\"#B6E880\",\"#FF97FF\",\"#FECB52\"],\"font\":{\"color\":\"#2a3f5f\"},\"hovermode\":\"closest\",\"hoverlabel\":{\"align\":\"left\"},\"paper_bgcolor\":\"white\",\"plot_bgcolor\":\"#E5ECF6\",\"polar\":{\"bgcolor\":\"#E5ECF6\",\"angularaxis\":{\"gridcolor\":\"white\",\"linecolor\":\"white\",\"ticks\":\"\"},\"radialaxis\":{\"gridcolor\":\"white\",\"linecolor\":\"white\",\"ticks\":\"\"}},\"ternary\":{\"bgcolor\":\"#E5ECF6\",\"aaxis\":{\"gridcolor\":\"white\",\"linecolor\":\"white\",\"ticks\":\"\"},\"baxis\":{\"gridcolor\":\"white\",\"linecolor\":\"white\",\"ticks\":\"\"},\"caxis\":{\"gridcolor\":\"white\",\"linecolor\":\"white\",\"ticks\":\"\"}},\"coloraxis\":{\"colorbar\":{\"outlinewidth\":0,\"ticks\":\"\"}},\"colorscale\":{\"sequential\":[[0.0,\"#0d0887\"],[0.1111111111111111,\"#46039f\"],[0.2222222222222222,\"#7201a8\"],[0.3333333333333333,\"#9c179e\"],[0.4444444444444444,\"#bd3786\"],[0.5555555555555556,\"#d8576b\"],[0.6666666666666666,\"#ed7953\"],[0.7777777777777778,\"#fb9f3a\"],[0.8888888888888888,\"#fdca26\"],[1.0,\"#f0f921\"]],\"sequentialminus\":[[0.0,\"#0d0887\"],[0.1111111111111111,\"#46039f\"],[0.2222222222222222,\"#7201a8\"],[0.3333333333333333,\"#9c179e\"],[0.4444444444444444,\"#bd3786\"],[0.5555555555555556,\"#d8576b\"],[0.6666666666666666,\"#ed7953\"],[0.7777777777777778,\"#fb9f3a\"],[0.8888888888888888,\"#fdca26\"],[1.0,\"#f0f921\"]],\"diverging\":[[0,\"#8e0152\"],[0.1,\"#c51b7d\"],[0.2,\"#de77ae\"],[0.3,\"#f1b6da\"],[0.4,\"#fde0ef\"],[0.5,\"#f7f7f7\"],[0.6,\"#e6f5d0\"],[0.7,\"#b8e186\"],[0.8,\"#7fbc41\"],[0.9,\"#4d9221\"],[1,\"#276419\"]]},\"xaxis\":{\"gridcolor\":\"white\",\"linecolor\":\"white\",\"ticks\":\"\",\"title\":{\"standoff\":15},\"zerolinecolor\":\"white\",\"automargin\":true,\"zerolinewidth\":2},\"yaxis\":{\"gridcolor\":\"white\",\"linecolor\":\"white\",\"ticks\":\"\",\"title\":{\"standoff\":15},\"zerolinecolor\":\"white\",\"automargin\":true,\"zerolinewidth\":2},\"scene\":{\"xaxis\":{\"backgroundcolor\":\"#E5ECF6\",\"gridcolor\":\"white\",\"linecolor\":\"white\",\"showbackground\":true,\"ticks\":\"\",\"zerolinecolor\":\"white\",\"gridwidth\":2},\"yaxis\":{\"backgroundcolor\":\"#E5ECF6\",\"gridcolor\":\"white\",\"linecolor\":\"white\",\"showbackground\":true,\"ticks\":\"\",\"zerolinecolor\":\"white\",\"gridwidth\":2},\"zaxis\":{\"backgroundcolor\":\"#E5ECF6\",\"gridcolor\":\"white\",\"linecolor\":\"white\",\"showbackground\":true,\"ticks\":\"\",\"zerolinecolor\":\"white\",\"gridwidth\":2}},\"shapedefaults\":{\"line\":{\"color\":\"#2a3f5f\"}},\"annotationdefaults\":{\"arrowcolor\":\"#2a3f5f\",\"arrowhead\":0,\"arrowwidth\":1},\"geo\":{\"bgcolor\":\"white\",\"landcolor\":\"#E5ECF6\",\"subunitcolor\":\"white\",\"showland\":true,\"showlakes\":true,\"lakecolor\":\"white\"},\"title\":{\"x\":0.05},\"mapbox\":{\"style\":\"light\"}}},\"yaxis2\":{\"title\":{\"text\":\"Engine Oil Pressure\"},\"overlaying\":\"y\",\"side\":\"right\"},\"legend\":{\"x\":1,\"y\":1},\"title\":{\"text\":\"Well Data\"},\"xaxis\":{\"title\":{\"text\":\"Timestamp\"}},\"yaxis\":{\"title\":{\"text\":\"Fluid Rate\"}},\"showlegend\":true},                        {\"responsive\": true}                    )                };                            </script>        </div>"
      ],
      "text/plain": [
       "Figure({\n",
       "    'data': [{'mode': 'lines',\n",
       "              'name': 'Fluid Rate (Well-010)',\n",
       "              'type': 'scatter',\n",
       "              'x': array(['2023-06-08 09:00:00', '2023-06-08 09:30:00', '2023-06-08 10:00:00',\n",
       "                          '2023-06-08 10:30:00', '2023-06-08 11:00:00', '2023-06-08 11:30:00',\n",
       "                          '2023-06-08 12:00:00', '2023-06-08 12:30:00', '2023-06-08 13:00:00',\n",
       "                          '2023-06-08 13:30:00', '2023-06-08 14:00:00', '2023-06-08 14:30:00'],\n",
       "                         dtype=object),\n",
       "              'y': array([500., 550., 600., 620., 650., 680., 700., 730., 760., 780., 810., 840.])},\n",
       "             {'marker': {'color': array(['rgb(102, 197, 204)', 'rgb(102, 197, 204)', 'rgb(102, 197, 204)',\n",
       "                                         'rgb(102, 197, 204)', 'rgb(102, 197, 204)', 'rgb(102, 197, 204)',\n",
       "                                         'rgb(102, 197, 204)', 'rgb(102, 197, 204)', 'rgb(102, 197, 204)',\n",
       "                                         'rgb(102, 197, 204)', 'rgb(102, 197, 204)', 'rgb(102, 197, 204)',\n",
       "                                         'rgb(246, 207, 113)', 'rgb(246, 207, 113)', 'rgb(246, 207, 113)',\n",
       "                                         'rgb(246, 207, 113)', 'rgb(246, 207, 113)', 'rgb(246, 207, 113)',\n",
       "                                         'rgb(246, 207, 113)', 'rgb(246, 207, 113)', 'rgb(246, 207, 113)',\n",
       "                                         'rgb(246, 207, 113)', 'rgb(246, 207, 113)', 'rgb(246, 207, 113)',\n",
       "                                         'rgb(248, 156, 116)', 'rgb(248, 156, 116)', 'rgb(248, 156, 116)',\n",
       "                                         'rgb(248, 156, 116)', 'rgb(248, 156, 116)', 'rgb(248, 156, 116)',\n",
       "                                         'rgb(248, 156, 116)', 'rgb(248, 156, 116)', 'rgb(248, 156, 116)',\n",
       "                                         'rgb(248, 156, 116)', 'rgb(248, 156, 116)', 'rgb(248, 156, 116)',\n",
       "                                         'rgb(220, 176, 242)', 'rgb(220, 176, 242)', 'rgb(220, 176, 242)',\n",
       "                                         'rgb(220, 176, 242)', 'rgb(220, 176, 242)', 'rgb(220, 176, 242)',\n",
       "                                         'rgb(220, 176, 242)', 'rgb(220, 176, 242)', 'rgb(220, 176, 242)',\n",
       "                                         'rgb(220, 176, 242)', 'rgb(220, 176, 242)', 'rgb(220, 176, 242)',\n",
       "                                         'rgb(135, 197, 95)', 'rgb(135, 197, 95)', 'rgb(135, 197, 95)',\n",
       "                                         'rgb(135, 197, 95)', 'rgb(135, 197, 95)', 'rgb(135, 197, 95)',\n",
       "                                         'rgb(135, 197, 95)', 'rgb(135, 197, 95)', 'rgb(135, 197, 95)',\n",
       "                                         'rgb(135, 197, 95)', 'rgb(135, 197, 95)', 'rgb(135, 197, 95)',\n",
       "                                         'rgb(158, 185, 243)', 'rgb(158, 185, 243)', 'rgb(158, 185, 243)',\n",
       "                                         'rgb(158, 185, 243)', 'rgb(158, 185, 243)', 'rgb(158, 185, 243)',\n",
       "                                         'rgb(158, 185, 243)', 'rgb(158, 185, 243)', 'rgb(158, 185, 243)',\n",
       "                                         'rgb(158, 185, 243)', 'rgb(158, 185, 243)', 'rgb(158, 185, 243)',\n",
       "                                         'rgb(254, 136, 177)', 'rgb(254, 136, 177)', 'rgb(254, 136, 177)',\n",
       "                                         'rgb(254, 136, 177)', 'rgb(254, 136, 177)', 'rgb(254, 136, 177)',\n",
       "                                         'rgb(254, 136, 177)', 'rgb(254, 136, 177)', 'rgb(254, 136, 177)',\n",
       "                                         'rgb(254, 136, 177)', 'rgb(254, 136, 177)', 'rgb(254, 136, 177)',\n",
       "                                         'rgb(201, 219, 116)', 'rgb(201, 219, 116)', 'rgb(201, 219, 116)',\n",
       "                                         'rgb(201, 219, 116)', 'rgb(201, 219, 116)', 'rgb(201, 219, 116)',\n",
       "                                         'rgb(201, 219, 116)', 'rgb(201, 219, 116)', 'rgb(201, 219, 116)',\n",
       "                                         'rgb(201, 219, 116)', 'rgb(201, 219, 116)', 'rgb(201, 219, 116)',\n",
       "                                         'rgb(139, 224, 164)', 'rgb(139, 224, 164)', 'rgb(139, 224, 164)',\n",
       "                                         'rgb(139, 224, 164)', 'rgb(139, 224, 164)', 'rgb(139, 224, 164)',\n",
       "                                         'rgb(139, 224, 164)', 'rgb(139, 224, 164)', 'rgb(139, 224, 164)',\n",
       "                                         'rgb(139, 224, 164)', 'rgb(139, 224, 164)', 'rgb(139, 224, 164)',\n",
       "                                         'rgb(180, 151, 231)', 'rgb(180, 151, 231)', 'rgb(180, 151, 231)',\n",
       "                                         'rgb(180, 151, 231)', 'rgb(180, 151, 231)', 'rgb(180, 151, 231)',\n",
       "                                         'rgb(180, 151, 231)', 'rgb(180, 151, 231)', 'rgb(180, 151, 231)',\n",
       "                                         'rgb(180, 151, 231)', 'rgb(180, 151, 231)', 'rgb(180, 151, 231)'],\n",
       "                                        dtype=object)},\n",
       "              'name': 'Engine Oil Pressure',\n",
       "              'type': 'bar',\n",
       "              'x': array(['2023-06-08 09:00:00', '2023-06-08 09:30:00', '2023-06-08 10:00:00',\n",
       "                          '2023-06-08 10:30:00', '2023-06-08 11:00:00', '2023-06-08 11:30:00',\n",
       "                          '2023-06-08 12:00:00', '2023-06-08 12:30:00', '2023-06-08 13:00:00',\n",
       "                          '2023-06-08 13:30:00', '2023-06-08 14:00:00', '2023-06-08 14:30:00',\n",
       "                          '2023-06-08 09:00:00', '2023-06-08 09:30:00', '2023-06-08 10:00:00',\n",
       "                          '2023-06-08 10:30:00', '2023-06-08 11:00:00', '2023-06-08 11:30:00',\n",
       "                          '2023-06-08 12:00:00', '2023-06-08 12:30:00', '2023-06-08 13:00:00',\n",
       "                          '2023-06-08 13:30:00', '2023-06-08 14:00:00', '2023-06-08 14:30:00',\n",
       "                          '2023-06-08 09:00:00', '2023-06-08 09:30:00', '2023-06-08 10:00:00',\n",
       "                          '2023-06-08 10:30:00', '2023-06-08 11:00:00', '2023-06-08 11:30:00',\n",
       "                          '2023-06-08 12:00:00', '2023-06-08 12:30:00', '2023-06-08 13:00:00',\n",
       "                          '2023-06-08 13:30:00', '2023-06-08 14:00:00', '2023-06-08 14:30:00',\n",
       "                          '2023-06-08 09:00:00', '2023-06-08 09:30:00', '2023-06-08 10:00:00',\n",
       "                          '2023-06-08 10:30:00', '2023-06-08 11:00:00', '2023-06-08 11:30:00',\n",
       "                          '2023-06-08 12:00:00', '2023-06-08 12:30:00', '2023-06-08 13:00:00',\n",
       "                          '2023-06-08 13:30:00', '2023-06-08 14:00:00', '2023-06-08 14:30:00',\n",
       "                          '2023-06-08 09:00:00', '2023-06-08 09:30:00', '2023-06-08 10:00:00',\n",
       "                          '2023-06-08 10:30:00', '2023-06-08 11:00:00', '2023-06-08 11:30:00',\n",
       "                          '2023-06-08 12:00:00', '2023-06-08 12:30:00', '2023-06-08 13:00:00',\n",
       "                          '2023-06-08 13:30:00', '2023-06-08 14:00:00', '2023-06-08 14:30:00',\n",
       "                          '2023-06-08 09:00:00', '2023-06-08 09:30:00', '2023-06-08 10:00:00',\n",
       "                          '2023-06-08 10:30:00', '2023-06-08 11:00:00', '2023-06-08 11:30:00',\n",
       "                          '2023-06-08 12:00:00', '2023-06-08 12:30:00', '2023-06-08 13:00:00',\n",
       "                          '2023-06-08 13:30:00', '2023-06-08 14:00:00', '2023-06-08 14:30:00',\n",
       "                          '2023-06-08 09:00:00', '2023-06-08 09:30:00', '2023-06-08 10:00:00',\n",
       "                          '2023-06-08 10:30:00', '2023-06-08 11:00:00', '2023-06-08 11:30:00',\n",
       "                          '2023-06-08 12:00:00', '2023-06-08 12:30:00', '2023-06-08 13:00:00',\n",
       "                          '2023-06-08 13:30:00', '2023-06-08 14:00:00', '2023-06-08 14:30:00',\n",
       "                          '2023-06-08 09:00:00', '2023-06-08 09:30:00', '2023-06-08 10:00:00',\n",
       "                          '2023-06-08 10:30:00', '2023-06-08 11:00:00', '2023-06-08 11:30:00',\n",
       "                          '2023-06-08 12:00:00', '2023-06-08 12:30:00', '2023-06-08 13:00:00',\n",
       "                          '2023-06-08 13:30:00', '2023-06-08 14:00:00', '2023-06-08 14:30:00',\n",
       "                          '2023-06-08 09:00:00', '2023-06-08 09:30:00', '2023-06-08 10:00:00',\n",
       "                          '2023-06-08 10:30:00', '2023-06-08 11:00:00', '2023-06-08 11:30:00',\n",
       "                          '2023-06-08 12:00:00', '2023-06-08 12:30:00', '2023-06-08 13:00:00',\n",
       "                          '2023-06-08 13:30:00', '2023-06-08 14:00:00', '2023-06-08 14:30:00',\n",
       "                          '2023-06-08 09:00:00', '2023-06-08 09:30:00', '2023-06-08 10:00:00',\n",
       "                          '2023-06-08 10:30:00', '2023-06-08 11:00:00', '2023-06-08 11:30:00',\n",
       "                          '2023-06-08 12:00:00', '2023-06-08 12:30:00', '2023-06-08 13:00:00',\n",
       "                          '2023-06-08 13:30:00', '2023-06-08 14:00:00', '2023-06-08 14:30:00'],\n",
       "                         dtype=object),\n",
       "              'y': array([100., 105., 102.,  98., 102., 100.,  95.,  99., 103.,  98., 102., 100.,\n",
       "                           98., 103., 100., 102.,  99., 104.,  96., 100., 104.,  99., 103., 101.,\n",
       "                           99., 104., 101., 103., 100., 105.,  97., 101., 105., 100., 104., 102.,\n",
       "                           97., 102.,  99., 101.,  98., 103.,  96., 100., 104.,  99., 103., 101.,\n",
       "                          100., 105., 102.,  98., 102., 100.,  95.,  99., 103.,  98., 102., 100.,\n",
       "                           98., 103., 100., 102.,  99., 104.,  96., 100., 104.,  99., 103., 101.,\n",
       "                           99., 104., 101., 103., 100., 105.,  97., 101., 105., 100., 104., 102.,\n",
       "                           97., 102.,  99., 101.,  98., 103.,  96., 100., 104.,  99., 103., 101.,\n",
       "                          100., 105., 102.,  98., 102., 100.,  95.,  99., 103.,  98., 102., 100.,\n",
       "                           98., 103., 100., 102.,  99., 104.,  96., 100., 104.,  99., 103., 101.]),\n",
       "              'yaxis': 'y2'}],\n",
       "    'layout': {'legend': {'x': 1, 'y': 1},\n",
       "               'showlegend': True,\n",
       "               'template': '...',\n",
       "               'title': {'text': 'Well Data'},\n",
       "               'xaxis': {'title': {'text': 'Timestamp'}},\n",
       "               'yaxis': {'title': {'text': 'Fluid Rate'}},\n",
       "               'yaxis2': {'overlaying': 'y', 'side': 'right', 'title': {'text': 'Engine Oil Pressure'}}}\n",
       "})"
      ]
     },
     "metadata": {},
     "output_type": "display_data"
    }
   ],
   "source": [
    "data = df.toPandas()\n",
    "\n",
    "# Get unique well IDs\n",
    "unique_well_ids = data['Well_ID'].unique()\n",
    "\n",
    "# Create a dictionary to map each well ID to a color\n",
    "color_map = {well_id: color for well_id, color in zip(unique_well_ids, px.colors.qualitative.Pastel)}\n",
    "\n",
    "# Assign colors based on well ID\n",
    "data['Color'] = data['Well_ID'].map(color_map)\n",
    "\n",
    "fig = go.Figure()\n",
    "# Iterate over each unique well ID\n",
    "for well_id in unique_well_ids:\n",
    "    well_data = data[data['Well_ID'] == well_id]\n",
    "\n",
    "    scatter_trace = go.Scatter(\n",
    "        x=well_data['Timestamp'],\n",
    "        y=well_data['Fluid_Rate'],\n",
    "        mode='lines',\n",
    "        name=f'Fluid Rate ({well_id})'\n",
    "    )\n",
    "    fig.add_trace(scatter_trace)\n",
    "# Create a bar plot for Oil Pressure\n",
    "bar_trace = go.Bar(\n",
    "    x=data['Timestamp'], \n",
    "    y=data['Engine_Oil_Pressure'], \n",
    "    name='Engine Oil Pressure', \n",
    "    yaxis='y2',\n",
    "    marker=dict(color=data['Color'])\n",
    ")\n",
    "\n",
    "# Create the figure and layout\n",
    "fig = go.Figure(data=[scatter_trace, bar_trace])\n",
    "fig.update_layout(\n",
    "    title='Well Data',\n",
    "    xaxis_title='Timestamp',\n",
    "    yaxis=dict(title='Fluid Rate'),\n",
    "    yaxis2=dict(title='Engine Oil Pressure', overlaying='y', side='right'),\n",
    "    legend=dict(x=1, y=1),\n",
    "    showlegend=True\n",
    ")\n",
    "\n",
    "display(fig)"
   ]
  },
  {
   "cell_type": "code",
   "execution_count": 7,
   "metadata": {},
   "outputs": [
    {
     "ename": "ValueError",
     "evalue": "Mime type rendering requires nbformat>=4.2.0 but it is not installed",
     "output_type": "error",
     "traceback": [
      "\u001b[0;31m---------------------------------------------------------------------------\u001b[0m",
      "\u001b[0;31mValueError\u001b[0m                                Traceback (most recent call last)",
      "File \u001b[0;32m~/Library/Python/3.9/lib/python/site-packages/IPython/core/formatters.py:922\u001b[0m, in \u001b[0;36mIPythonDisplayFormatter.__call__\u001b[0;34m(self, obj)\u001b[0m\n\u001b[1;32m    920\u001b[0m method \u001b[39m=\u001b[39m get_real_method(obj, \u001b[39mself\u001b[39m\u001b[39m.\u001b[39mprint_method)\n\u001b[1;32m    921\u001b[0m \u001b[39mif\u001b[39;00m method \u001b[39mis\u001b[39;00m \u001b[39mnot\u001b[39;00m \u001b[39mNone\u001b[39;00m:\n\u001b[0;32m--> 922\u001b[0m     method()\n\u001b[1;32m    923\u001b[0m     \u001b[39mreturn\u001b[39;00m \u001b[39mTrue\u001b[39;00m\n",
      "File \u001b[0;32m~/Library/Python/3.9/lib/python/site-packages/plotly/basedatatypes.py:834\u001b[0m, in \u001b[0;36mBaseFigure._ipython_display_\u001b[0;34m(self)\u001b[0m\n\u001b[1;32m    831\u001b[0m \u001b[39mimport\u001b[39;00m \u001b[39mplotly\u001b[39;00m\u001b[39m.\u001b[39;00m\u001b[39mio\u001b[39;00m \u001b[39mas\u001b[39;00m \u001b[39mpio\u001b[39;00m\n\u001b[1;32m    833\u001b[0m \u001b[39mif\u001b[39;00m pio\u001b[39m.\u001b[39mrenderers\u001b[39m.\u001b[39mrender_on_display \u001b[39mand\u001b[39;00m pio\u001b[39m.\u001b[39mrenderers\u001b[39m.\u001b[39mdefault:\n\u001b[0;32m--> 834\u001b[0m     pio\u001b[39m.\u001b[39;49mshow(\u001b[39mself\u001b[39;49m)\n\u001b[1;32m    835\u001b[0m \u001b[39melse\u001b[39;00m:\n\u001b[1;32m    836\u001b[0m     \u001b[39mprint\u001b[39m(\u001b[39mrepr\u001b[39m(\u001b[39mself\u001b[39m))\n",
      "File \u001b[0;32m~/Library/Python/3.9/lib/python/site-packages/plotly/io/_renderers.py:396\u001b[0m, in \u001b[0;36mshow\u001b[0;34m(fig, renderer, validate, **kwargs)\u001b[0m\n\u001b[1;32m    391\u001b[0m         \u001b[39mraise\u001b[39;00m \u001b[39mValueError\u001b[39;00m(\n\u001b[1;32m    392\u001b[0m             \u001b[39m\"\u001b[39m\u001b[39mMime type rendering requires ipython but it is not installed\u001b[39m\u001b[39m\"\u001b[39m\n\u001b[1;32m    393\u001b[0m         )\n\u001b[1;32m    395\u001b[0m     \u001b[39mif\u001b[39;00m \u001b[39mnot\u001b[39;00m nbformat \u001b[39mor\u001b[39;00m Version(nbformat\u001b[39m.\u001b[39m__version__) \u001b[39m<\u001b[39m Version(\u001b[39m\"\u001b[39m\u001b[39m4.2.0\u001b[39m\u001b[39m\"\u001b[39m):\n\u001b[0;32m--> 396\u001b[0m         \u001b[39mraise\u001b[39;00m \u001b[39mValueError\u001b[39;00m(\n\u001b[1;32m    397\u001b[0m             \u001b[39m\"\u001b[39m\u001b[39mMime type rendering requires nbformat>=4.2.0 but it is not installed\u001b[39m\u001b[39m\"\u001b[39m\n\u001b[1;32m    398\u001b[0m         )\n\u001b[1;32m    400\u001b[0m     ipython_display\u001b[39m.\u001b[39mdisplay(bundle, raw\u001b[39m=\u001b[39m\u001b[39mTrue\u001b[39;00m)\n\u001b[1;32m    402\u001b[0m \u001b[39m# external renderers\u001b[39;00m\n",
      "\u001b[0;31mValueError\u001b[0m: Mime type rendering requires nbformat>=4.2.0 but it is not installed"
     ]
    },
    {
     "data": {
      "application/vnd.plotly.v1+json": {
       "config": {
        "plotlyServerURL": "https://plot.ly"
       },
       "data": [
        {
         "hovertemplate": "Well_ID=Well-001<br>Timestamp=%{x}<br>Engine_Oil_Pressure=%{y}<extra></extra>",
         "legendgroup": "Well-001",
         "line": {
          "color": "#636efa",
          "dash": "solid"
         },
         "marker": {
          "symbol": "circle"
         },
         "mode": "lines",
         "name": "Well-001",
         "orientation": "v",
         "showlegend": true,
         "type": "scatter",
         "x": [
          "2023-06-08 09:00:00",
          "2023-06-08 09:30:00",
          "2023-06-08 10:00:00",
          "2023-06-08 10:30:00",
          "2023-06-08 11:00:00",
          "2023-06-08 11:30:00",
          "2023-06-08 12:00:00",
          "2023-06-08 12:30:00",
          "2023-06-08 13:00:00",
          "2023-06-08 13:30:00",
          "2023-06-08 14:00:00",
          "2023-06-08 14:30:00"
         ],
         "xaxis": "x",
         "y": [
          100,
          105,
          102,
          98,
          102,
          100,
          95,
          99,
          103,
          98,
          102,
          100
         ],
         "yaxis": "y"
        },
        {
         "hovertemplate": "Well_ID=Well-002<br>Timestamp=%{x}<br>Engine_Oil_Pressure=%{y}<extra></extra>",
         "legendgroup": "Well-002",
         "line": {
          "color": "#EF553B",
          "dash": "solid"
         },
         "marker": {
          "symbol": "circle"
         },
         "mode": "lines",
         "name": "Well-002",
         "orientation": "v",
         "showlegend": true,
         "type": "scatter",
         "x": [
          "2023-06-08 09:00:00",
          "2023-06-08 09:30:00",
          "2023-06-08 10:00:00",
          "2023-06-08 10:30:00",
          "2023-06-08 11:00:00",
          "2023-06-08 11:30:00",
          "2023-06-08 12:00:00",
          "2023-06-08 12:30:00",
          "2023-06-08 13:00:00",
          "2023-06-08 13:30:00",
          "2023-06-08 14:00:00",
          "2023-06-08 14:30:00"
         ],
         "xaxis": "x",
         "y": [
          98,
          103,
          100,
          102,
          99,
          104,
          96,
          100,
          104,
          99,
          103,
          101
         ],
         "yaxis": "y"
        },
        {
         "hovertemplate": "Well_ID=Well-003<br>Timestamp=%{x}<br>Engine_Oil_Pressure=%{y}<extra></extra>",
         "legendgroup": "Well-003",
         "line": {
          "color": "#00cc96",
          "dash": "solid"
         },
         "marker": {
          "symbol": "circle"
         },
         "mode": "lines",
         "name": "Well-003",
         "orientation": "v",
         "showlegend": true,
         "type": "scatter",
         "x": [
          "2023-06-08 09:00:00",
          "2023-06-08 09:30:00",
          "2023-06-08 10:00:00",
          "2023-06-08 10:30:00",
          "2023-06-08 11:00:00",
          "2023-06-08 11:30:00",
          "2023-06-08 12:00:00",
          "2023-06-08 12:30:00",
          "2023-06-08 13:00:00",
          "2023-06-08 13:30:00",
          "2023-06-08 14:00:00",
          "2023-06-08 14:30:00"
         ],
         "xaxis": "x",
         "y": [
          99,
          104,
          101,
          103,
          100,
          105,
          97,
          101,
          105,
          100,
          104,
          102
         ],
         "yaxis": "y"
        },
        {
         "hovertemplate": "Well_ID=Well-004<br>Timestamp=%{x}<br>Engine_Oil_Pressure=%{y}<extra></extra>",
         "legendgroup": "Well-004",
         "line": {
          "color": "#ab63fa",
          "dash": "solid"
         },
         "marker": {
          "symbol": "circle"
         },
         "mode": "lines",
         "name": "Well-004",
         "orientation": "v",
         "showlegend": true,
         "type": "scatter",
         "x": [
          "2023-06-08 09:00:00",
          "2023-06-08 09:30:00",
          "2023-06-08 10:00:00",
          "2023-06-08 10:30:00",
          "2023-06-08 11:00:00",
          "2023-06-08 11:30:00",
          "2023-06-08 12:00:00",
          "2023-06-08 12:30:00",
          "2023-06-08 13:00:00",
          "2023-06-08 13:30:00",
          "2023-06-08 14:00:00",
          "2023-06-08 14:30:00"
         ],
         "xaxis": "x",
         "y": [
          97,
          102,
          99,
          101,
          98,
          103,
          96,
          100,
          104,
          99,
          103,
          101
         ],
         "yaxis": "y"
        },
        {
         "hovertemplate": "Well_ID=Well-005<br>Timestamp=%{x}<br>Engine_Oil_Pressure=%{y}<extra></extra>",
         "legendgroup": "Well-005",
         "line": {
          "color": "#FFA15A",
          "dash": "solid"
         },
         "marker": {
          "symbol": "circle"
         },
         "mode": "lines",
         "name": "Well-005",
         "orientation": "v",
         "showlegend": true,
         "type": "scatter",
         "x": [
          "2023-06-08 09:00:00",
          "2023-06-08 09:30:00",
          "2023-06-08 10:00:00",
          "2023-06-08 10:30:00",
          "2023-06-08 11:00:00",
          "2023-06-08 11:30:00",
          "2023-06-08 12:00:00",
          "2023-06-08 12:30:00",
          "2023-06-08 13:00:00",
          "2023-06-08 13:30:00",
          "2023-06-08 14:00:00",
          "2023-06-08 14:30:00"
         ],
         "xaxis": "x",
         "y": [
          100,
          105,
          102,
          98,
          102,
          100,
          95,
          99,
          103,
          98,
          102,
          100
         ],
         "yaxis": "y"
        },
        {
         "hovertemplate": "Well_ID=Well-006<br>Timestamp=%{x}<br>Engine_Oil_Pressure=%{y}<extra></extra>",
         "legendgroup": "Well-006",
         "line": {
          "color": "#19d3f3",
          "dash": "solid"
         },
         "marker": {
          "symbol": "circle"
         },
         "mode": "lines",
         "name": "Well-006",
         "orientation": "v",
         "showlegend": true,
         "type": "scatter",
         "x": [
          "2023-06-08 09:00:00",
          "2023-06-08 09:30:00",
          "2023-06-08 10:00:00",
          "2023-06-08 10:30:00",
          "2023-06-08 11:00:00",
          "2023-06-08 11:30:00",
          "2023-06-08 12:00:00",
          "2023-06-08 12:30:00",
          "2023-06-08 13:00:00",
          "2023-06-08 13:30:00",
          "2023-06-08 14:00:00",
          "2023-06-08 14:30:00"
         ],
         "xaxis": "x",
         "y": [
          98,
          103,
          100,
          102,
          99,
          104,
          96,
          100,
          104,
          99,
          103,
          101
         ],
         "yaxis": "y"
        },
        {
         "hovertemplate": "Well_ID=Well-007<br>Timestamp=%{x}<br>Engine_Oil_Pressure=%{y}<extra></extra>",
         "legendgroup": "Well-007",
         "line": {
          "color": "#FF6692",
          "dash": "solid"
         },
         "marker": {
          "symbol": "circle"
         },
         "mode": "lines",
         "name": "Well-007",
         "orientation": "v",
         "showlegend": true,
         "type": "scatter",
         "x": [
          "2023-06-08 09:00:00",
          "2023-06-08 09:30:00",
          "2023-06-08 10:00:00",
          "2023-06-08 10:30:00",
          "2023-06-08 11:00:00",
          "2023-06-08 11:30:00",
          "2023-06-08 12:00:00",
          "2023-06-08 12:30:00",
          "2023-06-08 13:00:00",
          "2023-06-08 13:30:00",
          "2023-06-08 14:00:00",
          "2023-06-08 14:30:00"
         ],
         "xaxis": "x",
         "y": [
          99,
          104,
          101,
          103,
          100,
          105,
          97,
          101,
          105,
          100,
          104,
          102
         ],
         "yaxis": "y"
        },
        {
         "hovertemplate": "Well_ID=Well-008<br>Timestamp=%{x}<br>Engine_Oil_Pressure=%{y}<extra></extra>",
         "legendgroup": "Well-008",
         "line": {
          "color": "#B6E880",
          "dash": "solid"
         },
         "marker": {
          "symbol": "circle"
         },
         "mode": "lines",
         "name": "Well-008",
         "orientation": "v",
         "showlegend": true,
         "type": "scatter",
         "x": [
          "2023-06-08 09:00:00",
          "2023-06-08 09:30:00",
          "2023-06-08 10:00:00",
          "2023-06-08 10:30:00",
          "2023-06-08 11:00:00",
          "2023-06-08 11:30:00",
          "2023-06-08 12:00:00",
          "2023-06-08 12:30:00",
          "2023-06-08 13:00:00",
          "2023-06-08 13:30:00",
          "2023-06-08 14:00:00",
          "2023-06-08 14:30:00"
         ],
         "xaxis": "x",
         "y": [
          97,
          102,
          99,
          101,
          98,
          103,
          96,
          100,
          104,
          99,
          103,
          101
         ],
         "yaxis": "y"
        },
        {
         "hovertemplate": "Well_ID=Well-009<br>Timestamp=%{x}<br>Engine_Oil_Pressure=%{y}<extra></extra>",
         "legendgroup": "Well-009",
         "line": {
          "color": "#FF97FF",
          "dash": "solid"
         },
         "marker": {
          "symbol": "circle"
         },
         "mode": "lines",
         "name": "Well-009",
         "orientation": "v",
         "showlegend": true,
         "type": "scatter",
         "x": [
          "2023-06-08 09:00:00",
          "2023-06-08 09:30:00",
          "2023-06-08 10:00:00",
          "2023-06-08 10:30:00",
          "2023-06-08 11:00:00",
          "2023-06-08 11:30:00",
          "2023-06-08 12:00:00",
          "2023-06-08 12:30:00",
          "2023-06-08 13:00:00",
          "2023-06-08 13:30:00",
          "2023-06-08 14:00:00",
          "2023-06-08 14:30:00"
         ],
         "xaxis": "x",
         "y": [
          100,
          105,
          102,
          98,
          102,
          100,
          95,
          99,
          103,
          98,
          102,
          100
         ],
         "yaxis": "y"
        },
        {
         "hovertemplate": "Well_ID=Well-010<br>Timestamp=%{x}<br>Engine_Oil_Pressure=%{y}<extra></extra>",
         "legendgroup": "Well-010",
         "line": {
          "color": "#FECB52",
          "dash": "solid"
         },
         "marker": {
          "symbol": "circle"
         },
         "mode": "lines",
         "name": "Well-010",
         "orientation": "v",
         "showlegend": true,
         "type": "scatter",
         "x": [
          "2023-06-08 09:00:00",
          "2023-06-08 09:30:00",
          "2023-06-08 10:00:00",
          "2023-06-08 10:30:00",
          "2023-06-08 11:00:00",
          "2023-06-08 11:30:00",
          "2023-06-08 12:00:00",
          "2023-06-08 12:30:00",
          "2023-06-08 13:00:00",
          "2023-06-08 13:30:00",
          "2023-06-08 14:00:00",
          "2023-06-08 14:30:00"
         ],
         "xaxis": "x",
         "y": [
          98,
          103,
          100,
          102,
          99,
          104,
          96,
          100,
          104,
          99,
          103,
          101
         ],
         "yaxis": "y"
        }
       ],
       "layout": {
        "legend": {
         "title": {
          "text": "Well_ID"
         },
         "tracegroupgap": 0
        },
        "margin": {
         "t": 60
        },
        "template": {
         "data": {
          "bar": [
           {
            "error_x": {
             "color": "#2a3f5f"
            },
            "error_y": {
             "color": "#2a3f5f"
            },
            "marker": {
             "line": {
              "color": "#E5ECF6",
              "width": 0.5
             },
             "pattern": {
              "fillmode": "overlay",
              "size": 10,
              "solidity": 0.2
             }
            },
            "type": "bar"
           }
          ],
          "barpolar": [
           {
            "marker": {
             "line": {
              "color": "#E5ECF6",
              "width": 0.5
             },
             "pattern": {
              "fillmode": "overlay",
              "size": 10,
              "solidity": 0.2
             }
            },
            "type": "barpolar"
           }
          ],
          "carpet": [
           {
            "aaxis": {
             "endlinecolor": "#2a3f5f",
             "gridcolor": "white",
             "linecolor": "white",
             "minorgridcolor": "white",
             "startlinecolor": "#2a3f5f"
            },
            "baxis": {
             "endlinecolor": "#2a3f5f",
             "gridcolor": "white",
             "linecolor": "white",
             "minorgridcolor": "white",
             "startlinecolor": "#2a3f5f"
            },
            "type": "carpet"
           }
          ],
          "choropleth": [
           {
            "colorbar": {
             "outlinewidth": 0,
             "ticks": ""
            },
            "type": "choropleth"
           }
          ],
          "contour": [
           {
            "colorbar": {
             "outlinewidth": 0,
             "ticks": ""
            },
            "colorscale": [
             [
              0,
              "#0d0887"
             ],
             [
              0.1111111111111111,
              "#46039f"
             ],
             [
              0.2222222222222222,
              "#7201a8"
             ],
             [
              0.3333333333333333,
              "#9c179e"
             ],
             [
              0.4444444444444444,
              "#bd3786"
             ],
             [
              0.5555555555555556,
              "#d8576b"
             ],
             [
              0.6666666666666666,
              "#ed7953"
             ],
             [
              0.7777777777777778,
              "#fb9f3a"
             ],
             [
              0.8888888888888888,
              "#fdca26"
             ],
             [
              1,
              "#f0f921"
             ]
            ],
            "type": "contour"
           }
          ],
          "contourcarpet": [
           {
            "colorbar": {
             "outlinewidth": 0,
             "ticks": ""
            },
            "type": "contourcarpet"
           }
          ],
          "heatmap": [
           {
            "colorbar": {
             "outlinewidth": 0,
             "ticks": ""
            },
            "colorscale": [
             [
              0,
              "#0d0887"
             ],
             [
              0.1111111111111111,
              "#46039f"
             ],
             [
              0.2222222222222222,
              "#7201a8"
             ],
             [
              0.3333333333333333,
              "#9c179e"
             ],
             [
              0.4444444444444444,
              "#bd3786"
             ],
             [
              0.5555555555555556,
              "#d8576b"
             ],
             [
              0.6666666666666666,
              "#ed7953"
             ],
             [
              0.7777777777777778,
              "#fb9f3a"
             ],
             [
              0.8888888888888888,
              "#fdca26"
             ],
             [
              1,
              "#f0f921"
             ]
            ],
            "type": "heatmap"
           }
          ],
          "heatmapgl": [
           {
            "colorbar": {
             "outlinewidth": 0,
             "ticks": ""
            },
            "colorscale": [
             [
              0,
              "#0d0887"
             ],
             [
              0.1111111111111111,
              "#46039f"
             ],
             [
              0.2222222222222222,
              "#7201a8"
             ],
             [
              0.3333333333333333,
              "#9c179e"
             ],
             [
              0.4444444444444444,
              "#bd3786"
             ],
             [
              0.5555555555555556,
              "#d8576b"
             ],
             [
              0.6666666666666666,
              "#ed7953"
             ],
             [
              0.7777777777777778,
              "#fb9f3a"
             ],
             [
              0.8888888888888888,
              "#fdca26"
             ],
             [
              1,
              "#f0f921"
             ]
            ],
            "type": "heatmapgl"
           }
          ],
          "histogram": [
           {
            "marker": {
             "pattern": {
              "fillmode": "overlay",
              "size": 10,
              "solidity": 0.2
             }
            },
            "type": "histogram"
           }
          ],
          "histogram2d": [
           {
            "colorbar": {
             "outlinewidth": 0,
             "ticks": ""
            },
            "colorscale": [
             [
              0,
              "#0d0887"
             ],
             [
              0.1111111111111111,
              "#46039f"
             ],
             [
              0.2222222222222222,
              "#7201a8"
             ],
             [
              0.3333333333333333,
              "#9c179e"
             ],
             [
              0.4444444444444444,
              "#bd3786"
             ],
             [
              0.5555555555555556,
              "#d8576b"
             ],
             [
              0.6666666666666666,
              "#ed7953"
             ],
             [
              0.7777777777777778,
              "#fb9f3a"
             ],
             [
              0.8888888888888888,
              "#fdca26"
             ],
             [
              1,
              "#f0f921"
             ]
            ],
            "type": "histogram2d"
           }
          ],
          "histogram2dcontour": [
           {
            "colorbar": {
             "outlinewidth": 0,
             "ticks": ""
            },
            "colorscale": [
             [
              0,
              "#0d0887"
             ],
             [
              0.1111111111111111,
              "#46039f"
             ],
             [
              0.2222222222222222,
              "#7201a8"
             ],
             [
              0.3333333333333333,
              "#9c179e"
             ],
             [
              0.4444444444444444,
              "#bd3786"
             ],
             [
              0.5555555555555556,
              "#d8576b"
             ],
             [
              0.6666666666666666,
              "#ed7953"
             ],
             [
              0.7777777777777778,
              "#fb9f3a"
             ],
             [
              0.8888888888888888,
              "#fdca26"
             ],
             [
              1,
              "#f0f921"
             ]
            ],
            "type": "histogram2dcontour"
           }
          ],
          "mesh3d": [
           {
            "colorbar": {
             "outlinewidth": 0,
             "ticks": ""
            },
            "type": "mesh3d"
           }
          ],
          "parcoords": [
           {
            "line": {
             "colorbar": {
              "outlinewidth": 0,
              "ticks": ""
             }
            },
            "type": "parcoords"
           }
          ],
          "pie": [
           {
            "automargin": true,
            "type": "pie"
           }
          ],
          "scatter": [
           {
            "fillpattern": {
             "fillmode": "overlay",
             "size": 10,
             "solidity": 0.2
            },
            "type": "scatter"
           }
          ],
          "scatter3d": [
           {
            "line": {
             "colorbar": {
              "outlinewidth": 0,
              "ticks": ""
             }
            },
            "marker": {
             "colorbar": {
              "outlinewidth": 0,
              "ticks": ""
             }
            },
            "type": "scatter3d"
           }
          ],
          "scattercarpet": [
           {
            "marker": {
             "colorbar": {
              "outlinewidth": 0,
              "ticks": ""
             }
            },
            "type": "scattercarpet"
           }
          ],
          "scattergeo": [
           {
            "marker": {
             "colorbar": {
              "outlinewidth": 0,
              "ticks": ""
             }
            },
            "type": "scattergeo"
           }
          ],
          "scattergl": [
           {
            "marker": {
             "colorbar": {
              "outlinewidth": 0,
              "ticks": ""
             }
            },
            "type": "scattergl"
           }
          ],
          "scattermapbox": [
           {
            "marker": {
             "colorbar": {
              "outlinewidth": 0,
              "ticks": ""
             }
            },
            "type": "scattermapbox"
           }
          ],
          "scatterpolar": [
           {
            "marker": {
             "colorbar": {
              "outlinewidth": 0,
              "ticks": ""
             }
            },
            "type": "scatterpolar"
           }
          ],
          "scatterpolargl": [
           {
            "marker": {
             "colorbar": {
              "outlinewidth": 0,
              "ticks": ""
             }
            },
            "type": "scatterpolargl"
           }
          ],
          "scatterternary": [
           {
            "marker": {
             "colorbar": {
              "outlinewidth": 0,
              "ticks": ""
             }
            },
            "type": "scatterternary"
           }
          ],
          "surface": [
           {
            "colorbar": {
             "outlinewidth": 0,
             "ticks": ""
            },
            "colorscale": [
             [
              0,
              "#0d0887"
             ],
             [
              0.1111111111111111,
              "#46039f"
             ],
             [
              0.2222222222222222,
              "#7201a8"
             ],
             [
              0.3333333333333333,
              "#9c179e"
             ],
             [
              0.4444444444444444,
              "#bd3786"
             ],
             [
              0.5555555555555556,
              "#d8576b"
             ],
             [
              0.6666666666666666,
              "#ed7953"
             ],
             [
              0.7777777777777778,
              "#fb9f3a"
             ],
             [
              0.8888888888888888,
              "#fdca26"
             ],
             [
              1,
              "#f0f921"
             ]
            ],
            "type": "surface"
           }
          ],
          "table": [
           {
            "cells": {
             "fill": {
              "color": "#EBF0F8"
             },
             "line": {
              "color": "white"
             }
            },
            "header": {
             "fill": {
              "color": "#C8D4E3"
             },
             "line": {
              "color": "white"
             }
            },
            "type": "table"
           }
          ]
         },
         "layout": {
          "annotationdefaults": {
           "arrowcolor": "#2a3f5f",
           "arrowhead": 0,
           "arrowwidth": 1
          },
          "autotypenumbers": "strict",
          "coloraxis": {
           "colorbar": {
            "outlinewidth": 0,
            "ticks": ""
           }
          },
          "colorscale": {
           "diverging": [
            [
             0,
             "#8e0152"
            ],
            [
             0.1,
             "#c51b7d"
            ],
            [
             0.2,
             "#de77ae"
            ],
            [
             0.3,
             "#f1b6da"
            ],
            [
             0.4,
             "#fde0ef"
            ],
            [
             0.5,
             "#f7f7f7"
            ],
            [
             0.6,
             "#e6f5d0"
            ],
            [
             0.7,
             "#b8e186"
            ],
            [
             0.8,
             "#7fbc41"
            ],
            [
             0.9,
             "#4d9221"
            ],
            [
             1,
             "#276419"
            ]
           ],
           "sequential": [
            [
             0,
             "#0d0887"
            ],
            [
             0.1111111111111111,
             "#46039f"
            ],
            [
             0.2222222222222222,
             "#7201a8"
            ],
            [
             0.3333333333333333,
             "#9c179e"
            ],
            [
             0.4444444444444444,
             "#bd3786"
            ],
            [
             0.5555555555555556,
             "#d8576b"
            ],
            [
             0.6666666666666666,
             "#ed7953"
            ],
            [
             0.7777777777777778,
             "#fb9f3a"
            ],
            [
             0.8888888888888888,
             "#fdca26"
            ],
            [
             1,
             "#f0f921"
            ]
           ],
           "sequentialminus": [
            [
             0,
             "#0d0887"
            ],
            [
             0.1111111111111111,
             "#46039f"
            ],
            [
             0.2222222222222222,
             "#7201a8"
            ],
            [
             0.3333333333333333,
             "#9c179e"
            ],
            [
             0.4444444444444444,
             "#bd3786"
            ],
            [
             0.5555555555555556,
             "#d8576b"
            ],
            [
             0.6666666666666666,
             "#ed7953"
            ],
            [
             0.7777777777777778,
             "#fb9f3a"
            ],
            [
             0.8888888888888888,
             "#fdca26"
            ],
            [
             1,
             "#f0f921"
            ]
           ]
          },
          "colorway": [
           "#636efa",
           "#EF553B",
           "#00cc96",
           "#ab63fa",
           "#FFA15A",
           "#19d3f3",
           "#FF6692",
           "#B6E880",
           "#FF97FF",
           "#FECB52"
          ],
          "font": {
           "color": "#2a3f5f"
          },
          "geo": {
           "bgcolor": "white",
           "lakecolor": "white",
           "landcolor": "#E5ECF6",
           "showlakes": true,
           "showland": true,
           "subunitcolor": "white"
          },
          "hoverlabel": {
           "align": "left"
          },
          "hovermode": "closest",
          "mapbox": {
           "style": "light"
          },
          "paper_bgcolor": "white",
          "plot_bgcolor": "#E5ECF6",
          "polar": {
           "angularaxis": {
            "gridcolor": "white",
            "linecolor": "white",
            "ticks": ""
           },
           "bgcolor": "#E5ECF6",
           "radialaxis": {
            "gridcolor": "white",
            "linecolor": "white",
            "ticks": ""
           }
          },
          "scene": {
           "xaxis": {
            "backgroundcolor": "#E5ECF6",
            "gridcolor": "white",
            "gridwidth": 2,
            "linecolor": "white",
            "showbackground": true,
            "ticks": "",
            "zerolinecolor": "white"
           },
           "yaxis": {
            "backgroundcolor": "#E5ECF6",
            "gridcolor": "white",
            "gridwidth": 2,
            "linecolor": "white",
            "showbackground": true,
            "ticks": "",
            "zerolinecolor": "white"
           },
           "zaxis": {
            "backgroundcolor": "#E5ECF6",
            "gridcolor": "white",
            "gridwidth": 2,
            "linecolor": "white",
            "showbackground": true,
            "ticks": "",
            "zerolinecolor": "white"
           }
          },
          "shapedefaults": {
           "line": {
            "color": "#2a3f5f"
           }
          },
          "ternary": {
           "aaxis": {
            "gridcolor": "white",
            "linecolor": "white",
            "ticks": ""
           },
           "baxis": {
            "gridcolor": "white",
            "linecolor": "white",
            "ticks": ""
           },
           "bgcolor": "#E5ECF6",
           "caxis": {
            "gridcolor": "white",
            "linecolor": "white",
            "ticks": ""
           }
          },
          "title": {
           "x": 0.05
          },
          "xaxis": {
           "automargin": true,
           "gridcolor": "white",
           "linecolor": "white",
           "ticks": "",
           "title": {
            "standoff": 15
           },
           "zerolinecolor": "white",
           "zerolinewidth": 2
          },
          "yaxis": {
           "automargin": true,
           "gridcolor": "white",
           "linecolor": "white",
           "ticks": "",
           "title": {
            "standoff": 15
           },
           "zerolinecolor": "white",
           "zerolinewidth": 2
          }
         }
        },
        "xaxis": {
         "anchor": "y",
         "domain": [
          0,
          1
         ],
         "title": {
          "text": "Timestamp"
         }
        },
        "yaxis": {
         "anchor": "x",
         "domain": [
          0,
          1
         ],
         "title": {
          "text": "Engine_Oil_Pressure"
         }
        }
       }
      },
      "text/html": [
       "<div>                        <script type=\"text/javascript\">window.PlotlyConfig = {MathJaxConfig: 'local'};</script>\n",
       "        <script charset=\"utf-8\" src=\"https://cdn.plot.ly/plotly-2.20.0.min.js\"></script>                <div id=\"245edcd5-cba9-4070-869d-c96e610e85da\" class=\"plotly-graph-div\" style=\"height:100%; width:100%;\"></div>            <script type=\"text/javascript\">                                    window.PLOTLYENV=window.PLOTLYENV || {};                                    if (document.getElementById(\"245edcd5-cba9-4070-869d-c96e610e85da\")) {                    Plotly.newPlot(                        \"245edcd5-cba9-4070-869d-c96e610e85da\",                        [{\"hovertemplate\":\"Well_ID=Well-001<br>Timestamp=%{x}<br>Engine_Oil_Pressure=%{y}<extra></extra>\",\"legendgroup\":\"Well-001\",\"line\":{\"color\":\"#636efa\",\"dash\":\"solid\"},\"marker\":{\"symbol\":\"circle\"},\"mode\":\"lines\",\"name\":\"Well-001\",\"orientation\":\"v\",\"showlegend\":true,\"x\":[\"2023-06-08 09:00:00\",\"2023-06-08 09:30:00\",\"2023-06-08 10:00:00\",\"2023-06-08 10:30:00\",\"2023-06-08 11:00:00\",\"2023-06-08 11:30:00\",\"2023-06-08 12:00:00\",\"2023-06-08 12:30:00\",\"2023-06-08 13:00:00\",\"2023-06-08 13:30:00\",\"2023-06-08 14:00:00\",\"2023-06-08 14:30:00\"],\"xaxis\":\"x\",\"y\":[100.0,105.0,102.0,98.0,102.0,100.0,95.0,99.0,103.0,98.0,102.0,100.0],\"yaxis\":\"y\",\"type\":\"scatter\"},{\"hovertemplate\":\"Well_ID=Well-002<br>Timestamp=%{x}<br>Engine_Oil_Pressure=%{y}<extra></extra>\",\"legendgroup\":\"Well-002\",\"line\":{\"color\":\"#EF553B\",\"dash\":\"solid\"},\"marker\":{\"symbol\":\"circle\"},\"mode\":\"lines\",\"name\":\"Well-002\",\"orientation\":\"v\",\"showlegend\":true,\"x\":[\"2023-06-08 09:00:00\",\"2023-06-08 09:30:00\",\"2023-06-08 10:00:00\",\"2023-06-08 10:30:00\",\"2023-06-08 11:00:00\",\"2023-06-08 11:30:00\",\"2023-06-08 12:00:00\",\"2023-06-08 12:30:00\",\"2023-06-08 13:00:00\",\"2023-06-08 13:30:00\",\"2023-06-08 14:00:00\",\"2023-06-08 14:30:00\"],\"xaxis\":\"x\",\"y\":[98.0,103.0,100.0,102.0,99.0,104.0,96.0,100.0,104.0,99.0,103.0,101.0],\"yaxis\":\"y\",\"type\":\"scatter\"},{\"hovertemplate\":\"Well_ID=Well-003<br>Timestamp=%{x}<br>Engine_Oil_Pressure=%{y}<extra></extra>\",\"legendgroup\":\"Well-003\",\"line\":{\"color\":\"#00cc96\",\"dash\":\"solid\"},\"marker\":{\"symbol\":\"circle\"},\"mode\":\"lines\",\"name\":\"Well-003\",\"orientation\":\"v\",\"showlegend\":true,\"x\":[\"2023-06-08 09:00:00\",\"2023-06-08 09:30:00\",\"2023-06-08 10:00:00\",\"2023-06-08 10:30:00\",\"2023-06-08 11:00:00\",\"2023-06-08 11:30:00\",\"2023-06-08 12:00:00\",\"2023-06-08 12:30:00\",\"2023-06-08 13:00:00\",\"2023-06-08 13:30:00\",\"2023-06-08 14:00:00\",\"2023-06-08 14:30:00\"],\"xaxis\":\"x\",\"y\":[99.0,104.0,101.0,103.0,100.0,105.0,97.0,101.0,105.0,100.0,104.0,102.0],\"yaxis\":\"y\",\"type\":\"scatter\"},{\"hovertemplate\":\"Well_ID=Well-004<br>Timestamp=%{x}<br>Engine_Oil_Pressure=%{y}<extra></extra>\",\"legendgroup\":\"Well-004\",\"line\":{\"color\":\"#ab63fa\",\"dash\":\"solid\"},\"marker\":{\"symbol\":\"circle\"},\"mode\":\"lines\",\"name\":\"Well-004\",\"orientation\":\"v\",\"showlegend\":true,\"x\":[\"2023-06-08 09:00:00\",\"2023-06-08 09:30:00\",\"2023-06-08 10:00:00\",\"2023-06-08 10:30:00\",\"2023-06-08 11:00:00\",\"2023-06-08 11:30:00\",\"2023-06-08 12:00:00\",\"2023-06-08 12:30:00\",\"2023-06-08 13:00:00\",\"2023-06-08 13:30:00\",\"2023-06-08 14:00:00\",\"2023-06-08 14:30:00\"],\"xaxis\":\"x\",\"y\":[97.0,102.0,99.0,101.0,98.0,103.0,96.0,100.0,104.0,99.0,103.0,101.0],\"yaxis\":\"y\",\"type\":\"scatter\"},{\"hovertemplate\":\"Well_ID=Well-005<br>Timestamp=%{x}<br>Engine_Oil_Pressure=%{y}<extra></extra>\",\"legendgroup\":\"Well-005\",\"line\":{\"color\":\"#FFA15A\",\"dash\":\"solid\"},\"marker\":{\"symbol\":\"circle\"},\"mode\":\"lines\",\"name\":\"Well-005\",\"orientation\":\"v\",\"showlegend\":true,\"x\":[\"2023-06-08 09:00:00\",\"2023-06-08 09:30:00\",\"2023-06-08 10:00:00\",\"2023-06-08 10:30:00\",\"2023-06-08 11:00:00\",\"2023-06-08 11:30:00\",\"2023-06-08 12:00:00\",\"2023-06-08 12:30:00\",\"2023-06-08 13:00:00\",\"2023-06-08 13:30:00\",\"2023-06-08 14:00:00\",\"2023-06-08 14:30:00\"],\"xaxis\":\"x\",\"y\":[100.0,105.0,102.0,98.0,102.0,100.0,95.0,99.0,103.0,98.0,102.0,100.0],\"yaxis\":\"y\",\"type\":\"scatter\"},{\"hovertemplate\":\"Well_ID=Well-006<br>Timestamp=%{x}<br>Engine_Oil_Pressure=%{y}<extra></extra>\",\"legendgroup\":\"Well-006\",\"line\":{\"color\":\"#19d3f3\",\"dash\":\"solid\"},\"marker\":{\"symbol\":\"circle\"},\"mode\":\"lines\",\"name\":\"Well-006\",\"orientation\":\"v\",\"showlegend\":true,\"x\":[\"2023-06-08 09:00:00\",\"2023-06-08 09:30:00\",\"2023-06-08 10:00:00\",\"2023-06-08 10:30:00\",\"2023-06-08 11:00:00\",\"2023-06-08 11:30:00\",\"2023-06-08 12:00:00\",\"2023-06-08 12:30:00\",\"2023-06-08 13:00:00\",\"2023-06-08 13:30:00\",\"2023-06-08 14:00:00\",\"2023-06-08 14:30:00\"],\"xaxis\":\"x\",\"y\":[98.0,103.0,100.0,102.0,99.0,104.0,96.0,100.0,104.0,99.0,103.0,101.0],\"yaxis\":\"y\",\"type\":\"scatter\"},{\"hovertemplate\":\"Well_ID=Well-007<br>Timestamp=%{x}<br>Engine_Oil_Pressure=%{y}<extra></extra>\",\"legendgroup\":\"Well-007\",\"line\":{\"color\":\"#FF6692\",\"dash\":\"solid\"},\"marker\":{\"symbol\":\"circle\"},\"mode\":\"lines\",\"name\":\"Well-007\",\"orientation\":\"v\",\"showlegend\":true,\"x\":[\"2023-06-08 09:00:00\",\"2023-06-08 09:30:00\",\"2023-06-08 10:00:00\",\"2023-06-08 10:30:00\",\"2023-06-08 11:00:00\",\"2023-06-08 11:30:00\",\"2023-06-08 12:00:00\",\"2023-06-08 12:30:00\",\"2023-06-08 13:00:00\",\"2023-06-08 13:30:00\",\"2023-06-08 14:00:00\",\"2023-06-08 14:30:00\"],\"xaxis\":\"x\",\"y\":[99.0,104.0,101.0,103.0,100.0,105.0,97.0,101.0,105.0,100.0,104.0,102.0],\"yaxis\":\"y\",\"type\":\"scatter\"},{\"hovertemplate\":\"Well_ID=Well-008<br>Timestamp=%{x}<br>Engine_Oil_Pressure=%{y}<extra></extra>\",\"legendgroup\":\"Well-008\",\"line\":{\"color\":\"#B6E880\",\"dash\":\"solid\"},\"marker\":{\"symbol\":\"circle\"},\"mode\":\"lines\",\"name\":\"Well-008\",\"orientation\":\"v\",\"showlegend\":true,\"x\":[\"2023-06-08 09:00:00\",\"2023-06-08 09:30:00\",\"2023-06-08 10:00:00\",\"2023-06-08 10:30:00\",\"2023-06-08 11:00:00\",\"2023-06-08 11:30:00\",\"2023-06-08 12:00:00\",\"2023-06-08 12:30:00\",\"2023-06-08 13:00:00\",\"2023-06-08 13:30:00\",\"2023-06-08 14:00:00\",\"2023-06-08 14:30:00\"],\"xaxis\":\"x\",\"y\":[97.0,102.0,99.0,101.0,98.0,103.0,96.0,100.0,104.0,99.0,103.0,101.0],\"yaxis\":\"y\",\"type\":\"scatter\"},{\"hovertemplate\":\"Well_ID=Well-009<br>Timestamp=%{x}<br>Engine_Oil_Pressure=%{y}<extra></extra>\",\"legendgroup\":\"Well-009\",\"line\":{\"color\":\"#FF97FF\",\"dash\":\"solid\"},\"marker\":{\"symbol\":\"circle\"},\"mode\":\"lines\",\"name\":\"Well-009\",\"orientation\":\"v\",\"showlegend\":true,\"x\":[\"2023-06-08 09:00:00\",\"2023-06-08 09:30:00\",\"2023-06-08 10:00:00\",\"2023-06-08 10:30:00\",\"2023-06-08 11:00:00\",\"2023-06-08 11:30:00\",\"2023-06-08 12:00:00\",\"2023-06-08 12:30:00\",\"2023-06-08 13:00:00\",\"2023-06-08 13:30:00\",\"2023-06-08 14:00:00\",\"2023-06-08 14:30:00\"],\"xaxis\":\"x\",\"y\":[100.0,105.0,102.0,98.0,102.0,100.0,95.0,99.0,103.0,98.0,102.0,100.0],\"yaxis\":\"y\",\"type\":\"scatter\"},{\"hovertemplate\":\"Well_ID=Well-010<br>Timestamp=%{x}<br>Engine_Oil_Pressure=%{y}<extra></extra>\",\"legendgroup\":\"Well-010\",\"line\":{\"color\":\"#FECB52\",\"dash\":\"solid\"},\"marker\":{\"symbol\":\"circle\"},\"mode\":\"lines\",\"name\":\"Well-010\",\"orientation\":\"v\",\"showlegend\":true,\"x\":[\"2023-06-08 09:00:00\",\"2023-06-08 09:30:00\",\"2023-06-08 10:00:00\",\"2023-06-08 10:30:00\",\"2023-06-08 11:00:00\",\"2023-06-08 11:30:00\",\"2023-06-08 12:00:00\",\"2023-06-08 12:30:00\",\"2023-06-08 13:00:00\",\"2023-06-08 13:30:00\",\"2023-06-08 14:00:00\",\"2023-06-08 14:30:00\"],\"xaxis\":\"x\",\"y\":[98.0,103.0,100.0,102.0,99.0,104.0,96.0,100.0,104.0,99.0,103.0,101.0],\"yaxis\":\"y\",\"type\":\"scatter\"}],                        {\"template\":{\"data\":{\"histogram2dcontour\":[{\"type\":\"histogram2dcontour\",\"colorbar\":{\"outlinewidth\":0,\"ticks\":\"\"},\"colorscale\":[[0.0,\"#0d0887\"],[0.1111111111111111,\"#46039f\"],[0.2222222222222222,\"#7201a8\"],[0.3333333333333333,\"#9c179e\"],[0.4444444444444444,\"#bd3786\"],[0.5555555555555556,\"#d8576b\"],[0.6666666666666666,\"#ed7953\"],[0.7777777777777778,\"#fb9f3a\"],[0.8888888888888888,\"#fdca26\"],[1.0,\"#f0f921\"]]}],\"choropleth\":[{\"type\":\"choropleth\",\"colorbar\":{\"outlinewidth\":0,\"ticks\":\"\"}}],\"histogram2d\":[{\"type\":\"histogram2d\",\"colorbar\":{\"outlinewidth\":0,\"ticks\":\"\"},\"colorscale\":[[0.0,\"#0d0887\"],[0.1111111111111111,\"#46039f\"],[0.2222222222222222,\"#7201a8\"],[0.3333333333333333,\"#9c179e\"],[0.4444444444444444,\"#bd3786\"],[0.5555555555555556,\"#d8576b\"],[0.6666666666666666,\"#ed7953\"],[0.7777777777777778,\"#fb9f3a\"],[0.8888888888888888,\"#fdca26\"],[1.0,\"#f0f921\"]]}],\"heatmap\":[{\"type\":\"heatmap\",\"colorbar\":{\"outlinewidth\":0,\"ticks\":\"\"},\"colorscale\":[[0.0,\"#0d0887\"],[0.1111111111111111,\"#46039f\"],[0.2222222222222222,\"#7201a8\"],[0.3333333333333333,\"#9c179e\"],[0.4444444444444444,\"#bd3786\"],[0.5555555555555556,\"#d8576b\"],[0.6666666666666666,\"#ed7953\"],[0.7777777777777778,\"#fb9f3a\"],[0.8888888888888888,\"#fdca26\"],[1.0,\"#f0f921\"]]}],\"heatmapgl\":[{\"type\":\"heatmapgl\",\"colorbar\":{\"outlinewidth\":0,\"ticks\":\"\"},\"colorscale\":[[0.0,\"#0d0887\"],[0.1111111111111111,\"#46039f\"],[0.2222222222222222,\"#7201a8\"],[0.3333333333333333,\"#9c179e\"],[0.4444444444444444,\"#bd3786\"],[0.5555555555555556,\"#d8576b\"],[0.6666666666666666,\"#ed7953\"],[0.7777777777777778,\"#fb9f3a\"],[0.8888888888888888,\"#fdca26\"],[1.0,\"#f0f921\"]]}],\"contourcarpet\":[{\"type\":\"contourcarpet\",\"colorbar\":{\"outlinewidth\":0,\"ticks\":\"\"}}],\"contour\":[{\"type\":\"contour\",\"colorbar\":{\"outlinewidth\":0,\"ticks\":\"\"},\"colorscale\":[[0.0,\"#0d0887\"],[0.1111111111111111,\"#46039f\"],[0.2222222222222222,\"#7201a8\"],[0.3333333333333333,\"#9c179e\"],[0.4444444444444444,\"#bd3786\"],[0.5555555555555556,\"#d8576b\"],[0.6666666666666666,\"#ed7953\"],[0.7777777777777778,\"#fb9f3a\"],[0.8888888888888888,\"#fdca26\"],[1.0,\"#f0f921\"]]}],\"surface\":[{\"type\":\"surface\",\"colorbar\":{\"outlinewidth\":0,\"ticks\":\"\"},\"colorscale\":[[0.0,\"#0d0887\"],[0.1111111111111111,\"#46039f\"],[0.2222222222222222,\"#7201a8\"],[0.3333333333333333,\"#9c179e\"],[0.4444444444444444,\"#bd3786\"],[0.5555555555555556,\"#d8576b\"],[0.6666666666666666,\"#ed7953\"],[0.7777777777777778,\"#fb9f3a\"],[0.8888888888888888,\"#fdca26\"],[1.0,\"#f0f921\"]]}],\"mesh3d\":[{\"type\":\"mesh3d\",\"colorbar\":{\"outlinewidth\":0,\"ticks\":\"\"}}],\"scatter\":[{\"fillpattern\":{\"fillmode\":\"overlay\",\"size\":10,\"solidity\":0.2},\"type\":\"scatter\"}],\"parcoords\":[{\"type\":\"parcoords\",\"line\":{\"colorbar\":{\"outlinewidth\":0,\"ticks\":\"\"}}}],\"scatterpolargl\":[{\"type\":\"scatterpolargl\",\"marker\":{\"colorbar\":{\"outlinewidth\":0,\"ticks\":\"\"}}}],\"bar\":[{\"error_x\":{\"color\":\"#2a3f5f\"},\"error_y\":{\"color\":\"#2a3f5f\"},\"marker\":{\"line\":{\"color\":\"#E5ECF6\",\"width\":0.5},\"pattern\":{\"fillmode\":\"overlay\",\"size\":10,\"solidity\":0.2}},\"type\":\"bar\"}],\"scattergeo\":[{\"type\":\"scattergeo\",\"marker\":{\"colorbar\":{\"outlinewidth\":0,\"ticks\":\"\"}}}],\"scatterpolar\":[{\"type\":\"scatterpolar\",\"marker\":{\"colorbar\":{\"outlinewidth\":0,\"ticks\":\"\"}}}],\"histogram\":[{\"marker\":{\"pattern\":{\"fillmode\":\"overlay\",\"size\":10,\"solidity\":0.2}},\"type\":\"histogram\"}],\"scattergl\":[{\"type\":\"scattergl\",\"marker\":{\"colorbar\":{\"outlinewidth\":0,\"ticks\":\"\"}}}],\"scatter3d\":[{\"type\":\"scatter3d\",\"line\":{\"colorbar\":{\"outlinewidth\":0,\"ticks\":\"\"}},\"marker\":{\"colorbar\":{\"outlinewidth\":0,\"ticks\":\"\"}}}],\"scattermapbox\":[{\"type\":\"scattermapbox\",\"marker\":{\"colorbar\":{\"outlinewidth\":0,\"ticks\":\"\"}}}],\"scatterternary\":[{\"type\":\"scatterternary\",\"marker\":{\"colorbar\":{\"outlinewidth\":0,\"ticks\":\"\"}}}],\"scattercarpet\":[{\"type\":\"scattercarpet\",\"marker\":{\"colorbar\":{\"outlinewidth\":0,\"ticks\":\"\"}}}],\"carpet\":[{\"aaxis\":{\"endlinecolor\":\"#2a3f5f\",\"gridcolor\":\"white\",\"linecolor\":\"white\",\"minorgridcolor\":\"white\",\"startlinecolor\":\"#2a3f5f\"},\"baxis\":{\"endlinecolor\":\"#2a3f5f\",\"gridcolor\":\"white\",\"linecolor\":\"white\",\"minorgridcolor\":\"white\",\"startlinecolor\":\"#2a3f5f\"},\"type\":\"carpet\"}],\"table\":[{\"cells\":{\"fill\":{\"color\":\"#EBF0F8\"},\"line\":{\"color\":\"white\"}},\"header\":{\"fill\":{\"color\":\"#C8D4E3\"},\"line\":{\"color\":\"white\"}},\"type\":\"table\"}],\"barpolar\":[{\"marker\":{\"line\":{\"color\":\"#E5ECF6\",\"width\":0.5},\"pattern\":{\"fillmode\":\"overlay\",\"size\":10,\"solidity\":0.2}},\"type\":\"barpolar\"}],\"pie\":[{\"automargin\":true,\"type\":\"pie\"}]},\"layout\":{\"autotypenumbers\":\"strict\",\"colorway\":[\"#636efa\",\"#EF553B\",\"#00cc96\",\"#ab63fa\",\"#FFA15A\",\"#19d3f3\",\"#FF6692\",\"#B6E880\",\"#FF97FF\",\"#FECB52\"],\"font\":{\"color\":\"#2a3f5f\"},\"hovermode\":\"closest\",\"hoverlabel\":{\"align\":\"left\"},\"paper_bgcolor\":\"white\",\"plot_bgcolor\":\"#E5ECF6\",\"polar\":{\"bgcolor\":\"#E5ECF6\",\"angularaxis\":{\"gridcolor\":\"white\",\"linecolor\":\"white\",\"ticks\":\"\"},\"radialaxis\":{\"gridcolor\":\"white\",\"linecolor\":\"white\",\"ticks\":\"\"}},\"ternary\":{\"bgcolor\":\"#E5ECF6\",\"aaxis\":{\"gridcolor\":\"white\",\"linecolor\":\"white\",\"ticks\":\"\"},\"baxis\":{\"gridcolor\":\"white\",\"linecolor\":\"white\",\"ticks\":\"\"},\"caxis\":{\"gridcolor\":\"white\",\"linecolor\":\"white\",\"ticks\":\"\"}},\"coloraxis\":{\"colorbar\":{\"outlinewidth\":0,\"ticks\":\"\"}},\"colorscale\":{\"sequential\":[[0.0,\"#0d0887\"],[0.1111111111111111,\"#46039f\"],[0.2222222222222222,\"#7201a8\"],[0.3333333333333333,\"#9c179e\"],[0.4444444444444444,\"#bd3786\"],[0.5555555555555556,\"#d8576b\"],[0.6666666666666666,\"#ed7953\"],[0.7777777777777778,\"#fb9f3a\"],[0.8888888888888888,\"#fdca26\"],[1.0,\"#f0f921\"]],\"sequentialminus\":[[0.0,\"#0d0887\"],[0.1111111111111111,\"#46039f\"],[0.2222222222222222,\"#7201a8\"],[0.3333333333333333,\"#9c179e\"],[0.4444444444444444,\"#bd3786\"],[0.5555555555555556,\"#d8576b\"],[0.6666666666666666,\"#ed7953\"],[0.7777777777777778,\"#fb9f3a\"],[0.8888888888888888,\"#fdca26\"],[1.0,\"#f0f921\"]],\"diverging\":[[0,\"#8e0152\"],[0.1,\"#c51b7d\"],[0.2,\"#de77ae\"],[0.3,\"#f1b6da\"],[0.4,\"#fde0ef\"],[0.5,\"#f7f7f7\"],[0.6,\"#e6f5d0\"],[0.7,\"#b8e186\"],[0.8,\"#7fbc41\"],[0.9,\"#4d9221\"],[1,\"#276419\"]]},\"xaxis\":{\"gridcolor\":\"white\",\"linecolor\":\"white\",\"ticks\":\"\",\"title\":{\"standoff\":15},\"zerolinecolor\":\"white\",\"automargin\":true,\"zerolinewidth\":2},\"yaxis\":{\"gridcolor\":\"white\",\"linecolor\":\"white\",\"ticks\":\"\",\"title\":{\"standoff\":15},\"zerolinecolor\":\"white\",\"automargin\":true,\"zerolinewidth\":2},\"scene\":{\"xaxis\":{\"backgroundcolor\":\"#E5ECF6\",\"gridcolor\":\"white\",\"linecolor\":\"white\",\"showbackground\":true,\"ticks\":\"\",\"zerolinecolor\":\"white\",\"gridwidth\":2},\"yaxis\":{\"backgroundcolor\":\"#E5ECF6\",\"gridcolor\":\"white\",\"linecolor\":\"white\",\"showbackground\":true,\"ticks\":\"\",\"zerolinecolor\":\"white\",\"gridwidth\":2},\"zaxis\":{\"backgroundcolor\":\"#E5ECF6\",\"gridcolor\":\"white\",\"linecolor\":\"white\",\"showbackground\":true,\"ticks\":\"\",\"zerolinecolor\":\"white\",\"gridwidth\":2}},\"shapedefaults\":{\"line\":{\"color\":\"#2a3f5f\"}},\"annotationdefaults\":{\"arrowcolor\":\"#2a3f5f\",\"arrowhead\":0,\"arrowwidth\":1},\"geo\":{\"bgcolor\":\"white\",\"landcolor\":\"#E5ECF6\",\"subunitcolor\":\"white\",\"showland\":true,\"showlakes\":true,\"lakecolor\":\"white\"},\"title\":{\"x\":0.05},\"mapbox\":{\"style\":\"light\"}}},\"xaxis\":{\"anchor\":\"y\",\"domain\":[0.0,1.0],\"title\":{\"text\":\"Timestamp\"}},\"yaxis\":{\"anchor\":\"x\",\"domain\":[0.0,1.0],\"title\":{\"text\":\"Engine_Oil_Pressure\"}},\"legend\":{\"title\":{\"text\":\"Well_ID\"},\"tracegroupgap\":0},\"margin\":{\"t\":60}},                        {\"responsive\": true}                    )                };                            </script>        </div>"
      ],
      "text/plain": [
       "Figure({\n",
       "    'data': [{'hovertemplate': 'Well_ID=Well-001<br>Timestamp=%{x}<br>Engine_Oil_Pressure=%{y}<extra></extra>',\n",
       "              'legendgroup': 'Well-001',\n",
       "              'line': {'color': '#636efa', 'dash': 'solid'},\n",
       "              'marker': {'symbol': 'circle'},\n",
       "              'mode': 'lines',\n",
       "              'name': 'Well-001',\n",
       "              'orientation': 'v',\n",
       "              'showlegend': True,\n",
       "              'type': 'scatter',\n",
       "              'x': array(['2023-06-08 09:00:00', '2023-06-08 09:30:00', '2023-06-08 10:00:00',\n",
       "                          '2023-06-08 10:30:00', '2023-06-08 11:00:00', '2023-06-08 11:30:00',\n",
       "                          '2023-06-08 12:00:00', '2023-06-08 12:30:00', '2023-06-08 13:00:00',\n",
       "                          '2023-06-08 13:30:00', '2023-06-08 14:00:00', '2023-06-08 14:30:00'],\n",
       "                         dtype=object),\n",
       "              'xaxis': 'x',\n",
       "              'y': array([100., 105., 102.,  98., 102., 100.,  95.,  99., 103.,  98., 102., 100.]),\n",
       "              'yaxis': 'y'},\n",
       "             {'hovertemplate': 'Well_ID=Well-002<br>Timestamp=%{x}<br>Engine_Oil_Pressure=%{y}<extra></extra>',\n",
       "              'legendgroup': 'Well-002',\n",
       "              'line': {'color': '#EF553B', 'dash': 'solid'},\n",
       "              'marker': {'symbol': 'circle'},\n",
       "              'mode': 'lines',\n",
       "              'name': 'Well-002',\n",
       "              'orientation': 'v',\n",
       "              'showlegend': True,\n",
       "              'type': 'scatter',\n",
       "              'x': array(['2023-06-08 09:00:00', '2023-06-08 09:30:00', '2023-06-08 10:00:00',\n",
       "                          '2023-06-08 10:30:00', '2023-06-08 11:00:00', '2023-06-08 11:30:00',\n",
       "                          '2023-06-08 12:00:00', '2023-06-08 12:30:00', '2023-06-08 13:00:00',\n",
       "                          '2023-06-08 13:30:00', '2023-06-08 14:00:00', '2023-06-08 14:30:00'],\n",
       "                         dtype=object),\n",
       "              'xaxis': 'x',\n",
       "              'y': array([ 98., 103., 100., 102.,  99., 104.,  96., 100., 104.,  99., 103., 101.]),\n",
       "              'yaxis': 'y'},\n",
       "             {'hovertemplate': 'Well_ID=Well-003<br>Timestamp=%{x}<br>Engine_Oil_Pressure=%{y}<extra></extra>',\n",
       "              'legendgroup': 'Well-003',\n",
       "              'line': {'color': '#00cc96', 'dash': 'solid'},\n",
       "              'marker': {'symbol': 'circle'},\n",
       "              'mode': 'lines',\n",
       "              'name': 'Well-003',\n",
       "              'orientation': 'v',\n",
       "              'showlegend': True,\n",
       "              'type': 'scatter',\n",
       "              'x': array(['2023-06-08 09:00:00', '2023-06-08 09:30:00', '2023-06-08 10:00:00',\n",
       "                          '2023-06-08 10:30:00', '2023-06-08 11:00:00', '2023-06-08 11:30:00',\n",
       "                          '2023-06-08 12:00:00', '2023-06-08 12:30:00', '2023-06-08 13:00:00',\n",
       "                          '2023-06-08 13:30:00', '2023-06-08 14:00:00', '2023-06-08 14:30:00'],\n",
       "                         dtype=object),\n",
       "              'xaxis': 'x',\n",
       "              'y': array([ 99., 104., 101., 103., 100., 105.,  97., 101., 105., 100., 104., 102.]),\n",
       "              'yaxis': 'y'},\n",
       "             {'hovertemplate': 'Well_ID=Well-004<br>Timestamp=%{x}<br>Engine_Oil_Pressure=%{y}<extra></extra>',\n",
       "              'legendgroup': 'Well-004',\n",
       "              'line': {'color': '#ab63fa', 'dash': 'solid'},\n",
       "              'marker': {'symbol': 'circle'},\n",
       "              'mode': 'lines',\n",
       "              'name': 'Well-004',\n",
       "              'orientation': 'v',\n",
       "              'showlegend': True,\n",
       "              'type': 'scatter',\n",
       "              'x': array(['2023-06-08 09:00:00', '2023-06-08 09:30:00', '2023-06-08 10:00:00',\n",
       "                          '2023-06-08 10:30:00', '2023-06-08 11:00:00', '2023-06-08 11:30:00',\n",
       "                          '2023-06-08 12:00:00', '2023-06-08 12:30:00', '2023-06-08 13:00:00',\n",
       "                          '2023-06-08 13:30:00', '2023-06-08 14:00:00', '2023-06-08 14:30:00'],\n",
       "                         dtype=object),\n",
       "              'xaxis': 'x',\n",
       "              'y': array([ 97., 102.,  99., 101.,  98., 103.,  96., 100., 104.,  99., 103., 101.]),\n",
       "              'yaxis': 'y'},\n",
       "             {'hovertemplate': 'Well_ID=Well-005<br>Timestamp=%{x}<br>Engine_Oil_Pressure=%{y}<extra></extra>',\n",
       "              'legendgroup': 'Well-005',\n",
       "              'line': {'color': '#FFA15A', 'dash': 'solid'},\n",
       "              'marker': {'symbol': 'circle'},\n",
       "              'mode': 'lines',\n",
       "              'name': 'Well-005',\n",
       "              'orientation': 'v',\n",
       "              'showlegend': True,\n",
       "              'type': 'scatter',\n",
       "              'x': array(['2023-06-08 09:00:00', '2023-06-08 09:30:00', '2023-06-08 10:00:00',\n",
       "                          '2023-06-08 10:30:00', '2023-06-08 11:00:00', '2023-06-08 11:30:00',\n",
       "                          '2023-06-08 12:00:00', '2023-06-08 12:30:00', '2023-06-08 13:00:00',\n",
       "                          '2023-06-08 13:30:00', '2023-06-08 14:00:00', '2023-06-08 14:30:00'],\n",
       "                         dtype=object),\n",
       "              'xaxis': 'x',\n",
       "              'y': array([100., 105., 102.,  98., 102., 100.,  95.,  99., 103.,  98., 102., 100.]),\n",
       "              'yaxis': 'y'},\n",
       "             {'hovertemplate': 'Well_ID=Well-006<br>Timestamp=%{x}<br>Engine_Oil_Pressure=%{y}<extra></extra>',\n",
       "              'legendgroup': 'Well-006',\n",
       "              'line': {'color': '#19d3f3', 'dash': 'solid'},\n",
       "              'marker': {'symbol': 'circle'},\n",
       "              'mode': 'lines',\n",
       "              'name': 'Well-006',\n",
       "              'orientation': 'v',\n",
       "              'showlegend': True,\n",
       "              'type': 'scatter',\n",
       "              'x': array(['2023-06-08 09:00:00', '2023-06-08 09:30:00', '2023-06-08 10:00:00',\n",
       "                          '2023-06-08 10:30:00', '2023-06-08 11:00:00', '2023-06-08 11:30:00',\n",
       "                          '2023-06-08 12:00:00', '2023-06-08 12:30:00', '2023-06-08 13:00:00',\n",
       "                          '2023-06-08 13:30:00', '2023-06-08 14:00:00', '2023-06-08 14:30:00'],\n",
       "                         dtype=object),\n",
       "              'xaxis': 'x',\n",
       "              'y': array([ 98., 103., 100., 102.,  99., 104.,  96., 100., 104.,  99., 103., 101.]),\n",
       "              'yaxis': 'y'},\n",
       "             {'hovertemplate': 'Well_ID=Well-007<br>Timestamp=%{x}<br>Engine_Oil_Pressure=%{y}<extra></extra>',\n",
       "              'legendgroup': 'Well-007',\n",
       "              'line': {'color': '#FF6692', 'dash': 'solid'},\n",
       "              'marker': {'symbol': 'circle'},\n",
       "              'mode': 'lines',\n",
       "              'name': 'Well-007',\n",
       "              'orientation': 'v',\n",
       "              'showlegend': True,\n",
       "              'type': 'scatter',\n",
       "              'x': array(['2023-06-08 09:00:00', '2023-06-08 09:30:00', '2023-06-08 10:00:00',\n",
       "                          '2023-06-08 10:30:00', '2023-06-08 11:00:00', '2023-06-08 11:30:00',\n",
       "                          '2023-06-08 12:00:00', '2023-06-08 12:30:00', '2023-06-08 13:00:00',\n",
       "                          '2023-06-08 13:30:00', '2023-06-08 14:00:00', '2023-06-08 14:30:00'],\n",
       "                         dtype=object),\n",
       "              'xaxis': 'x',\n",
       "              'y': array([ 99., 104., 101., 103., 100., 105.,  97., 101., 105., 100., 104., 102.]),\n",
       "              'yaxis': 'y'},\n",
       "             {'hovertemplate': 'Well_ID=Well-008<br>Timestamp=%{x}<br>Engine_Oil_Pressure=%{y}<extra></extra>',\n",
       "              'legendgroup': 'Well-008',\n",
       "              'line': {'color': '#B6E880', 'dash': 'solid'},\n",
       "              'marker': {'symbol': 'circle'},\n",
       "              'mode': 'lines',\n",
       "              'name': 'Well-008',\n",
       "              'orientation': 'v',\n",
       "              'showlegend': True,\n",
       "              'type': 'scatter',\n",
       "              'x': array(['2023-06-08 09:00:00', '2023-06-08 09:30:00', '2023-06-08 10:00:00',\n",
       "                          '2023-06-08 10:30:00', '2023-06-08 11:00:00', '2023-06-08 11:30:00',\n",
       "                          '2023-06-08 12:00:00', '2023-06-08 12:30:00', '2023-06-08 13:00:00',\n",
       "                          '2023-06-08 13:30:00', '2023-06-08 14:00:00', '2023-06-08 14:30:00'],\n",
       "                         dtype=object),\n",
       "              'xaxis': 'x',\n",
       "              'y': array([ 97., 102.,  99., 101.,  98., 103.,  96., 100., 104.,  99., 103., 101.]),\n",
       "              'yaxis': 'y'},\n",
       "             {'hovertemplate': 'Well_ID=Well-009<br>Timestamp=%{x}<br>Engine_Oil_Pressure=%{y}<extra></extra>',\n",
       "              'legendgroup': 'Well-009',\n",
       "              'line': {'color': '#FF97FF', 'dash': 'solid'},\n",
       "              'marker': {'symbol': 'circle'},\n",
       "              'mode': 'lines',\n",
       "              'name': 'Well-009',\n",
       "              'orientation': 'v',\n",
       "              'showlegend': True,\n",
       "              'type': 'scatter',\n",
       "              'x': array(['2023-06-08 09:00:00', '2023-06-08 09:30:00', '2023-06-08 10:00:00',\n",
       "                          '2023-06-08 10:30:00', '2023-06-08 11:00:00', '2023-06-08 11:30:00',\n",
       "                          '2023-06-08 12:00:00', '2023-06-08 12:30:00', '2023-06-08 13:00:00',\n",
       "                          '2023-06-08 13:30:00', '2023-06-08 14:00:00', '2023-06-08 14:30:00'],\n",
       "                         dtype=object),\n",
       "              'xaxis': 'x',\n",
       "              'y': array([100., 105., 102.,  98., 102., 100.,  95.,  99., 103.,  98., 102., 100.]),\n",
       "              'yaxis': 'y'},\n",
       "             {'hovertemplate': 'Well_ID=Well-010<br>Timestamp=%{x}<br>Engine_Oil_Pressure=%{y}<extra></extra>',\n",
       "              'legendgroup': 'Well-010',\n",
       "              'line': {'color': '#FECB52', 'dash': 'solid'},\n",
       "              'marker': {'symbol': 'circle'},\n",
       "              'mode': 'lines',\n",
       "              'name': 'Well-010',\n",
       "              'orientation': 'v',\n",
       "              'showlegend': True,\n",
       "              'type': 'scatter',\n",
       "              'x': array(['2023-06-08 09:00:00', '2023-06-08 09:30:00', '2023-06-08 10:00:00',\n",
       "                          '2023-06-08 10:30:00', '2023-06-08 11:00:00', '2023-06-08 11:30:00',\n",
       "                          '2023-06-08 12:00:00', '2023-06-08 12:30:00', '2023-06-08 13:00:00',\n",
       "                          '2023-06-08 13:30:00', '2023-06-08 14:00:00', '2023-06-08 14:30:00'],\n",
       "                         dtype=object),\n",
       "              'xaxis': 'x',\n",
       "              'y': array([ 98., 103., 100., 102.,  99., 104.,  96., 100., 104.,  99., 103., 101.]),\n",
       "              'yaxis': 'y'}],\n",
       "    'layout': {'legend': {'title': {'text': 'Well_ID'}, 'tracegroupgap': 0},\n",
       "               'margin': {'t': 60},\n",
       "               'template': '...',\n",
       "               'xaxis': {'anchor': 'y', 'domain': [0.0, 1.0], 'title': {'text': 'Timestamp'}},\n",
       "               'yaxis': {'anchor': 'x', 'domain': [0.0, 1.0], 'title': {'text': 'Engine_Oil_Pressure'}}}\n",
       "})"
      ]
     },
     "metadata": {},
     "output_type": "display_data"
    }
   ],
   "source": [
    "fig= px.line(data, x='Timestamp', y='Engine_Oil_Pressure',color='Well_ID')\n",
    "display(fig)\n"
   ]
  },
  {
   "cell_type": "code",
   "execution_count": 11,
   "metadata": {},
   "outputs": [
    {
     "name": "stdout",
     "output_type": "stream",
     "text": [
      "   Stage     avg_EOP  avg_FR\n",
      "0      1  100.933333   550.0\n",
      "3      2  101.166667   650.0\n",
      "1      3   99.900000   730.0\n",
      "2      4  100.900000   810.0\n"
     ]
    },
    {
     "ename": "ValueError",
     "evalue": "Mime type rendering requires nbformat>=4.2.0 but it is not installed",
     "output_type": "error",
     "traceback": [
      "\u001b[0;31m---------------------------------------------------------------------------\u001b[0m",
      "\u001b[0;31mValueError\u001b[0m                                Traceback (most recent call last)",
      "File \u001b[0;32m~/Library/Python/3.9/lib/python/site-packages/IPython/core/formatters.py:922\u001b[0m, in \u001b[0;36mIPythonDisplayFormatter.__call__\u001b[0;34m(self, obj)\u001b[0m\n\u001b[1;32m    920\u001b[0m method \u001b[39m=\u001b[39m get_real_method(obj, \u001b[39mself\u001b[39m\u001b[39m.\u001b[39mprint_method)\n\u001b[1;32m    921\u001b[0m \u001b[39mif\u001b[39;00m method \u001b[39mis\u001b[39;00m \u001b[39mnot\u001b[39;00m \u001b[39mNone\u001b[39;00m:\n\u001b[0;32m--> 922\u001b[0m     method()\n\u001b[1;32m    923\u001b[0m     \u001b[39mreturn\u001b[39;00m \u001b[39mTrue\u001b[39;00m\n",
      "File \u001b[0;32m~/Library/Python/3.9/lib/python/site-packages/plotly/basedatatypes.py:834\u001b[0m, in \u001b[0;36mBaseFigure._ipython_display_\u001b[0;34m(self)\u001b[0m\n\u001b[1;32m    831\u001b[0m \u001b[39mimport\u001b[39;00m \u001b[39mplotly\u001b[39;00m\u001b[39m.\u001b[39;00m\u001b[39mio\u001b[39;00m \u001b[39mas\u001b[39;00m \u001b[39mpio\u001b[39;00m\n\u001b[1;32m    833\u001b[0m \u001b[39mif\u001b[39;00m pio\u001b[39m.\u001b[39mrenderers\u001b[39m.\u001b[39mrender_on_display \u001b[39mand\u001b[39;00m pio\u001b[39m.\u001b[39mrenderers\u001b[39m.\u001b[39mdefault:\n\u001b[0;32m--> 834\u001b[0m     pio\u001b[39m.\u001b[39;49mshow(\u001b[39mself\u001b[39;49m)\n\u001b[1;32m    835\u001b[0m \u001b[39melse\u001b[39;00m:\n\u001b[1;32m    836\u001b[0m     \u001b[39mprint\u001b[39m(\u001b[39mrepr\u001b[39m(\u001b[39mself\u001b[39m))\n",
      "File \u001b[0;32m~/Library/Python/3.9/lib/python/site-packages/plotly/io/_renderers.py:396\u001b[0m, in \u001b[0;36mshow\u001b[0;34m(fig, renderer, validate, **kwargs)\u001b[0m\n\u001b[1;32m    391\u001b[0m         \u001b[39mraise\u001b[39;00m \u001b[39mValueError\u001b[39;00m(\n\u001b[1;32m    392\u001b[0m             \u001b[39m\"\u001b[39m\u001b[39mMime type rendering requires ipython but it is not installed\u001b[39m\u001b[39m\"\u001b[39m\n\u001b[1;32m    393\u001b[0m         )\n\u001b[1;32m    395\u001b[0m     \u001b[39mif\u001b[39;00m \u001b[39mnot\u001b[39;00m nbformat \u001b[39mor\u001b[39;00m Version(nbformat\u001b[39m.\u001b[39m__version__) \u001b[39m<\u001b[39m Version(\u001b[39m\"\u001b[39m\u001b[39m4.2.0\u001b[39m\u001b[39m\"\u001b[39m):\n\u001b[0;32m--> 396\u001b[0m         \u001b[39mraise\u001b[39;00m \u001b[39mValueError\u001b[39;00m(\n\u001b[1;32m    397\u001b[0m             \u001b[39m\"\u001b[39m\u001b[39mMime type rendering requires nbformat>=4.2.0 but it is not installed\u001b[39m\u001b[39m\"\u001b[39m\n\u001b[1;32m    398\u001b[0m         )\n\u001b[1;32m    400\u001b[0m     ipython_display\u001b[39m.\u001b[39mdisplay(bundle, raw\u001b[39m=\u001b[39m\u001b[39mTrue\u001b[39;00m)\n\u001b[1;32m    402\u001b[0m \u001b[39m# external renderers\u001b[39;00m\n",
      "\u001b[0;31mValueError\u001b[0m: Mime type rendering requires nbformat>=4.2.0 but it is not installed"
     ]
    },
    {
     "data": {
      "application/vnd.plotly.v1+json": {
       "config": {
        "plotlyServerURL": "https://plot.ly"
       },
       "data": [
        {
         "mode": "markers",
         "name": "Fluid Rate and Stage",
         "type": "scatter",
         "x": [
          1,
          2,
          3,
          4
         ],
         "y": [
          550,
          650,
          730,
          810
         ]
        },
        {
         "mode": "markers",
         "name": "Fluid Rate and Stage",
         "type": "scatter",
         "x": [
          1,
          2,
          3,
          4
         ],
         "y": [
          100.93333333333334,
          101.16666666666667,
          99.9,
          100.9
         ]
        }
       ],
       "layout": {
        "legend": {
         "x": 1,
         "y": 1
        },
        "showlegend": true,
        "template": {
         "data": {
          "bar": [
           {
            "error_x": {
             "color": "#2a3f5f"
            },
            "error_y": {
             "color": "#2a3f5f"
            },
            "marker": {
             "line": {
              "color": "#E5ECF6",
              "width": 0.5
             },
             "pattern": {
              "fillmode": "overlay",
              "size": 10,
              "solidity": 0.2
             }
            },
            "type": "bar"
           }
          ],
          "barpolar": [
           {
            "marker": {
             "line": {
              "color": "#E5ECF6",
              "width": 0.5
             },
             "pattern": {
              "fillmode": "overlay",
              "size": 10,
              "solidity": 0.2
             }
            },
            "type": "barpolar"
           }
          ],
          "carpet": [
           {
            "aaxis": {
             "endlinecolor": "#2a3f5f",
             "gridcolor": "white",
             "linecolor": "white",
             "minorgridcolor": "white",
             "startlinecolor": "#2a3f5f"
            },
            "baxis": {
             "endlinecolor": "#2a3f5f",
             "gridcolor": "white",
             "linecolor": "white",
             "minorgridcolor": "white",
             "startlinecolor": "#2a3f5f"
            },
            "type": "carpet"
           }
          ],
          "choropleth": [
           {
            "colorbar": {
             "outlinewidth": 0,
             "ticks": ""
            },
            "type": "choropleth"
           }
          ],
          "contour": [
           {
            "colorbar": {
             "outlinewidth": 0,
             "ticks": ""
            },
            "colorscale": [
             [
              0,
              "#0d0887"
             ],
             [
              0.1111111111111111,
              "#46039f"
             ],
             [
              0.2222222222222222,
              "#7201a8"
             ],
             [
              0.3333333333333333,
              "#9c179e"
             ],
             [
              0.4444444444444444,
              "#bd3786"
             ],
             [
              0.5555555555555556,
              "#d8576b"
             ],
             [
              0.6666666666666666,
              "#ed7953"
             ],
             [
              0.7777777777777778,
              "#fb9f3a"
             ],
             [
              0.8888888888888888,
              "#fdca26"
             ],
             [
              1,
              "#f0f921"
             ]
            ],
            "type": "contour"
           }
          ],
          "contourcarpet": [
           {
            "colorbar": {
             "outlinewidth": 0,
             "ticks": ""
            },
            "type": "contourcarpet"
           }
          ],
          "heatmap": [
           {
            "colorbar": {
             "outlinewidth": 0,
             "ticks": ""
            },
            "colorscale": [
             [
              0,
              "#0d0887"
             ],
             [
              0.1111111111111111,
              "#46039f"
             ],
             [
              0.2222222222222222,
              "#7201a8"
             ],
             [
              0.3333333333333333,
              "#9c179e"
             ],
             [
              0.4444444444444444,
              "#bd3786"
             ],
             [
              0.5555555555555556,
              "#d8576b"
             ],
             [
              0.6666666666666666,
              "#ed7953"
             ],
             [
              0.7777777777777778,
              "#fb9f3a"
             ],
             [
              0.8888888888888888,
              "#fdca26"
             ],
             [
              1,
              "#f0f921"
             ]
            ],
            "type": "heatmap"
           }
          ],
          "heatmapgl": [
           {
            "colorbar": {
             "outlinewidth": 0,
             "ticks": ""
            },
            "colorscale": [
             [
              0,
              "#0d0887"
             ],
             [
              0.1111111111111111,
              "#46039f"
             ],
             [
              0.2222222222222222,
              "#7201a8"
             ],
             [
              0.3333333333333333,
              "#9c179e"
             ],
             [
              0.4444444444444444,
              "#bd3786"
             ],
             [
              0.5555555555555556,
              "#d8576b"
             ],
             [
              0.6666666666666666,
              "#ed7953"
             ],
             [
              0.7777777777777778,
              "#fb9f3a"
             ],
             [
              0.8888888888888888,
              "#fdca26"
             ],
             [
              1,
              "#f0f921"
             ]
            ],
            "type": "heatmapgl"
           }
          ],
          "histogram": [
           {
            "marker": {
             "pattern": {
              "fillmode": "overlay",
              "size": 10,
              "solidity": 0.2
             }
            },
            "type": "histogram"
           }
          ],
          "histogram2d": [
           {
            "colorbar": {
             "outlinewidth": 0,
             "ticks": ""
            },
            "colorscale": [
             [
              0,
              "#0d0887"
             ],
             [
              0.1111111111111111,
              "#46039f"
             ],
             [
              0.2222222222222222,
              "#7201a8"
             ],
             [
              0.3333333333333333,
              "#9c179e"
             ],
             [
              0.4444444444444444,
              "#bd3786"
             ],
             [
              0.5555555555555556,
              "#d8576b"
             ],
             [
              0.6666666666666666,
              "#ed7953"
             ],
             [
              0.7777777777777778,
              "#fb9f3a"
             ],
             [
              0.8888888888888888,
              "#fdca26"
             ],
             [
              1,
              "#f0f921"
             ]
            ],
            "type": "histogram2d"
           }
          ],
          "histogram2dcontour": [
           {
            "colorbar": {
             "outlinewidth": 0,
             "ticks": ""
            },
            "colorscale": [
             [
              0,
              "#0d0887"
             ],
             [
              0.1111111111111111,
              "#46039f"
             ],
             [
              0.2222222222222222,
              "#7201a8"
             ],
             [
              0.3333333333333333,
              "#9c179e"
             ],
             [
              0.4444444444444444,
              "#bd3786"
             ],
             [
              0.5555555555555556,
              "#d8576b"
             ],
             [
              0.6666666666666666,
              "#ed7953"
             ],
             [
              0.7777777777777778,
              "#fb9f3a"
             ],
             [
              0.8888888888888888,
              "#fdca26"
             ],
             [
              1,
              "#f0f921"
             ]
            ],
            "type": "histogram2dcontour"
           }
          ],
          "mesh3d": [
           {
            "colorbar": {
             "outlinewidth": 0,
             "ticks": ""
            },
            "type": "mesh3d"
           }
          ],
          "parcoords": [
           {
            "line": {
             "colorbar": {
              "outlinewidth": 0,
              "ticks": ""
             }
            },
            "type": "parcoords"
           }
          ],
          "pie": [
           {
            "automargin": true,
            "type": "pie"
           }
          ],
          "scatter": [
           {
            "fillpattern": {
             "fillmode": "overlay",
             "size": 10,
             "solidity": 0.2
            },
            "type": "scatter"
           }
          ],
          "scatter3d": [
           {
            "line": {
             "colorbar": {
              "outlinewidth": 0,
              "ticks": ""
             }
            },
            "marker": {
             "colorbar": {
              "outlinewidth": 0,
              "ticks": ""
             }
            },
            "type": "scatter3d"
           }
          ],
          "scattercarpet": [
           {
            "marker": {
             "colorbar": {
              "outlinewidth": 0,
              "ticks": ""
             }
            },
            "type": "scattercarpet"
           }
          ],
          "scattergeo": [
           {
            "marker": {
             "colorbar": {
              "outlinewidth": 0,
              "ticks": ""
             }
            },
            "type": "scattergeo"
           }
          ],
          "scattergl": [
           {
            "marker": {
             "colorbar": {
              "outlinewidth": 0,
              "ticks": ""
             }
            },
            "type": "scattergl"
           }
          ],
          "scattermapbox": [
           {
            "marker": {
             "colorbar": {
              "outlinewidth": 0,
              "ticks": ""
             }
            },
            "type": "scattermapbox"
           }
          ],
          "scatterpolar": [
           {
            "marker": {
             "colorbar": {
              "outlinewidth": 0,
              "ticks": ""
             }
            },
            "type": "scatterpolar"
           }
          ],
          "scatterpolargl": [
           {
            "marker": {
             "colorbar": {
              "outlinewidth": 0,
              "ticks": ""
             }
            },
            "type": "scatterpolargl"
           }
          ],
          "scatterternary": [
           {
            "marker": {
             "colorbar": {
              "outlinewidth": 0,
              "ticks": ""
             }
            },
            "type": "scatterternary"
           }
          ],
          "surface": [
           {
            "colorbar": {
             "outlinewidth": 0,
             "ticks": ""
            },
            "colorscale": [
             [
              0,
              "#0d0887"
             ],
             [
              0.1111111111111111,
              "#46039f"
             ],
             [
              0.2222222222222222,
              "#7201a8"
             ],
             [
              0.3333333333333333,
              "#9c179e"
             ],
             [
              0.4444444444444444,
              "#bd3786"
             ],
             [
              0.5555555555555556,
              "#d8576b"
             ],
             [
              0.6666666666666666,
              "#ed7953"
             ],
             [
              0.7777777777777778,
              "#fb9f3a"
             ],
             [
              0.8888888888888888,
              "#fdca26"
             ],
             [
              1,
              "#f0f921"
             ]
            ],
            "type": "surface"
           }
          ],
          "table": [
           {
            "cells": {
             "fill": {
              "color": "#EBF0F8"
             },
             "line": {
              "color": "white"
             }
            },
            "header": {
             "fill": {
              "color": "#C8D4E3"
             },
             "line": {
              "color": "white"
             }
            },
            "type": "table"
           }
          ]
         },
         "layout": {
          "annotationdefaults": {
           "arrowcolor": "#2a3f5f",
           "arrowhead": 0,
           "arrowwidth": 1
          },
          "autotypenumbers": "strict",
          "coloraxis": {
           "colorbar": {
            "outlinewidth": 0,
            "ticks": ""
           }
          },
          "colorscale": {
           "diverging": [
            [
             0,
             "#8e0152"
            ],
            [
             0.1,
             "#c51b7d"
            ],
            [
             0.2,
             "#de77ae"
            ],
            [
             0.3,
             "#f1b6da"
            ],
            [
             0.4,
             "#fde0ef"
            ],
            [
             0.5,
             "#f7f7f7"
            ],
            [
             0.6,
             "#e6f5d0"
            ],
            [
             0.7,
             "#b8e186"
            ],
            [
             0.8,
             "#7fbc41"
            ],
            [
             0.9,
             "#4d9221"
            ],
            [
             1,
             "#276419"
            ]
           ],
           "sequential": [
            [
             0,
             "#0d0887"
            ],
            [
             0.1111111111111111,
             "#46039f"
            ],
            [
             0.2222222222222222,
             "#7201a8"
            ],
            [
             0.3333333333333333,
             "#9c179e"
            ],
            [
             0.4444444444444444,
             "#bd3786"
            ],
            [
             0.5555555555555556,
             "#d8576b"
            ],
            [
             0.6666666666666666,
             "#ed7953"
            ],
            [
             0.7777777777777778,
             "#fb9f3a"
            ],
            [
             0.8888888888888888,
             "#fdca26"
            ],
            [
             1,
             "#f0f921"
            ]
           ],
           "sequentialminus": [
            [
             0,
             "#0d0887"
            ],
            [
             0.1111111111111111,
             "#46039f"
            ],
            [
             0.2222222222222222,
             "#7201a8"
            ],
            [
             0.3333333333333333,
             "#9c179e"
            ],
            [
             0.4444444444444444,
             "#bd3786"
            ],
            [
             0.5555555555555556,
             "#d8576b"
            ],
            [
             0.6666666666666666,
             "#ed7953"
            ],
            [
             0.7777777777777778,
             "#fb9f3a"
            ],
            [
             0.8888888888888888,
             "#fdca26"
            ],
            [
             1,
             "#f0f921"
            ]
           ]
          },
          "colorway": [
           "#636efa",
           "#EF553B",
           "#00cc96",
           "#ab63fa",
           "#FFA15A",
           "#19d3f3",
           "#FF6692",
           "#B6E880",
           "#FF97FF",
           "#FECB52"
          ],
          "font": {
           "color": "#2a3f5f"
          },
          "geo": {
           "bgcolor": "white",
           "lakecolor": "white",
           "landcolor": "#E5ECF6",
           "showlakes": true,
           "showland": true,
           "subunitcolor": "white"
          },
          "hoverlabel": {
           "align": "left"
          },
          "hovermode": "closest",
          "mapbox": {
           "style": "light"
          },
          "paper_bgcolor": "white",
          "plot_bgcolor": "#E5ECF6",
          "polar": {
           "angularaxis": {
            "gridcolor": "white",
            "linecolor": "white",
            "ticks": ""
           },
           "bgcolor": "#E5ECF6",
           "radialaxis": {
            "gridcolor": "white",
            "linecolor": "white",
            "ticks": ""
           }
          },
          "scene": {
           "xaxis": {
            "backgroundcolor": "#E5ECF6",
            "gridcolor": "white",
            "gridwidth": 2,
            "linecolor": "white",
            "showbackground": true,
            "ticks": "",
            "zerolinecolor": "white"
           },
           "yaxis": {
            "backgroundcolor": "#E5ECF6",
            "gridcolor": "white",
            "gridwidth": 2,
            "linecolor": "white",
            "showbackground": true,
            "ticks": "",
            "zerolinecolor": "white"
           },
           "zaxis": {
            "backgroundcolor": "#E5ECF6",
            "gridcolor": "white",
            "gridwidth": 2,
            "linecolor": "white",
            "showbackground": true,
            "ticks": "",
            "zerolinecolor": "white"
           }
          },
          "shapedefaults": {
           "line": {
            "color": "#2a3f5f"
           }
          },
          "ternary": {
           "aaxis": {
            "gridcolor": "white",
            "linecolor": "white",
            "ticks": ""
           },
           "baxis": {
            "gridcolor": "white",
            "linecolor": "white",
            "ticks": ""
           },
           "bgcolor": "#E5ECF6",
           "caxis": {
            "gridcolor": "white",
            "linecolor": "white",
            "ticks": ""
           }
          },
          "title": {
           "x": 0.05
          },
          "xaxis": {
           "automargin": true,
           "gridcolor": "white",
           "linecolor": "white",
           "ticks": "",
           "title": {
            "standoff": 15
           },
           "zerolinecolor": "white",
           "zerolinewidth": 2
          },
          "yaxis": {
           "automargin": true,
           "gridcolor": "white",
           "linecolor": "white",
           "ticks": "",
           "title": {
            "standoff": 15
           },
           "zerolinecolor": "white",
           "zerolinewidth": 2
          }
         }
        },
        "title": {
         "text": "Well Data"
        },
        "xaxis": {
         "title": {
          "text": "Stage"
         }
        },
        "yaxis": {
         "title": {
          "text": "Fluid Rate"
         }
        },
        "yaxis2": {
         "overlaying": "y",
         "side": "right",
         "title": {
          "text": "Engine Oil Pressure"
         }
        }
       }
      },
      "text/html": [
       "<div>                        <script type=\"text/javascript\">window.PlotlyConfig = {MathJaxConfig: 'local'};</script>\n",
       "        <script charset=\"utf-8\" src=\"https://cdn.plot.ly/plotly-2.20.0.min.js\"></script>                <div id=\"6d35e43a-17c9-490e-99ff-a5808f9bd5d3\" class=\"plotly-graph-div\" style=\"height:100%; width:100%;\"></div>            <script type=\"text/javascript\">                                    window.PLOTLYENV=window.PLOTLYENV || {};                                    if (document.getElementById(\"6d35e43a-17c9-490e-99ff-a5808f9bd5d3\")) {                    Plotly.newPlot(                        \"6d35e43a-17c9-490e-99ff-a5808f9bd5d3\",                        [{\"mode\":\"markers\",\"name\":\"Fluid Rate and Stage\",\"x\":[1,2,3,4],\"y\":[550.0,650.0,730.0,810.0],\"type\":\"scatter\"},{\"mode\":\"markers\",\"name\":\"Fluid Rate and Stage\",\"x\":[1,2,3,4],\"y\":[100.93333333333334,101.16666666666667,99.9,100.9],\"type\":\"scatter\"}],                        {\"template\":{\"data\":{\"histogram2dcontour\":[{\"type\":\"histogram2dcontour\",\"colorbar\":{\"outlinewidth\":0,\"ticks\":\"\"},\"colorscale\":[[0.0,\"#0d0887\"],[0.1111111111111111,\"#46039f\"],[0.2222222222222222,\"#7201a8\"],[0.3333333333333333,\"#9c179e\"],[0.4444444444444444,\"#bd3786\"],[0.5555555555555556,\"#d8576b\"],[0.6666666666666666,\"#ed7953\"],[0.7777777777777778,\"#fb9f3a\"],[0.8888888888888888,\"#fdca26\"],[1.0,\"#f0f921\"]]}],\"choropleth\":[{\"type\":\"choropleth\",\"colorbar\":{\"outlinewidth\":0,\"ticks\":\"\"}}],\"histogram2d\":[{\"type\":\"histogram2d\",\"colorbar\":{\"outlinewidth\":0,\"ticks\":\"\"},\"colorscale\":[[0.0,\"#0d0887\"],[0.1111111111111111,\"#46039f\"],[0.2222222222222222,\"#7201a8\"],[0.3333333333333333,\"#9c179e\"],[0.4444444444444444,\"#bd3786\"],[0.5555555555555556,\"#d8576b\"],[0.6666666666666666,\"#ed7953\"],[0.7777777777777778,\"#fb9f3a\"],[0.8888888888888888,\"#fdca26\"],[1.0,\"#f0f921\"]]}],\"heatmap\":[{\"type\":\"heatmap\",\"colorbar\":{\"outlinewidth\":0,\"ticks\":\"\"},\"colorscale\":[[0.0,\"#0d0887\"],[0.1111111111111111,\"#46039f\"],[0.2222222222222222,\"#7201a8\"],[0.3333333333333333,\"#9c179e\"],[0.4444444444444444,\"#bd3786\"],[0.5555555555555556,\"#d8576b\"],[0.6666666666666666,\"#ed7953\"],[0.7777777777777778,\"#fb9f3a\"],[0.8888888888888888,\"#fdca26\"],[1.0,\"#f0f921\"]]}],\"heatmapgl\":[{\"type\":\"heatmapgl\",\"colorbar\":{\"outlinewidth\":0,\"ticks\":\"\"},\"colorscale\":[[0.0,\"#0d0887\"],[0.1111111111111111,\"#46039f\"],[0.2222222222222222,\"#7201a8\"],[0.3333333333333333,\"#9c179e\"],[0.4444444444444444,\"#bd3786\"],[0.5555555555555556,\"#d8576b\"],[0.6666666666666666,\"#ed7953\"],[0.7777777777777778,\"#fb9f3a\"],[0.8888888888888888,\"#fdca26\"],[1.0,\"#f0f921\"]]}],\"contourcarpet\":[{\"type\":\"contourcarpet\",\"colorbar\":{\"outlinewidth\":0,\"ticks\":\"\"}}],\"contour\":[{\"type\":\"contour\",\"colorbar\":{\"outlinewidth\":0,\"ticks\":\"\"},\"colorscale\":[[0.0,\"#0d0887\"],[0.1111111111111111,\"#46039f\"],[0.2222222222222222,\"#7201a8\"],[0.3333333333333333,\"#9c179e\"],[0.4444444444444444,\"#bd3786\"],[0.5555555555555556,\"#d8576b\"],[0.6666666666666666,\"#ed7953\"],[0.7777777777777778,\"#fb9f3a\"],[0.8888888888888888,\"#fdca26\"],[1.0,\"#f0f921\"]]}],\"surface\":[{\"type\":\"surface\",\"colorbar\":{\"outlinewidth\":0,\"ticks\":\"\"},\"colorscale\":[[0.0,\"#0d0887\"],[0.1111111111111111,\"#46039f\"],[0.2222222222222222,\"#7201a8\"],[0.3333333333333333,\"#9c179e\"],[0.4444444444444444,\"#bd3786\"],[0.5555555555555556,\"#d8576b\"],[0.6666666666666666,\"#ed7953\"],[0.7777777777777778,\"#fb9f3a\"],[0.8888888888888888,\"#fdca26\"],[1.0,\"#f0f921\"]]}],\"mesh3d\":[{\"type\":\"mesh3d\",\"colorbar\":{\"outlinewidth\":0,\"ticks\":\"\"}}],\"scatter\":[{\"fillpattern\":{\"fillmode\":\"overlay\",\"size\":10,\"solidity\":0.2},\"type\":\"scatter\"}],\"parcoords\":[{\"type\":\"parcoords\",\"line\":{\"colorbar\":{\"outlinewidth\":0,\"ticks\":\"\"}}}],\"scatterpolargl\":[{\"type\":\"scatterpolargl\",\"marker\":{\"colorbar\":{\"outlinewidth\":0,\"ticks\":\"\"}}}],\"bar\":[{\"error_x\":{\"color\":\"#2a3f5f\"},\"error_y\":{\"color\":\"#2a3f5f\"},\"marker\":{\"line\":{\"color\":\"#E5ECF6\",\"width\":0.5},\"pattern\":{\"fillmode\":\"overlay\",\"size\":10,\"solidity\":0.2}},\"type\":\"bar\"}],\"scattergeo\":[{\"type\":\"scattergeo\",\"marker\":{\"colorbar\":{\"outlinewidth\":0,\"ticks\":\"\"}}}],\"scatterpolar\":[{\"type\":\"scatterpolar\",\"marker\":{\"colorbar\":{\"outlinewidth\":0,\"ticks\":\"\"}}}],\"histogram\":[{\"marker\":{\"pattern\":{\"fillmode\":\"overlay\",\"size\":10,\"solidity\":0.2}},\"type\":\"histogram\"}],\"scattergl\":[{\"type\":\"scattergl\",\"marker\":{\"colorbar\":{\"outlinewidth\":0,\"ticks\":\"\"}}}],\"scatter3d\":[{\"type\":\"scatter3d\",\"line\":{\"colorbar\":{\"outlinewidth\":0,\"ticks\":\"\"}},\"marker\":{\"colorbar\":{\"outlinewidth\":0,\"ticks\":\"\"}}}],\"scattermapbox\":[{\"type\":\"scattermapbox\",\"marker\":{\"colorbar\":{\"outlinewidth\":0,\"ticks\":\"\"}}}],\"scatterternary\":[{\"type\":\"scatterternary\",\"marker\":{\"colorbar\":{\"outlinewidth\":0,\"ticks\":\"\"}}}],\"scattercarpet\":[{\"type\":\"scattercarpet\",\"marker\":{\"colorbar\":{\"outlinewidth\":0,\"ticks\":\"\"}}}],\"carpet\":[{\"aaxis\":{\"endlinecolor\":\"#2a3f5f\",\"gridcolor\":\"white\",\"linecolor\":\"white\",\"minorgridcolor\":\"white\",\"startlinecolor\":\"#2a3f5f\"},\"baxis\":{\"endlinecolor\":\"#2a3f5f\",\"gridcolor\":\"white\",\"linecolor\":\"white\",\"minorgridcolor\":\"white\",\"startlinecolor\":\"#2a3f5f\"},\"type\":\"carpet\"}],\"table\":[{\"cells\":{\"fill\":{\"color\":\"#EBF0F8\"},\"line\":{\"color\":\"white\"}},\"header\":{\"fill\":{\"color\":\"#C8D4E3\"},\"line\":{\"color\":\"white\"}},\"type\":\"table\"}],\"barpolar\":[{\"marker\":{\"line\":{\"color\":\"#E5ECF6\",\"width\":0.5},\"pattern\":{\"fillmode\":\"overlay\",\"size\":10,\"solidity\":0.2}},\"type\":\"barpolar\"}],\"pie\":[{\"automargin\":true,\"type\":\"pie\"}]},\"layout\":{\"autotypenumbers\":\"strict\",\"colorway\":[\"#636efa\",\"#EF553B\",\"#00cc96\",\"#ab63fa\",\"#FFA15A\",\"#19d3f3\",\"#FF6692\",\"#B6E880\",\"#FF97FF\",\"#FECB52\"],\"font\":{\"color\":\"#2a3f5f\"},\"hovermode\":\"closest\",\"hoverlabel\":{\"align\":\"left\"},\"paper_bgcolor\":\"white\",\"plot_bgcolor\":\"#E5ECF6\",\"polar\":{\"bgcolor\":\"#E5ECF6\",\"angularaxis\":{\"gridcolor\":\"white\",\"linecolor\":\"white\",\"ticks\":\"\"},\"radialaxis\":{\"gridcolor\":\"white\",\"linecolor\":\"white\",\"ticks\":\"\"}},\"ternary\":{\"bgcolor\":\"#E5ECF6\",\"aaxis\":{\"gridcolor\":\"white\",\"linecolor\":\"white\",\"ticks\":\"\"},\"baxis\":{\"gridcolor\":\"white\",\"linecolor\":\"white\",\"ticks\":\"\"},\"caxis\":{\"gridcolor\":\"white\",\"linecolor\":\"white\",\"ticks\":\"\"}},\"coloraxis\":{\"colorbar\":{\"outlinewidth\":0,\"ticks\":\"\"}},\"colorscale\":{\"sequential\":[[0.0,\"#0d0887\"],[0.1111111111111111,\"#46039f\"],[0.2222222222222222,\"#7201a8\"],[0.3333333333333333,\"#9c179e\"],[0.4444444444444444,\"#bd3786\"],[0.5555555555555556,\"#d8576b\"],[0.6666666666666666,\"#ed7953\"],[0.7777777777777778,\"#fb9f3a\"],[0.8888888888888888,\"#fdca26\"],[1.0,\"#f0f921\"]],\"sequentialminus\":[[0.0,\"#0d0887\"],[0.1111111111111111,\"#46039f\"],[0.2222222222222222,\"#7201a8\"],[0.3333333333333333,\"#9c179e\"],[0.4444444444444444,\"#bd3786\"],[0.5555555555555556,\"#d8576b\"],[0.6666666666666666,\"#ed7953\"],[0.7777777777777778,\"#fb9f3a\"],[0.8888888888888888,\"#fdca26\"],[1.0,\"#f0f921\"]],\"diverging\":[[0,\"#8e0152\"],[0.1,\"#c51b7d\"],[0.2,\"#de77ae\"],[0.3,\"#f1b6da\"],[0.4,\"#fde0ef\"],[0.5,\"#f7f7f7\"],[0.6,\"#e6f5d0\"],[0.7,\"#b8e186\"],[0.8,\"#7fbc41\"],[0.9,\"#4d9221\"],[1,\"#276419\"]]},\"xaxis\":{\"gridcolor\":\"white\",\"linecolor\":\"white\",\"ticks\":\"\",\"title\":{\"standoff\":15},\"zerolinecolor\":\"white\",\"automargin\":true,\"zerolinewidth\":2},\"yaxis\":{\"gridcolor\":\"white\",\"linecolor\":\"white\",\"ticks\":\"\",\"title\":{\"standoff\":15},\"zerolinecolor\":\"white\",\"automargin\":true,\"zerolinewidth\":2},\"scene\":{\"xaxis\":{\"backgroundcolor\":\"#E5ECF6\",\"gridcolor\":\"white\",\"linecolor\":\"white\",\"showbackground\":true,\"ticks\":\"\",\"zerolinecolor\":\"white\",\"gridwidth\":2},\"yaxis\":{\"backgroundcolor\":\"#E5ECF6\",\"gridcolor\":\"white\",\"linecolor\":\"white\",\"showbackground\":true,\"ticks\":\"\",\"zerolinecolor\":\"white\",\"gridwidth\":2},\"zaxis\":{\"backgroundcolor\":\"#E5ECF6\",\"gridcolor\":\"white\",\"linecolor\":\"white\",\"showbackground\":true,\"ticks\":\"\",\"zerolinecolor\":\"white\",\"gridwidth\":2}},\"shapedefaults\":{\"line\":{\"color\":\"#2a3f5f\"}},\"annotationdefaults\":{\"arrowcolor\":\"#2a3f5f\",\"arrowhead\":0,\"arrowwidth\":1},\"geo\":{\"bgcolor\":\"white\",\"landcolor\":\"#E5ECF6\",\"subunitcolor\":\"white\",\"showland\":true,\"showlakes\":true,\"lakecolor\":\"white\"},\"title\":{\"x\":0.05},\"mapbox\":{\"style\":\"light\"}}},\"yaxis2\":{\"title\":{\"text\":\"Engine Oil Pressure\"},\"overlaying\":\"y\",\"side\":\"right\"},\"legend\":{\"x\":1,\"y\":1},\"title\":{\"text\":\"Well Data\"},\"xaxis\":{\"title\":{\"text\":\"Stage\"}},\"yaxis\":{\"title\":{\"text\":\"Fluid Rate\"}},\"showlegend\":true},                        {\"responsive\": true}                    )                };                            </script>        </div>"
      ],
      "text/plain": [
       "Figure({\n",
       "    'data': [{'mode': 'markers',\n",
       "              'name': 'Fluid Rate and Stage',\n",
       "              'type': 'scatter',\n",
       "              'x': array([1, 2, 3, 4], dtype=int32),\n",
       "              'y': array([550., 650., 730., 810.])},\n",
       "             {'mode': 'markers',\n",
       "              'name': 'Fluid Rate and Stage',\n",
       "              'type': 'scatter',\n",
       "              'x': array([1, 2, 3, 4], dtype=int32),\n",
       "              'y': array([100.93333333, 101.16666667,  99.9       , 100.9       ])}],\n",
       "    'layout': {'legend': {'x': 1, 'y': 1},\n",
       "               'showlegend': True,\n",
       "               'template': '...',\n",
       "               'title': {'text': 'Well Data'},\n",
       "               'xaxis': {'title': {'text': 'Stage'}},\n",
       "               'yaxis': {'title': {'text': 'Fluid Rate'}},\n",
       "               'yaxis2': {'overlaying': 'y', 'side': 'right', 'title': {'text': 'Engine Oil Pressure'}}}\n",
       "})"
      ]
     },
     "metadata": {},
     "output_type": "display_data"
    }
   ],
   "source": [
    "sql = \"\"\"\n",
    "SELECT Stage, AVG(Engine_Oil_Pressure) as avg_EOP, AVG(Fluid_Rate) as avg_FR\n",
    "FROM data\n",
    "GROUP BY Stage\n",
    "\"\"\"\n",
    "query = spark.sql(sql)\n",
    "data=query.toPandas().sort_values(by=['Stage'])\n",
    "print(data)\n",
    "\n",
    "fig = go.Figure()\n",
    "scatter_trace1=go.Scatter(\n",
    "    x=data['Stage'],\n",
    "    y=data['avg_FR'],\n",
    "    mode='markers',\n",
    "    name='Fluid Rate and Stage',\n",
    ")\n",
    "scatter_trace2=go.Scatter(\n",
    "    x=data['Stage'],\n",
    "    y=data['avg_EOP'],\n",
    "    mode='markers',\n",
    "    name='Fluid Rate and Stage',\n",
    "\n",
    ")\n",
    "fig = go.Figure(data=[scatter_trace1, scatter_trace2])\n",
    "fig.update_layout(\n",
    "    title='Well Data',\n",
    "    xaxis_title='Stage',\n",
    "    yaxis=dict(title='Fluid Rate'),\n",
    "    yaxis2=dict(title='Engine Oil Pressure', overlaying='y', side='right'),\n",
    "    legend=dict(x=1, y=1),\n",
    "    showlegend=True\n",
    ")\n",
    "display(fig)\n"
   ]
  },
  {
   "attachments": {},
   "cell_type": "markdown",
   "metadata": {},
   "source": []
  }
 ],
 "metadata": {
  "kernelspec": {
   "display_name": "Python 3",
   "language": "python",
   "name": "python3"
  },
  "language_info": {
   "codemirror_mode": {
    "name": "ipython",
    "version": 3
   },
   "file_extension": ".py",
   "mimetype": "text/x-python",
   "name": "python",
   "nbconvert_exporter": "python",
   "pygments_lexer": "ipython3",
   "version": "3.9.6"
  },
  "orig_nbformat": 4
 },
 "nbformat": 4,
 "nbformat_minor": 2
}
